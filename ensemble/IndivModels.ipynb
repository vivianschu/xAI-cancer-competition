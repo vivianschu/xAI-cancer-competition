{
  "nbformat": 4,
  "nbformat_minor": 0,
  "metadata": {
    "colab": {
      "provenance": []
    },
    "kernelspec": {
      "name": "python3",
      "display_name": "Python 3"
    },
    "language_info": {
      "name": "python"
    }
  },
  "cells": [
    {
      "cell_type": "code",
      "execution_count": null,
      "metadata": {
        "id": "YCjAUn-Ogwtv"
      },
      "outputs": [],
      "source": [
        "# load libraries\n",
        "import pandas as pd\n",
        "import numpy as np\n",
        "from sklearn.model_selection import KFold\n",
        "from sklearn import linear_model\n",
        "from sklearn.ensemble import RandomForestRegressor\n",
        "from sklearn.model_selection import train_test_split, GridSearchCV\n",
        "import xgboost as xgb\n",
        "from scipy import stats\n",
        "\n",
        "import warnings\n",
        "\n",
        "# suppress all warnings\n",
        "warnings.filterwarnings('ignore')\n",
        "\n",
        "# set seed\n",
        "np.random.seed(42)"
      ]
    },
    {
      "cell_type": "code",
      "source": [
        "# specify file paths\n",
        "train_df = \"train_subset.csv\"\n",
        "train_targets = \"train_targets.csv\"\n",
        "\n",
        "# read in files\n",
        "X = pd.read_csv(train_df)\n",
        "y = pd.read_csv(train_targets)['AAC']   # keep only AAC column\n",
        "\n",
        "print(X.shape)\n",
        "print(y.shape)"
      ],
      "metadata": {
        "id": "FJUsIM2FlVxT",
        "colab": {
          "base_uri": "https://localhost:8080/"
        },
        "outputId": "18e70293-3a16-411b-e165-485385b8c55e"
      },
      "execution_count": null,
      "outputs": [
        {
          "output_type": "stream",
          "name": "stdout",
          "text": [
            "(742, 457)\n",
            "(742,)\n"
          ]
        }
      ]
    },
    {
      "cell_type": "markdown",
      "source": [
        "Un-penalized Linear Regression Model"
      ],
      "metadata": {
        "id": "_4C6fTxosZRc"
      }
    },
    {
      "cell_type": "code",
      "source": [
        "# create dataframe to store results\n",
        "model_df = pd.DataFrame(columns=['Model', 'Fold', 'Spearman', 'Pearson'])\n",
        "\n",
        "# initialize the outer folds (5 folds, 80% train, 20% test)\n",
        "outer_cv = KFold(n_splits=5, shuffle=True, random_state=42)\n",
        "\n",
        "# initialize variables to store best model correlation and features\n",
        "best_corr = 0\n",
        "best_fold = 0\n",
        "best_feat = None\n",
        "\n",
        "# loop through each of the outer five folds\n",
        "fold = 1\n",
        "for train_index, test_index in outer_cv.split(X):\n",
        "\n",
        "  # split train and test\n",
        "  X_train, X_test = X.iloc[train_index], X.iloc[test_index]\n",
        "  y_train, y_test = y.iloc[train_index], y.iloc[test_index]\n",
        "\n",
        "  # initialize linear regression model\n",
        "  reg = linear_model.LinearRegression()\n",
        "\n",
        "  # fit model\n",
        "  reg.fit(X_train, y_train)\n",
        "\n",
        "  # get predicted values for test data\n",
        "  y_pred = reg.predict(X_test)\n",
        "\n",
        "  # compute correlations\n",
        "  s_cor = stats.spearmanr(y_pred, y_test)\n",
        "  p_cor = stats.pearsonr(y_pred, y_test)\n",
        "\n",
        "  # save model correlation and features (if better than previous)\n",
        "  if s_cor[0] > best_corr:\n",
        "          best_corr = s_cor[0]\n",
        "          best_fold = fold\n",
        "          best_feat = reg.coef_\n",
        "\n",
        "  # save results to dataframe\n",
        "  new_row = pd.DataFrame({'Model': ['Linear'], 'Fold': [fold], 'Spearman': [s_cor[0]], 'Pearson': [p_cor[0]]})\n",
        "  model_df = pd.concat([model_df, new_row],ignore_index = True)\n",
        "\n",
        "  # print results from fold\n",
        "  print(\"Fold\", fold, \"Spearman correlation:\", s_cor[0])\n",
        "\n",
        "  fold += 1\n",
        "\n",
        "# print best results\n",
        "print(\"\\nBest correlation:\", best_corr, \"from Fold\", best_fold)\n",
        "\n",
        "# create feature importance dataframe\n",
        "feature_importance = pd.DataFrame({\n",
        "    'Peak': X_train.columns,\n",
        "    'Weight': best_feat\n",
        "}).sort_values(by='Weight', ascending=False)\n",
        "\n",
        "# save feature importance dataframe\n",
        "filename = f\"lm_features.csv\"\n",
        "feature_importance.to_csv(filename, index=False)\n",
        "\n",
        "model_df.to_csv('lm.csv', index=False)"
      ],
      "metadata": {
        "colab": {
          "base_uri": "https://localhost:8080/"
        },
        "id": "4oFBHcoXrWb2",
        "outputId": "8b57e3f4-caf6-4804-943b-d7e75e906be3"
      },
      "execution_count": null,
      "outputs": [
        {
          "output_type": "stream",
          "name": "stdout",
          "text": [
            "Fold 1 Spearman correlation: 0.16514979607280156\n",
            "Fold 2 Spearman correlation: 0.37989986437942075\n",
            "Fold 3 Spearman correlation: 0.26720022804599586\n",
            "Fold 4 Spearman correlation: 0.33431679405580367\n",
            "Fold 5 Spearman correlation: 0.24743599948493225\n",
            "\n",
            "Best correlation: 0.37989986437942075 from Fold 2\n"
          ]
        }
      ]
    },
    {
      "cell_type": "markdown",
      "source": [
        "LASSO Model"
      ],
      "metadata": {
        "id": "BD6UlJN-td7_"
      }
    },
    {
      "cell_type": "code",
      "source": [
        "# create dataframe to store results\n",
        "model_df = pd.DataFrame(columns=['Model', 'Fold', 'Spearman', 'Pearson', 'alpha', 'max_iter'])\n",
        "\n",
        "# initialize the outer folds (5 folds, 80% train, 20% test)\n",
        "outer_cv = KFold(n_splits=5, shuffle=True, random_state=42)\n",
        "\n",
        "# initialize variables to store best model correlation and features\n",
        "best_corr = 0\n",
        "best_fold = 0\n",
        "best_feat = None\n",
        "\n",
        "# loop through each of the outer five folds\n",
        "fold = 1\n",
        "for train_index, test_index in outer_cv.split(X):\n",
        "\n",
        "  # split train and test\n",
        "  X_train, X_test = X.iloc[train_index], X.iloc[test_index]\n",
        "  y_train, y_test = y.iloc[train_index], y.iloc[test_index]\n",
        "\n",
        "  # initialize LASSO model\n",
        "  lasso = linear_model.Lasso()\n",
        "\n",
        "  # specify parameters for optimization\n",
        "  parameters = {\n",
        "      'alpha': [0.001, 0.01, 0.1, 1, 10, 100],\n",
        "      'max_iter': [500, 1000, 5000, 7500]\n",
        "    }\n",
        "\n",
        "  # identify optimal parameters\n",
        "  reg = GridSearchCV(\n",
        "      estimator = lasso,\n",
        "      param_grid = parameters,\n",
        "      #verbose=2\n",
        "    )\n",
        "\n",
        "  # fit model\n",
        "  reg.fit(X_train, y_train)\n",
        "\n",
        "  # get best model parameters\n",
        "  reg_best = reg.best_estimator_\n",
        "\n",
        "  alpha = reg.best_params_['alpha']\n",
        "  max_iter = reg.best_params_['max_iter']\n",
        "\n",
        "  # get predicted values for test data\n",
        "  y_pred = reg_best.predict(X_test)\n",
        "\n",
        "  # compute correlations\n",
        "  s_cor = stats.spearmanr(y_pred, y_test)\n",
        "  p_cor = stats.pearsonr(y_pred, y_test)\n",
        "\n",
        "  # save model correlation and features (if better than previous)\n",
        "  if s_cor[0] > best_corr:\n",
        "          best_corr = s_cor[0]\n",
        "          best_fold = fold\n",
        "          best_feat = reg_best.coef_\n",
        "\n",
        "  # save results to dataframe\n",
        "  new_row = pd.DataFrame({'Model': ['LASSO'], 'Fold': [fold], 'Spearman': [s_cor[0]], 'Pearson': [p_cor[0]],\n",
        "                          'alpha': [alpha], 'max_iter': [max_iter]})\n",
        "  model_df = pd.concat([model_df, new_row],ignore_index = True)\n",
        "\n",
        "  # print results from fold\n",
        "  print(\"Fold\", fold, \"Spearman correlation:\", s_cor[0])\n",
        "\n",
        "  fold += 1\n",
        "\n",
        "# print results\n",
        "print(\"\\nBest correlation:\", best_corr, \"from Fold\", best_fold)\n",
        "\n",
        "# create feature importance dataframe\n",
        "feature_importance = pd.DataFrame({\n",
        "    'Peak': X_train.columns,\n",
        "    'Weight': best_feat\n",
        "}).sort_values(by='Weight', ascending=False)\n",
        "\n",
        "# save feature importance dataframe\n",
        "filename = f\"lasso_features.csv\"\n",
        "feature_importance.to_csv(filename, index=False)\n",
        "\n",
        "model_df.to_csv('lasso.csv', index=False)"
      ],
      "metadata": {
        "colab": {
          "base_uri": "https://localhost:8080/"
        },
        "id": "63aiMYVMtdG4",
        "outputId": "103e3389-8bf0-4198-d903-ef1b0ad3b89a"
      },
      "execution_count": null,
      "outputs": [
        {
          "output_type": "stream",
          "name": "stdout",
          "text": [
            "Fold 1 Spearman correlation: 0.38029056801264327\n",
            "Fold 2 Spearman correlation: 0.30256149950651956\n",
            "Fold 3 Spearman correlation: 0.4391997320041713\n",
            "Fold 4 Spearman correlation: 0.42982662342267414\n",
            "Fold 5 Spearman correlation: 0.4458852904947652\n",
            "\n",
            "Best correlation: 0.4458852904947652 from Fold 5\n"
          ]
        }
      ]
    },
    {
      "cell_type": "markdown",
      "source": [
        "Ridge Model"
      ],
      "metadata": {
        "id": "9XWQ7WaFtlGK"
      }
    },
    {
      "cell_type": "code",
      "source": [
        "# create dataframe to store results\n",
        "model_df = pd.DataFrame(columns=['Model', 'Fold', 'Spearman', 'Pearson', 'alpha', 'max_iter'])\n",
        "\n",
        "# initialize the outer folds (5 folds, 80% train, 20% test)\n",
        "outer_cv = KFold(n_splits=5, shuffle=True, random_state=42)\n",
        "\n",
        "# initialize variables to store best model correlation and features\n",
        "best_corr = 0\n",
        "best_fold = 0\n",
        "best_feat = None\n",
        "\n",
        "# loop through each of the outer five folds\n",
        "fold = 1\n",
        "for train_index, test_index in outer_cv.split(X):\n",
        "\n",
        "  # split train and test\n",
        "  X_train, X_test = X.iloc[train_index], X.iloc[test_index]\n",
        "  y_train, y_test = y.iloc[train_index], y.iloc[test_index]\n",
        "\n",
        "  # initialize LASSO model\n",
        "  ridge = linear_model.Ridge()\n",
        "\n",
        "  # specify parameters for optimization\n",
        "  parameters = {\n",
        "      'alpha': [0.1, 1, 10, 100],\n",
        "      'max_iter': [500, 1000, 5000, 7500]\n",
        "    }\n",
        "\n",
        "  # identify optimal parameters\n",
        "  reg = GridSearchCV(\n",
        "      estimator = ridge,\n",
        "      param_grid = parameters,\n",
        "      #verbose=2\n",
        "    )\n",
        "\n",
        "  # fit model\n",
        "  reg.fit(X_train, y_train)\n",
        "\n",
        "  # get best model parameters\n",
        "  reg_best = reg.best_estimator_\n",
        "\n",
        "  alpha = reg.best_params_['alpha']\n",
        "  max_iter = reg.best_params_['max_iter']\n",
        "\n",
        "  # get predicted values for test data\n",
        "  y_pred = reg_best.predict(X_test)\n",
        "\n",
        "  # compute correlations\n",
        "  s_cor = stats.spearmanr(y_pred, y_test)\n",
        "  p_cor = stats.pearsonr(y_pred, y_test)\n",
        "\n",
        "  # save model correlation and features (if better than previous)\n",
        "  if s_cor[0] > best_corr:\n",
        "          best_corr = s_cor[0]\n",
        "          best_fold = fold\n",
        "          best_feat = reg_best.coef_\n",
        "\n",
        "  # save results to dataframe\n",
        "  new_row = pd.DataFrame({'Model': ['Ridge'], 'Fold': [fold], 'Spearman': [s_cor[0]], 'Pearson': [p_cor[0]],\n",
        "                          'alpha': [alpha], 'max_iter': [max_iter]})\n",
        "  model_df = pd.concat([model_df, new_row],ignore_index = True)\n",
        "\n",
        "  # print results from fold\n",
        "  print(\"Fold\", fold, \"Spearman correlation:\", s_cor[0])\n",
        "\n",
        "  fold += 1\n",
        "\n",
        "# print results\n",
        "print(\"\\nBest correlation:\", best_corr, \"from Fold\", best_fold)\n",
        "\n",
        "# create feature importance dataframe\n",
        "feature_importance = pd.DataFrame({\n",
        "    'Peak': X_train.columns,\n",
        "    'Weight': best_feat\n",
        "}).sort_values(by='Weight', ascending=False)\n",
        "\n",
        "# save feature importance dataframe\n",
        "filename = f\"ridge_features.csv\"\n",
        "feature_importance.to_csv(filename, index=False)\n",
        "\n",
        "model_df.to_csv('ridge.csv', index=False)"
      ],
      "metadata": {
        "colab": {
          "base_uri": "https://localhost:8080/"
        },
        "id": "ePYbsSSGtnNl",
        "outputId": "f2f26207-3cd4-407c-d057-fa1967c20b5b"
      },
      "execution_count": null,
      "outputs": [
        {
          "output_type": "stream",
          "name": "stdout",
          "text": [
            "Fold 1 Spearman correlation: 0.13362246836797476\n",
            "Fold 2 Spearman correlation: 0.4032036886231177\n",
            "Fold 3 Spearman correlation: 0.3181470711948323\n",
            "Fold 4 Spearman correlation: 0.2812802511462029\n",
            "Fold 5 Spearman correlation: 0.2400581932436511\n",
            "\n",
            "Best correlation: 0.4032036886231177 from Fold 2\n"
          ]
        }
      ]
    },
    {
      "cell_type": "markdown",
      "source": [
        "Elastic Net Model"
      ],
      "metadata": {
        "id": "oPtIrqbdts_e"
      }
    },
    {
      "cell_type": "code",
      "source": [
        "# create dataframe to store results\n",
        "model_df = pd.DataFrame(columns=['Model', 'Fold', 'Spearman', 'Pearson', 'alpha', 'l1_ratio', 'max_iter'])\n",
        "\n",
        "# initialize the outer folds (5 folds, 80% train, 20% test)\n",
        "outer_cv = KFold(n_splits=5, shuffle=True, random_state=42)\n",
        "\n",
        "# initialize variables to store best model correlation and features\n",
        "best_corr = 0\n",
        "best_fold = 0\n",
        "best_feat = None\n",
        "\n",
        "# loop through each of the outer five folds\n",
        "fold = 1\n",
        "for train_index, test_index in outer_cv.split(X):\n",
        "\n",
        "  # split train and test\n",
        "  X_train, X_test = X.iloc[train_index], X.iloc[test_index]\n",
        "  y_train, y_test = y.iloc[train_index], y.iloc[test_index]\n",
        "\n",
        "  # initialize Elastic Net model\n",
        "  en = linear_model.ElasticNet()\n",
        "\n",
        "  # specify parameters for optimization\n",
        "  parameters = {\n",
        "    'alpha': [0.1, 1, 10, 100],\n",
        "    'l1_ratio': [0.2, 0.5, 0.8],\n",
        "    'max_iter': [1000, 5000, 7500]\n",
        "  }\n",
        "\n",
        "  # identify optimal parameters\n",
        "  reg = GridSearchCV(\n",
        "      estimator = en,\n",
        "      param_grid = parameters,\n",
        "      #verbose=2\n",
        "    )\n",
        "\n",
        "  # fit model\n",
        "  reg.fit(X_train, y_train)\n",
        "\n",
        "  # get best model parameters\n",
        "  reg_best = reg.best_estimator_\n",
        "\n",
        "  alpha = reg.best_params_['alpha']\n",
        "  l1_ratio = reg.best_params_['l1_ratio']\n",
        "  max_iter = reg.best_params_['max_iter']\n",
        "\n",
        "  # get predicted values for test data\n",
        "  y_pred = reg_best.predict(X_test)\n",
        "\n",
        "  # compute correlations\n",
        "  s_cor = stats.spearmanr(y_pred, y_test)\n",
        "  p_cor = stats.pearsonr(y_pred, y_test)\n",
        "\n",
        "  # save model correlation and features (if better than previous)\n",
        "  if s_cor[0] > best_corr:\n",
        "          best_corr = s_cor[0]\n",
        "          best_fold = fold\n",
        "          best_feat = reg_best.coef_\n",
        "\n",
        "  # save results to dataframe\n",
        "  new_row = pd.DataFrame({'Model': ['ElasticNet'], 'Fold': [fold], 'Spearman': [s_cor[0]], 'Pearson': [p_cor[0]], 'alpha': [alpha], 'l1_ratio': [l1_ratio], 'max_iter': [max_iter]})\n",
        "  model_df = pd.concat([model_df, new_row],ignore_index = True)\n",
        "\n",
        "  # print results from fold\n",
        "  print(\"Fold\", fold, \"Spearman correlation:\", s_cor[0])\n",
        "\n",
        "  fold += 1\n",
        "\n",
        "# print results\n",
        "print(\"\\nBest correlation:\", best_corr, \"from Fold\", best_fold)\n",
        "\n",
        "# create feature importance dataframe\n",
        "feature_importance = pd.DataFrame({\n",
        "    'Peak': X_train.columns,\n",
        "    'Weight': best_feat\n",
        "}).sort_values(by='Weight', ascending=False)\n",
        "\n",
        "# save feature importance dataframe\n",
        "filename = f\"en_features.csv\"\n",
        "feature_importance.to_csv(filename, index=False)\n",
        "\n",
        "model_df.to_csv('en.csv', index=False)"
      ],
      "metadata": {
        "colab": {
          "base_uri": "https://localhost:8080/"
        },
        "id": "4qjiKp_atuWx",
        "outputId": "079ad287-1fcd-4cdb-946d-da95367925fa"
      },
      "execution_count": null,
      "outputs": [
        {
          "output_type": "stream",
          "name": "stdout",
          "text": [
            "Fold 1 Spearman correlation: 0.34606416294605463\n",
            "Fold 2 Spearman correlation: 0.39011320164331714\n",
            "Fold 3 Spearman correlation: 0.526304489082618\n",
            "Fold 4 Spearman correlation: 0.43093162852203315\n",
            "Fold 5 Spearman correlation: 0.44804162372885764\n",
            "\n",
            "Best correlation: 0.526304489082618 from Fold 3\n"
          ]
        }
      ]
    },
    {
      "cell_type": "markdown",
      "source": [
        "Random Forest Model"
      ],
      "metadata": {
        "id": "Q0KY-YQ0t0z3"
      }
    },
    {
      "cell_type": "code",
      "source": [
        "# create dataframe to store results\n",
        "model_df = pd.DataFrame(columns=['Model', 'PSet', 'Fold', 'Spearman', 'Pearson', 'n_estimators', 'max_depth', 'min_samples_split', 'min_samples_leaf', 'max_features'])\n",
        "\n",
        "# initialize the outer folds (5 folds, 80% train, 20% test)\n",
        "outer_cv = KFold(n_splits=5, shuffle=True, random_state=42)\n",
        "\n",
        "# initialize variables to store best model correlation and features\n",
        "best_corr = 0\n",
        "best_fold = 0\n",
        "best_feat = None\n",
        "\n",
        "# loop through each of the outer five folds\n",
        "fold = 1\n",
        "for train_index, test_index in outer_cv.split(X):\n",
        "\n",
        "  #print(\"Starting fold\", fold)\n",
        "\n",
        "  # split train and test\n",
        "  X_train, X_test = X.iloc[train_index], X.iloc[test_index]\n",
        "  y_train, y_test = y.iloc[train_index], y.iloc[test_index]\n",
        "\n",
        "  # initialize Random Forest model\n",
        "  rf = RandomForestRegressor()\n",
        "\n",
        "  # specify parameters for optimization\n",
        "  parameters = {\n",
        "    'n_estimators': [10, 50, 100, 150, 200],\n",
        "    'max_depth': [None, 10, 20],\n",
        "    'min_samples_split': [2, 5],\n",
        "    'min_samples_leaf': [1, 2, 5],\n",
        "    'max_features': ['sqrt', 'log2']\n",
        "  }\n",
        "\n",
        "  # identify optimal parameters\n",
        "  reg = GridSearchCV(\n",
        "      estimator = rf,\n",
        "      param_grid = parameters,\n",
        "      #verbose=2\n",
        "    )\n",
        "\n",
        "  # fit model\n",
        "  reg.fit(X_train, y_train)\n",
        "\n",
        "  # get best model parameters\n",
        "  reg_best = reg.best_estimator_\n",
        "\n",
        "  n_estimators = reg.best_params_['n_estimators']\n",
        "  max_depth = reg.best_params_['max_depth']\n",
        "  min_samples_split = reg.best_params_['min_samples_split']\n",
        "  min_samples_leaf = reg.best_params_['min_samples_leaf']\n",
        "  max_features = reg.best_params_['max_features']\n",
        "\n",
        "  # get predicted values for test data\n",
        "  y_pred = reg_best.predict(X_test)\n",
        "\n",
        "  # compute correlations\n",
        "  s_cor = stats.spearmanr(y_pred, y_test)\n",
        "  p_cor = stats.pearsonr(y_pred, y_test)\n",
        "\n",
        "  # save model correlation and features (if better than previous)\n",
        "  if s_cor[0] > best_corr:\n",
        "          best_corr = s_cor[0]\n",
        "          best_fold = fold\n",
        "          best_feat = reg_best.feature_importances_\n",
        "\n",
        "  # save results to dataframe\n",
        "  new_row = pd.DataFrame({'Model': ['Random Forest'], 'Fold': [fold], 'Spearman': [s_cor[0]], 'Pearson': [p_cor[0]],\n",
        "                          'n_estimators': [n_estimators], 'max_depth': [max_depth], 'min_samples_split': [min_samples_split],\n",
        "                          'min_samples_leaf': [min_samples_leaf], 'max_features': [max_features]})\n",
        "  model_df = pd.concat([model_df, new_row],ignore_index = True)\n",
        "\n",
        "  # print results from fold\n",
        "  print(\"Fold\", fold, \"Spearman correlation:\", s_cor[0])\n",
        "\n",
        "  fold += 1\n",
        "\n",
        "# print results\n",
        "print(\"\\nBest correlation:\", best_corr, \"from Fold\", best_fold)\n",
        "\n",
        "# create feature importance dataframe\n",
        "feature_importance = pd.DataFrame({\n",
        "    'Peak': X_train.columns,\n",
        "    'Weight': best_feat\n",
        "}).sort_values(by='Weight', ascending=False)\n",
        "\n",
        "# save feature importance dataframe\n",
        "filename = f\"rf_features.csv\"\n",
        "feature_importance.to_csv(filename, index=False)\n",
        "\n",
        "model_df.to_csv('rf.csv', index=False)"
      ],
      "metadata": {
        "colab": {
          "base_uri": "https://localhost:8080/"
        },
        "id": "t0m07PzNt25l",
        "outputId": "c2617173-5538-414a-e256-c861225c13d1"
      },
      "execution_count": null,
      "outputs": [
        {
          "output_type": "stream",
          "name": "stdout",
          "text": [
            "Fold 1 Spearman correlation: 0.44140435462049227\n",
            "Fold 2 Spearman correlation: 0.43563239500489614\n",
            "Fold 3 Spearman correlation: 0.4798294923660282\n",
            "Fold 4 Spearman correlation: 0.522691474084379\n",
            "Fold 5 Spearman correlation: 0.5292067470320231\n",
            "\n",
            "Best correlation: 0.5292067470320231 from Fold 5\n"
          ]
        }
      ]
    },
    {
      "cell_type": "markdown",
      "source": [
        "XGBoost Model"
      ],
      "metadata": {
        "id": "WhW4LUOKwflm"
      }
    },
    {
      "cell_type": "code",
      "source": [
        "# create dataframe to store results\n",
        "model_df = pd.DataFrame(columns=['Model', 'PSet', 'Fold', 'Spearman', 'Pearson'])\n",
        "\n",
        "# initialize the outer folds (5 folds, 80% train, 20% test)\n",
        "outer_cv = KFold(n_splits=5, shuffle=True, random_state=42)\n",
        "\n",
        "# initialize variables to store best model correlation and features\n",
        "best_corr = 0\n",
        "best_fold = 0\n",
        "best_feat = None\n",
        "\n",
        "# loop through each of the outer five folds\n",
        "fold = 1\n",
        "for train_index, test_index in outer_cv.split(X):\n",
        "\n",
        "  # split train and test\n",
        "  X_train, X_test = X.iloc[train_index], X.iloc[test_index]\n",
        "  y_train, y_test = y.iloc[train_index], y.iloc[test_index]\n",
        "\n",
        "  # initialize XGBoost model\n",
        "  reg = xgb.XGBRegressor(tree_method=\"hist\",\n",
        "                        early_stopping_rounds=2,\n",
        "                        eval_metric=\"rmse\", verbosity=0,\n",
        "                        objective='reg:squarederror',\n",
        "                        max_depth=5, subsample=0.8)\n",
        "\n",
        "  # fit model\n",
        "  reg.fit(X_train, y_train, eval_set = [(X_test, y_test)], verbose=0)\n",
        "\n",
        "  # get predicted values for test data\n",
        "  y_pred = reg.predict(X_test)\n",
        "\n",
        "  # compute correlations\n",
        "  s_cor = stats.spearmanr(y_pred, y_test)\n",
        "  p_cor = stats.pearsonr(y_pred, y_test)\n",
        "\n",
        "  # save model correlation and features (if better than previous)\n",
        "  if s_cor[0] > best_corr:\n",
        "          best_corr = s_cor[0]\n",
        "          best_fold = fold\n",
        "          best_feat = reg.feature_importances_\n",
        "\n",
        "  # save results to dataframe\n",
        "  new_row = pd.DataFrame({'Model': ['Random Forest'], 'Fold': [fold], 'Spearman': [s_cor[0]], 'Pearson': [p_cor[0]]})\n",
        "  model_df = pd.concat([model_df, new_row],ignore_index = True)\n",
        "\n",
        "  # print results from fold\n",
        "  print(\"Fold\", fold, \"Spearman correlation:\", s_cor[0])\n",
        "\n",
        "  fold += 1\n",
        "\n",
        "# print results\n",
        "print(\"\\nBest correlation:\", best_corr, \"from Fold\", best_fold)\n",
        "\n",
        "# create feature importance dataframe\n",
        "feature_importance = pd.DataFrame({\n",
        "    'Peak': X_train.columns,\n",
        "    'Weight': best_feat\n",
        "}).sort_values(by='Weight', ascending=False)\n",
        "\n",
        "# save feature importance dataframe\n",
        "filename = f\"xg_features.csv\"\n",
        "feature_importance.to_csv(filename, index=False)\n",
        "\n",
        "model_df.to_csv('xg.csv', index=False)"
      ],
      "metadata": {
        "colab": {
          "base_uri": "https://localhost:8080/"
        },
        "id": "lCCZvO5AwhVl",
        "outputId": "a3ebbd30-dcb2-42d9-e1f6-d326d0bcf798"
      },
      "execution_count": null,
      "outputs": [
        {
          "output_type": "stream",
          "name": "stdout",
          "text": [
            "Fold 1 Spearman correlation: 0.3242947460344039\n",
            "Fold 2 Spearman correlation: 0.4268242632099374\n",
            "Fold 3 Spearman correlation: 0.47536812919016647\n",
            "Fold 4 Spearman correlation: 0.48367816860854423\n",
            "Fold 5 Spearman correlation: 0.5317665829657139\n",
            "\n",
            "Best correlation: 0.5317665829657139 from Fold 5\n"
          ]
        }
      ]
    }
  ]
}