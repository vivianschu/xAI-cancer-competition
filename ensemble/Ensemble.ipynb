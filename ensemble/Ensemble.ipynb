{
  "nbformat": 4,
  "nbformat_minor": 0,
  "metadata": {
    "colab": {
      "provenance": []
    },
    "kernelspec": {
      "name": "python3",
      "display_name": "Python 3"
    },
    "language_info": {
      "name": "python"
    }
  },
  "cells": [
    {
      "cell_type": "code",
      "execution_count": 1,
      "metadata": {
        "id": "YCjAUn-Ogwtv"
      },
      "outputs": [],
      "source": [
        "# load libraries\n",
        "import pandas as pd\n",
        "import numpy as np\n",
        "from sklearn.model_selection import KFold\n",
        "from sklearn import linear_model\n",
        "from sklearn.ensemble import RandomForestRegressor\n",
        "from sklearn.model_selection import train_test_split, GridSearchCV\n",
        "import xgboost as xgb\n",
        "from scipy import stats\n",
        "\n",
        "import warnings\n",
        "\n",
        "# suppress all warnings\n",
        "warnings.filterwarnings('ignore')\n",
        "\n",
        "# set seed\n",
        "np.random.seed(42)"
      ]
    },
    {
      "cell_type": "code",
      "source": [
        "# specify file paths\n",
        "train_df = \"train_subset.csv\"\n",
        "train_targets = \"train_targets.csv\"\n",
        "\n",
        "# read in files\n",
        "X = pd.read_csv(train_df)\n",
        "y = pd.read_csv(train_targets)['AAC']   # keep only AAC column\n",
        "\n",
        "print(X.shape)\n",
        "print(y.shape)"
      ],
      "metadata": {
        "id": "FJUsIM2FlVxT",
        "colab": {
          "base_uri": "https://localhost:8080/"
        },
        "outputId": "de07f55a-ef58-4286-f2e2-210d742fefd8"
      },
      "execution_count": 2,
      "outputs": [
        {
          "output_type": "stream",
          "name": "stdout",
          "text": [
            "(742, 457)\n",
            "(742,)\n"
          ]
        }
      ]
    },
    {
      "cell_type": "markdown",
      "source": [
        "Ensemble 1: Elastic Net, Random Forest, and XGBoost"
      ],
      "metadata": {
        "id": "_4C6fTxosZRc"
      }
    },
    {
      "cell_type": "code",
      "source": [
        "# create dataframe to store results\n",
        "model_df = pd.DataFrame(columns=['Model', 'Fold', 'Spearman', 'Pearson'])\n",
        "\n",
        "# initialize the outer folds (5 folds, 80% train, 20% test)\n",
        "outer_cv = KFold(n_splits=5, shuffle=True, random_state=42)\n",
        "\n",
        "# initialize variables to store best model correlation and features\n",
        "best_corr = 0\n",
        "best_fold = 0\n",
        "en_feat = None\n",
        "rf_feat = None\n",
        "xg_feat = None\n",
        "\n",
        "# loop through each of the outer five folds\n",
        "fold = 1\n",
        "for train_index, test_index in outer_cv.split(X):\n",
        "\n",
        "  # split train and test\n",
        "  X_train, X_test = X.iloc[train_index], X.iloc[test_index]\n",
        "  y_train, y_test = y.iloc[train_index], y.iloc[test_index]\n",
        "\n",
        "  # initialize models\n",
        "  en = linear_model.ElasticNet(alpha = 1,\n",
        "                               l1_ratio = 0.5,\n",
        "                               max_iter = 1000)\n",
        "  rf = RandomForestRegressor(n_estimators = 200,\n",
        "                             max_depth = 20,\n",
        "                             min_samples_split = 5,\n",
        "                             min_samples_leaf = 1,\n",
        "                             max_features = 'sqrt')\n",
        "  xg = xgb.XGBRegressor(tree_method=\"hist\",\n",
        "                        early_stopping_rounds=2,\n",
        "                        eval_metric=\"rmse\", verbosity=0,\n",
        "                        objective='reg:squarederror',\n",
        "                        max_depth=5, subsample=0.8)\n",
        "\n",
        "  # fit models\n",
        "  en.fit(X_train, y_train)\n",
        "  rf.fit(X_train, y_train)\n",
        "  xg.fit(X_train, y_train, eval_set = [(X_test, y_test)], verbose=0)\n",
        "\n",
        "\n",
        "  # get predicted values for test data\n",
        "  en_y_pred = en.predict(X_test)\n",
        "  rf_y_pred = rf.predict(X_test)\n",
        "  xg_y_pred = xg.predict(X_test)\n",
        "\n",
        "  # average predictions\n",
        "  y_pred = (en_y_pred + rf_y_pred + xg_y_pred) / 3\n",
        "\n",
        "  # compute correlations\n",
        "  s_cor = stats.spearmanr(y_pred, y_test)\n",
        "  p_cor = stats.pearsonr(y_pred, y_test)\n",
        "\n",
        "  # save model correlation and features (if better than previous)\n",
        "  if s_cor[0] > best_corr:\n",
        "          best_corr = s_cor[0]\n",
        "          best_fold = fold\n",
        "          en_feat = en.coef_\n",
        "          rf_feat = rf.feature_importances_\n",
        "          xg_feat = xg.feature_importances_\n",
        "\n",
        "  # save results to dataframe\n",
        "  new_row = pd.DataFrame({'Model': ['en+rf+xgb'], 'Fold': [fold], 'Spearman': [s_cor[0]], 'Pearson': [p_cor[0]]})\n",
        "  model_df = pd.concat([model_df, new_row],ignore_index = True)\n",
        "\n",
        "  # print results from fold\n",
        "  print(\"Fold\", fold, \"Spearman correlation:\", s_cor[0])\n",
        "\n",
        "  fold += 1\n",
        "\n",
        "# print results\n",
        "print(\"\\nBest correlation:\", best_corr, \"from Fold\", best_fold)\n",
        "\n",
        "# create feature importance dataframes\n",
        "en_feat = pd.DataFrame({\n",
        "    'Peak': X_train.columns,\n",
        "    'Weight': en_feat\n",
        "}).sort_values(by='Weight', ascending=False)\n",
        "rf_feat = pd.DataFrame({\n",
        "    'Peak': X_train.columns,\n",
        "    'Weight': rf_feat\n",
        "}).sort_values(by='Weight', ascending=False)\n",
        "xg_feat = pd.DataFrame({\n",
        "    'Peak': X_train.columns,\n",
        "    'Weight': xg_feat\n",
        "}).sort_values(by='Weight', ascending=False)\n",
        "\n",
        "# save feature importance dataframe\n",
        "en_feat.to_csv(\"e1_en_features.csv\", index=False)\n",
        "rf_feat.to_csv(\"e1_rf_features.csv\", index=False)\n",
        "xg_feat.to_csv(\"e1_xg_features.csv\", index=False)\n",
        "\n",
        "model_df.to_csv('ensemble1.csv', index=False)"
      ],
      "metadata": {
        "colab": {
          "base_uri": "https://localhost:8080/"
        },
        "id": "4qjiKp_atuWx",
        "outputId": "1657bed5-c481-4607-d12e-8b3f2775a9ea"
      },
      "execution_count": 5,
      "outputs": [
        {
          "output_type": "stream",
          "name": "stdout",
          "text": [
            "Fold 1 Spearman correlation: 0.44058447359393565\n",
            "Fold 2 Spearman correlation: 0.45547493194850175\n",
            "Fold 3 Spearman correlation: 0.5551900997703834\n",
            "Fold 4 Spearman correlation: 0.5250143910017918\n",
            "Fold 5 Spearman correlation: 0.54151172843996\n",
            "\n",
            "Best correlation: 0.5551900997703834 from Fold 3\n"
          ]
        }
      ]
    },
    {
      "cell_type": "markdown",
      "source": [
        "Ensemble 2: Random Forest and XGBoost"
      ],
      "metadata": {
        "id": "Q0KY-YQ0t0z3"
      }
    },
    {
      "cell_type": "code",
      "source": [
        "# create dataframe to store results\n",
        "model_df = pd.DataFrame(columns=['Model', 'Fold', 'Spearman', 'Pearson'])\n",
        "\n",
        "# initialize the outer folds (5 folds, 80% train, 20% test)\n",
        "outer_cv = KFold(n_splits=5, shuffle=True, random_state=42)\n",
        "\n",
        "# initialize variables to store best model correlation and features\n",
        "best_corr = 0\n",
        "best_fold = 0\n",
        "rf_feat = None\n",
        "xg_feat = None\n",
        "\n",
        "# loop through each of the outer five folds\n",
        "fold = 1\n",
        "for train_index, test_index in outer_cv.split(X):\n",
        "\n",
        "  # split train and test\n",
        "  X_train, X_test = X.iloc[train_index], X.iloc[test_index]\n",
        "  y_train, y_test = y.iloc[train_index], y.iloc[test_index]\n",
        "\n",
        "  # initialize models\n",
        "  rf = RandomForestRegressor(n_estimators = 200,\n",
        "                             max_depth = 20,\n",
        "                             min_samples_split = 5,\n",
        "                             min_samples_leaf = 1,\n",
        "                             max_features = 'sqrt')\n",
        "  xg = xgb.XGBRegressor(tree_method=\"hist\",\n",
        "                        early_stopping_rounds=2,\n",
        "                        eval_metric=\"rmse\", verbosity=0,\n",
        "                        objective='reg:squarederror',\n",
        "                        max_depth=5, subsample=0.8)\n",
        "\n",
        "  # fit models\n",
        "  rf.fit(X_train, y_train)\n",
        "  xg.fit(X_train, y_train, eval_set = [(X_test, y_test)], verbose=0)\n",
        "\n",
        "\n",
        "  # get predicted values for test data\n",
        "  rf_y_pred = rf.predict(X_test)\n",
        "  xg_y_pred = xg.predict(X_test)\n",
        "\n",
        "  # average predictions\n",
        "  y_pred = (rf_y_pred + xg_y_pred) / 2\n",
        "\n",
        "  # compute correlations\n",
        "  s_cor = stats.spearmanr(y_pred, y_test)\n",
        "  p_cor = stats.pearsonr(y_pred, y_test)\n",
        "\n",
        "  # save model correlation and features (if better than previous)\n",
        "  if s_cor[0] > best_corr:\n",
        "          best_corr = s_cor[0]\n",
        "          best_fold = fold\n",
        "          rf_feat = rf.feature_importances_\n",
        "          xg_feat = xg.feature_importances_\n",
        "\n",
        "  # save results to dataframe\n",
        "  new_row = pd.DataFrame({'Model': ['rf+xgb'], 'Fold': [fold], 'Spearman': [s_cor[0]], 'Pearson': [p_cor[0]]})\n",
        "  model_df = pd.concat([model_df, new_row],ignore_index = True)\n",
        "\n",
        "  # print results from fold\n",
        "  print(\"Fold\", fold, \"Spearman correlation:\", s_cor[0])\n",
        "\n",
        "  fold += 1\n",
        "\n",
        "# print results\n",
        "print(\"\\nBest correlation:\", best_corr, \"from Fold\", best_fold)\n",
        "\n",
        "# create feature importance dataframes\n",
        "rf_feat = pd.DataFrame({\n",
        "    'Peak': X_train.columns,\n",
        "    'Weight': rf_feat\n",
        "}).sort_values(by='Weight', ascending=False)\n",
        "xg_feat = pd.DataFrame({\n",
        "    'Peak': X_train.columns,\n",
        "    'Weight': xg_feat\n",
        "}).sort_values(by='Weight', ascending=False)\n",
        "\n",
        "# save feature importance dataframe\n",
        "rf_feat.to_csv(\"e2_rf_features.csv\", index=False)\n",
        "xg_feat.to_csv(\"e2_xg_features.csv\", index=False)\n",
        "\n",
        "model_df.to_csv('ensemble2.csv', index=False)"
      ],
      "metadata": {
        "colab": {
          "base_uri": "https://localhost:8080/"
        },
        "id": "Q6TjN3Q8YVJ_",
        "outputId": "c266768d-295b-48a4-c001-15262204882c"
      },
      "execution_count": 6,
      "outputs": [
        {
          "output_type": "stream",
          "name": "stdout",
          "text": [
            "Fold 1 Spearman correlation: 0.4353132915957636\n",
            "Fold 2 Spearman correlation: 0.46365285812712426\n",
            "Fold 3 Spearman correlation: 0.5183584473882327\n",
            "Fold 4 Spearman correlation: 0.5547495784744916\n",
            "Fold 5 Spearman correlation: 0.551044016985519\n",
            "\n",
            "Best correlation: 0.5547495784744916 from Fold 4\n"
          ]
        }
      ]
    }
  ]
}