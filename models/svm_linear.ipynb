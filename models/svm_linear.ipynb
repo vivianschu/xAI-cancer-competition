{
 "cells": [
  {
   "cell_type": "code",
   "execution_count": 10,
   "metadata": {},
   "outputs": [],
   "source": [
    "import pandas as pd\n",
    "from sklearn.svm import LinearSVR\n",
    "from sklearn.preprocessing import StandardScaler\n",
    "from sklearn.pipeline import make_pipeline\n",
    "from sklearn.metrics import mean_squared_error\n",
    "from sklearn.model_selection import train_test_split\n",
    "from scipy import stats"
   ]
  },
  {
   "cell_type": "code",
   "execution_count": 11,
   "metadata": {},
   "outputs": [],
   "source": [
    "# specify file paths\n",
    "train_df = \"../.data/train.csv\"\n",
    "train_targets = \"../.data/train_targets.csv\""
   ]
  },
  {
   "cell_type": "code",
   "execution_count": 12,
   "metadata": {},
   "outputs": [
    {
     "name": "stdout",
     "output_type": "stream",
     "text": [
      "Train Features Shape: (742, 19920)\n",
      "Train Targets Shape: (742,)\n"
     ]
    }
   ],
   "source": [
    "# read in files\n",
    "X = pd.read_csv(train_df)\n",
    "X = X.iloc[:, 1:]                       # remove cell line labels\n",
    "y = pd.read_csv(train_targets)['AAC']   # keep only AAC column\n",
    "\n",
    "# preview\n",
    "print(\"Train Features Shape:\", X.shape)\n",
    "print(\"Train Targets Shape:\", y.shape)"
   ]
  },
  {
   "cell_type": "code",
   "execution_count": 13,
   "metadata": {},
   "outputs": [],
   "source": [
    "# split train test\n",
    "X_train, X_test, y_train, y_test = train_test_split(X, y, test_size=0.2, random_state=42)"
   ]
  },
  {
   "cell_type": "code",
   "execution_count": 14,
   "metadata": {},
   "outputs": [],
   "source": [
    "# hyperparam ranges for tuning\n",
    "C_values = [0.1, 1.0, 10.0]\n",
    "epsilon_values = [0.01, 0.1, 1.0]"
   ]
  },
  {
   "cell_type": "code",
   "execution_count": 15,
   "metadata": {},
   "outputs": [
    {
     "name": "stdout",
     "output_type": "stream",
     "text": [
      "Training Linear SVR model with C=0.1 and epsilon=0.01...\n",
      "Training completed.\n"
     ]
    },
    {
     "name": "stderr",
     "output_type": "stream",
     "text": [
      "/home/vivian.chu/conda/envs/xai/lib/python3.10/site-packages/sklearn/metrics/_regression.py:492: FutureWarning: 'squared' is deprecated in version 1.4 and will be removed in 1.6. To calculate the root mean squared error, use the function'root_mean_squared_error'.\n",
      "  warnings.warn(\n"
     ]
    },
    {
     "name": "stdout",
     "output_type": "stream",
     "text": [
      "Test RMSE with C=0.1, epsilon=0.01: 0.09899819044257646\n",
      "Training Linear SVR model with C=0.1 and epsilon=0.1...\n",
      "Training completed.\n"
     ]
    },
    {
     "name": "stderr",
     "output_type": "stream",
     "text": [
      "/home/vivian.chu/conda/envs/xai/lib/python3.10/site-packages/sklearn/metrics/_regression.py:492: FutureWarning: 'squared' is deprecated in version 1.4 and will be removed in 1.6. To calculate the root mean squared error, use the function'root_mean_squared_error'.\n",
      "  warnings.warn(\n"
     ]
    },
    {
     "name": "stdout",
     "output_type": "stream",
     "text": [
      "Test RMSE with C=0.1, epsilon=0.1: 0.13143115775548203\n",
      "Training Linear SVR model with C=0.1 and epsilon=1.0...\n",
      "Training completed.\n"
     ]
    },
    {
     "name": "stderr",
     "output_type": "stream",
     "text": [
      "/home/vivian.chu/conda/envs/xai/lib/python3.10/site-packages/sklearn/metrics/_regression.py:492: FutureWarning: 'squared' is deprecated in version 1.4 and will be removed in 1.6. To calculate the root mean squared error, use the function'root_mean_squared_error'.\n",
      "  warnings.warn(\n"
     ]
    },
    {
     "name": "stdout",
     "output_type": "stream",
     "text": [
      "Test RMSE with C=0.1, epsilon=1.0: 0.1449254113125408\n",
      "Training Linear SVR model with C=1.0 and epsilon=0.01...\n",
      "Training completed.\n"
     ]
    },
    {
     "name": "stderr",
     "output_type": "stream",
     "text": [
      "/home/vivian.chu/conda/envs/xai/lib/python3.10/site-packages/sklearn/metrics/_regression.py:492: FutureWarning: 'squared' is deprecated in version 1.4 and will be removed in 1.6. To calculate the root mean squared error, use the function'root_mean_squared_error'.\n",
      "  warnings.warn(\n"
     ]
    },
    {
     "name": "stdout",
     "output_type": "stream",
     "text": [
      "Test RMSE with C=1.0, epsilon=0.01: 0.09899819044257646\n",
      "Training Linear SVR model with C=1.0 and epsilon=0.1...\n",
      "Training completed.\n"
     ]
    },
    {
     "name": "stderr",
     "output_type": "stream",
     "text": [
      "/home/vivian.chu/conda/envs/xai/lib/python3.10/site-packages/sklearn/metrics/_regression.py:492: FutureWarning: 'squared' is deprecated in version 1.4 and will be removed in 1.6. To calculate the root mean squared error, use the function'root_mean_squared_error'.\n",
      "  warnings.warn(\n"
     ]
    },
    {
     "name": "stdout",
     "output_type": "stream",
     "text": [
      "Test RMSE with C=1.0, epsilon=0.1: 0.13143115775548203\n",
      "Training Linear SVR model with C=1.0 and epsilon=1.0...\n",
      "Training completed.\n"
     ]
    },
    {
     "name": "stderr",
     "output_type": "stream",
     "text": [
      "/home/vivian.chu/conda/envs/xai/lib/python3.10/site-packages/sklearn/metrics/_regression.py:492: FutureWarning: 'squared' is deprecated in version 1.4 and will be removed in 1.6. To calculate the root mean squared error, use the function'root_mean_squared_error'.\n",
      "  warnings.warn(\n"
     ]
    },
    {
     "name": "stdout",
     "output_type": "stream",
     "text": [
      "Test RMSE with C=1.0, epsilon=1.0: 0.1449254113125408\n",
      "Training Linear SVR model with C=10.0 and epsilon=0.01...\n",
      "Training completed.\n"
     ]
    },
    {
     "name": "stderr",
     "output_type": "stream",
     "text": [
      "/home/vivian.chu/conda/envs/xai/lib/python3.10/site-packages/sklearn/metrics/_regression.py:492: FutureWarning: 'squared' is deprecated in version 1.4 and will be removed in 1.6. To calculate the root mean squared error, use the function'root_mean_squared_error'.\n",
      "  warnings.warn(\n"
     ]
    },
    {
     "name": "stdout",
     "output_type": "stream",
     "text": [
      "Test RMSE with C=10.0, epsilon=0.01: 0.09899819044257646\n",
      "Training Linear SVR model with C=10.0 and epsilon=0.1...\n",
      "Training completed.\n"
     ]
    },
    {
     "name": "stderr",
     "output_type": "stream",
     "text": [
      "/home/vivian.chu/conda/envs/xai/lib/python3.10/site-packages/sklearn/metrics/_regression.py:492: FutureWarning: 'squared' is deprecated in version 1.4 and will be removed in 1.6. To calculate the root mean squared error, use the function'root_mean_squared_error'.\n",
      "  warnings.warn(\n"
     ]
    },
    {
     "name": "stdout",
     "output_type": "stream",
     "text": [
      "Test RMSE with C=10.0, epsilon=0.1: 0.13143115775548203\n",
      "Training Linear SVR model with C=10.0 and epsilon=1.0...\n",
      "Training completed.\n",
      "Test RMSE with C=10.0, epsilon=1.0: 0.1449254113125408\n",
      "Best parameters found: C=0.1, epsilon=0.01 with RMSE=0.09899819044257646\n"
     ]
    },
    {
     "name": "stderr",
     "output_type": "stream",
     "text": [
      "/home/vivian.chu/conda/envs/xai/lib/python3.10/site-packages/sklearn/metrics/_regression.py:492: FutureWarning: 'squared' is deprecated in version 1.4 and will be removed in 1.6. To calculate the root mean squared error, use the function'root_mean_squared_error'.\n",
      "  warnings.warn(\n"
     ]
    }
   ],
   "source": [
    "best_rmse = float('inf')\n",
    "best_params = {}\n",
    "\n",
    "for C in C_values:\n",
    "    for epsilon in epsilon_values:\n",
    "        print(f\"Training Linear SVR model with C={C} and epsilon={epsilon}...\")\n",
    "        linear_svr_pipeline = make_pipeline(StandardScaler(), LinearSVR(C=C, epsilon=epsilon, max_iter=1000, random_state=42))\n",
    "        linear_svr_pipeline.fit(X_train, y_train)\n",
    "        print(\"Training completed.\")\n",
    "\n",
    "        # make preds on test\n",
    "        y_pred = linear_svr_pipeline.predict(X_test)\n",
    "\n",
    "        # evak RMSE\n",
    "        rmse = mean_squared_error(y_test, y_pred, squared=False)\n",
    "        print(f\"Test RMSE with C={C}, epsilon={epsilon}: {rmse}\")\n",
    "\n",
    "        # update best parameters if better\n",
    "        if rmse < best_rmse:\n",
    "            best_rmse = rmse\n",
    "            best_params = {'C': C, 'epsilon': epsilon}\n",
    "            \n",
    "print(f\"Best parameters found: C={best_params['C']}, epsilon={best_params['epsilon']} with RMSE={best_rmse}\")"
   ]
  },
  {
   "cell_type": "code",
   "execution_count": 16,
   "metadata": {},
   "outputs": [
    {
     "name": "stdout",
     "output_type": "stream",
     "text": [
      "Retraining the best Linear SVR model...\n",
      "Retraining completed.\n"
     ]
    }
   ],
   "source": [
    "# train best model\n",
    "print(\"Retraining the best Linear SVR model...\")\n",
    "linear_svr_pipeline = make_pipeline(StandardScaler(), LinearSVR(C=best_params['C'], epsilon=best_params['epsilon'], max_iter=1000, random_state=42))\n",
    "linear_svr_pipeline.fit(X_train, y_train)\n",
    "print(\"Retraining completed.\")"
   ]
  },
  {
   "cell_type": "code",
   "execution_count": 17,
   "metadata": {},
   "outputs": [],
   "source": [
    "# make preds on test\n",
    "y_pred = linear_svr_pipeline.predict(X_test)"
   ]
  },
  {
   "cell_type": "code",
   "execution_count": 18,
   "metadata": {},
   "outputs": [
    {
     "name": "stdout",
     "output_type": "stream",
     "text": [
      "Test RMSE: 0.09899819044257646\n"
     ]
    },
    {
     "name": "stderr",
     "output_type": "stream",
     "text": [
      "/home/vivian.chu/conda/envs/xai/lib/python3.10/site-packages/sklearn/metrics/_regression.py:492: FutureWarning: 'squared' is deprecated in version 1.4 and will be removed in 1.6. To calculate the root mean squared error, use the function'root_mean_squared_error'.\n",
      "  warnings.warn(\n"
     ]
    }
   ],
   "source": [
    "# eval RMSE\n",
    "rmse = mean_squared_error(y_test, y_pred, squared=False)\n",
    "print(\"Test RMSE:\", rmse)"
   ]
  },
  {
   "cell_type": "code",
   "execution_count": 19,
   "metadata": {},
   "outputs": [
    {
     "name": "stdout",
     "output_type": "stream",
     "text": [
      "Spearman's correlation: 0.3233124644591067\n"
     ]
    }
   ],
   "source": [
    "# spearman corr\n",
    "res = stats.spearmanr(y_pred, y_test)\n",
    "print(\"Spearman's correlation:\", res[0])"
   ]
  }
 ],
 "metadata": {
  "kernelspec": {
   "display_name": "xai",
   "language": "python",
   "name": "python3"
  },
  "language_info": {
   "codemirror_mode": {
    "name": "ipython",
    "version": 3
   },
   "file_extension": ".py",
   "mimetype": "text/x-python",
   "name": "python",
   "nbconvert_exporter": "python",
   "pygments_lexer": "ipython3",
   "version": "3.10.15"
  }
 },
 "nbformat": 4,
 "nbformat_minor": 2
}
