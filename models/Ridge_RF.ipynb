{
 "cells": [
  {
   "cell_type": "code",
   "execution_count": 2,
   "id": "23a17940-da2a-4d53-a840-aeec42885c0a",
   "metadata": {},
   "outputs": [],
   "source": [
    "import pandas as pd\n",
    "import numpy as np\n",
    "from sklearn.model_selection import train_test_split, cross_val_predict\n",
    "from sklearn.linear_model import Ridge\n",
    "from sklearn.ensemble import RandomForestRegressor\n",
    "from sklearn.metrics import make_scorer\n",
    "from scipy.stats import spearmanr\n",
    "from sklearn.model_selection import cross_val_score"
   ]
  },
  {
   "cell_type": "code",
   "execution_count": 16,
   "id": "e68662d6-5503-4320-9fba-d8f4205beda4",
   "metadata": {},
   "outputs": [],
   "source": [
    "# Load data\n",
    "data_path = \"/Users/peterher/Downloads/\"\n",
    "train_data = pd.read_csv(data_path + \"train.csv\")\n",
    "train_targets = pd.read_csv(data_path + \"train_targets.csv\")\n",
    "test_data = pd.read_csv(data_path + \"test.csv\")"
   ]
  },
  {
   "cell_type": "code",
   "execution_count": 20,
   "id": "86210adc-30f6-49ce-b929-dc8ea5b6a19c",
   "metadata": {},
   "outputs": [],
   "source": [
    "# Cell lines as index \n",
    "train_data = train_data.set_index(\"Unnamed: 0\")\n",
    "test_data = test_data.set_index(\"Unnamed: 0\")\n",
    "train_targets = train_targets.set_index(\"sample\")"
   ]
  },
  {
   "cell_type": "code",
   "execution_count": 21,
   "id": "8c4dcd49-d301-466f-ad95-13d60a878b3e",
   "metadata": {},
   "outputs": [],
   "source": [
    "# Merge train_data with train_targets\n",
    "train_df = train_data.join(train_targets[['AAC', 'tissue']])\n",
    "\n",
    "X = train_df.drop(columns=['AAC', 'tissue'])  # Gene expression features\n",
    "y = train_df['AAC']  # Drug response values to predict"
   ]
  },
  {
   "cell_type": "code",
   "execution_count": 22,
   "id": "8f35574b-1139-4a09-a37a-fe4e9474a0c8",
   "metadata": {},
   "outputs": [],
   "source": [
    "# Standardize features (?) \n",
    "from sklearn.preprocessing import StandardScaler\n",
    "scaler = StandardScaler()\n",
    "X_scaled = scaler.fit_transform(X)\n",
    "test_scaled = scaler.transform(test_data)"
   ]
  },
  {
   "cell_type": "code",
   "execution_count": 30,
   "id": "6075bc41-d72d-4b92-b38c-9579db09b0d0",
   "metadata": {},
   "outputs": [],
   "source": [
    "# Train/Validation split - not scaled\n",
    "X_train, X_val, y_train, y_val = train_test_split(X, y, test_size=0.2, random_state=42)"
   ]
  },
  {
   "cell_type": "code",
   "execution_count": 24,
   "id": "10e4be67-cf59-42c6-a026-284b89125d28",
   "metadata": {},
   "outputs": [],
   "source": [
    "# Train/Validation split - scaled \n",
    "X_train, X_val, y_train, y_val = train_test_split(X_scaled, y, test_size=0.2, random_state=42)"
   ]
  },
  {
   "cell_type": "code",
   "execution_count": 28,
   "id": "ba3ad90e-04c3-46bd-a2b8-0970e821ad1d",
   "metadata": {},
   "outputs": [
    {
     "name": "stdout",
     "output_type": "stream",
     "text": [
      "Validation Spearman correlation for Ridge Regression: 0.3339709178043436\n"
     ]
    }
   ],
   "source": [
    "# Ridge Regression\n",
    "ridge = Ridge()\n",
    "ridge.fit(X_train, y_train)\n",
    "ridge_val_preds = ridge.predict(X_val)\n",
    "ridge_val_corr = spearmanr(y_val, ridge_val_preds).correlation\n",
    "print(f\"Validation Spearman correlation for Ridge Regression: {ridge_val_corr}\")"
   ]
  },
  {
   "cell_type": "code",
   "execution_count": 29,
   "id": "4029ece7-f863-4f6d-aa1a-3e5237315f74",
   "metadata": {},
   "outputs": [
    {
     "name": "stdout",
     "output_type": "stream",
     "text": [
      "Validation Spearman correlation for Random Forest: 0.42036497402971584\n"
     ]
    }
   ],
   "source": [
    "# Random Forest\n",
    "rf = RandomForestRegressor(random_state=42)\n",
    "rf.fit(X_train, y_train)\n",
    "rf_val_preds = rf.predict(X_val)\n",
    "rf_val_corr = spearmanr(y_val, rf_val_preds).correlation\n",
    "print(f\"Validation Spearman correlation for Random Forest: {rf_val_corr}\")"
   ]
  }
 ],
 "metadata": {
  "kernelspec": {
   "display_name": "Python 3 (ipykernel)",
   "language": "python",
   "name": "python3"
  },
  "language_info": {
   "codemirror_mode": {
    "name": "ipython",
    "version": 3
   },
   "file_extension": ".py",
   "mimetype": "text/x-python",
   "name": "python",
   "nbconvert_exporter": "python",
   "pygments_lexer": "ipython3",
   "version": "3.8.18"
  }
 },
 "nbformat": 4,
 "nbformat_minor": 5
}
