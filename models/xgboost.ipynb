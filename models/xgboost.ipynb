{
 "cells": [
  {
   "cell_type": "code",
   "execution_count": 9,
   "metadata": {},
   "outputs": [],
   "source": [
    "import pandas as pd\n",
    "import xgboost as xgb\n",
    "from sklearn.metrics import mean_squared_error\n",
    "from sklearn.model_selection import train_test_split\n",
    "from scipy import stats"
   ]
  },
  {
   "cell_type": "code",
   "execution_count": 2,
   "metadata": {},
   "outputs": [
    {
     "name": "stdout",
     "output_type": "stream",
     "text": [
      "Train Features Shape: (742, 19920)\n",
      "Train Targets Shape: (742,)\n"
     ]
    }
   ],
   "source": [
    "# specify file paths\n",
    "train_df = \"../.data/train.csv\"\n",
    "train_targets = \"../.data/train_targets.csv\"\n",
    "\n",
    "# read in files\n",
    "X = pd.read_csv(train_df)\n",
    "X = X.iloc[:, 1:]                       # remove cell line labels\n",
    "y = pd.read_csv(train_targets)['AAC']   # keep only AAC column\n",
    "\n",
    "# preview\n",
    "print(\"Train Features Shape:\", X.shape)\n",
    "print(\"Train Targets Shape:\", y.shape)"
   ]
  },
  {
   "cell_type": "code",
   "execution_count": 3,
   "metadata": {},
   "outputs": [],
   "source": [
    "# Split the training dataframe into train and test sets\n",
    "X_train, X_test, y_train, y_test = train_test_split(X, y, test_size=0.2, random_state=42)"
   ]
  },
  {
   "cell_type": "code",
   "execution_count": 4,
   "metadata": {},
   "outputs": [],
   "source": [
    "# DMatrix for XGBoost\n",
    "train_dmatrix = xgb.DMatrix(X_train, label=y_train)\n",
    "val_dmatrix = xgb.DMatrix(X_test, label=y_test)"
   ]
  },
  {
   "cell_type": "code",
   "execution_count": 5,
   "metadata": {},
   "outputs": [],
   "source": [
    "# XGBoost params\n",
    "params = {\n",
    "    'objective': 'reg:squarederror',  # regression\n",
    "    'eval_metric': 'rmse',\n",
    "    'max_depth': 5,\n",
    "    'eta': 0.1,\n",
    "    'subsample': 0.8\n",
    "}"
   ]
  },
  {
   "cell_type": "code",
   "execution_count": 6,
   "metadata": {},
   "outputs": [
    {
     "name": "stdout",
     "output_type": "stream",
     "text": [
      "[0]\ttrain-rmse:0.09852\teval-rmse:0.08631\n",
      "[1]\ttrain-rmse:0.09283\teval-rmse:0.08441\n",
      "[2]\ttrain-rmse:0.08773\teval-rmse:0.08387\n",
      "[3]\ttrain-rmse:0.08356\teval-rmse:0.08217\n",
      "[4]\ttrain-rmse:0.07966\teval-rmse:0.08111\n",
      "[5]\ttrain-rmse:0.07547\teval-rmse:0.08016\n",
      "[6]\ttrain-rmse:0.07180\teval-rmse:0.07935\n",
      "[7]\ttrain-rmse:0.06829\teval-rmse:0.07824\n",
      "[8]\ttrain-rmse:0.06473\teval-rmse:0.07858\n",
      "[9]\ttrain-rmse:0.06150\teval-rmse:0.07801\n",
      "[10]\ttrain-rmse:0.05922\teval-rmse:0.07827\n",
      "[11]\ttrain-rmse:0.05663\teval-rmse:0.07832\n",
      "[12]\ttrain-rmse:0.05470\teval-rmse:0.07831\n",
      "[13]\ttrain-rmse:0.05242\teval-rmse:0.07850\n",
      "[14]\ttrain-rmse:0.05023\teval-rmse:0.07843\n",
      "[15]\ttrain-rmse:0.04858\teval-rmse:0.07815\n",
      "[16]\ttrain-rmse:0.04692\teval-rmse:0.07820\n",
      "[17]\ttrain-rmse:0.04495\teval-rmse:0.07798\n",
      "[18]\ttrain-rmse:0.04284\teval-rmse:0.07805\n",
      "[19]\ttrain-rmse:0.04135\teval-rmse:0.07779\n",
      "[20]\ttrain-rmse:0.04014\teval-rmse:0.07773\n",
      "[21]\ttrain-rmse:0.03896\teval-rmse:0.07786\n",
      "[22]\ttrain-rmse:0.03773\teval-rmse:0.07775\n",
      "[23]\ttrain-rmse:0.03621\teval-rmse:0.07753\n",
      "[24]\ttrain-rmse:0.03502\teval-rmse:0.07748\n",
      "[25]\ttrain-rmse:0.03338\teval-rmse:0.07748\n",
      "[26]\ttrain-rmse:0.03201\teval-rmse:0.07759\n",
      "[27]\ttrain-rmse:0.03089\teval-rmse:0.07733\n",
      "[28]\ttrain-rmse:0.03021\teval-rmse:0.07735\n",
      "[29]\ttrain-rmse:0.02929\teval-rmse:0.07742\n",
      "[30]\ttrain-rmse:0.02838\teval-rmse:0.07735\n",
      "[31]\ttrain-rmse:0.02743\teval-rmse:0.07751\n",
      "[32]\ttrain-rmse:0.02645\teval-rmse:0.07723\n",
      "[33]\ttrain-rmse:0.02563\teval-rmse:0.07737\n",
      "[34]\ttrain-rmse:0.02477\teval-rmse:0.07735\n",
      "[35]\ttrain-rmse:0.02377\teval-rmse:0.07718\n",
      "[36]\ttrain-rmse:0.02313\teval-rmse:0.07709\n",
      "[37]\ttrain-rmse:0.02238\teval-rmse:0.07723\n",
      "[38]\ttrain-rmse:0.02188\teval-rmse:0.07715\n",
      "[39]\ttrain-rmse:0.02123\teval-rmse:0.07726\n",
      "[40]\ttrain-rmse:0.02060\teval-rmse:0.07730\n",
      "[41]\ttrain-rmse:0.01982\teval-rmse:0.07747\n",
      "[42]\ttrain-rmse:0.01920\teval-rmse:0.07762\n",
      "[43]\ttrain-rmse:0.01863\teval-rmse:0.07728\n",
      "[44]\ttrain-rmse:0.01817\teval-rmse:0.07728\n",
      "[45]\ttrain-rmse:0.01788\teval-rmse:0.07734\n",
      "[46]\ttrain-rmse:0.01740\teval-rmse:0.07739\n"
     ]
    }
   ],
   "source": [
    "# train\n",
    "watchlist = [(train_dmatrix, 'train'), (val_dmatrix, 'eval')]\n",
    "model = xgb.train(params, train_dmatrix, num_boost_round=100, evals=watchlist, early_stopping_rounds=10, verbose_eval=True)"
   ]
  },
  {
   "cell_type": "code",
   "execution_count": 7,
   "metadata": {},
   "outputs": [],
   "source": [
    "# make preds on test set\n",
    "y_pred = model.predict(val_dmatrix)"
   ]
  },
  {
   "cell_type": "code",
   "execution_count": 10,
   "metadata": {},
   "outputs": [
    {
     "name": "stdout",
     "output_type": "stream",
     "text": [
      "Test RMSE: 0.07739229844278923\n"
     ]
    },
    {
     "name": "stderr",
     "output_type": "stream",
     "text": [
      "/home/vivian.chu/conda/envs/xai/lib/python3.10/site-packages/sklearn/metrics/_regression.py:492: FutureWarning: 'squared' is deprecated in version 1.4 and will be removed in 1.6. To calculate the root mean squared error, use the function'root_mean_squared_error'.\n",
      "  warnings.warn(\n"
     ]
    }
   ],
   "source": [
    "# eval RMSE\n",
    "rmse = mean_squared_error(y_test, y_pred, squared=False)\n",
    "print(\"Test RMSE:\", rmse)"
   ]
  },
  {
   "cell_type": "code",
   "execution_count": 13,
   "metadata": {},
   "outputs": [
    {
     "name": "stdout",
     "output_type": "stream",
     "text": [
      "Spearman's correlation: 0.42278471139570384\n"
     ]
    }
   ],
   "source": [
    "# spearman corr\n",
    "res = stats.spearmanr(y_pred, y_test)\n",
    "print(\"Spearman's correlation:\", res[0])"
   ]
  }
 ],
 "metadata": {
  "kernelspec": {
   "display_name": "xai",
   "language": "python",
   "name": "python3"
  },
  "language_info": {
   "codemirror_mode": {
    "name": "ipython",
    "version": 3
   },
   "file_extension": ".py",
   "mimetype": "text/x-python",
   "name": "python",
   "nbconvert_exporter": "python",
   "pygments_lexer": "ipython3",
   "version": "3.10.15"
  }
 },
 "nbformat": 4,
 "nbformat_minor": 2
}
