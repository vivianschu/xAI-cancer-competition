{
 "cells": [
  {
   "cell_type": "code",
   "execution_count": 1,
   "id": "78193e1b-172a-4826-af15-71cfe3fbc23c",
   "metadata": {},
   "outputs": [],
   "source": [
    "# load libraries\n",
    "import pandas as pd\n",
    "import numpy as np\n",
    "from sklearn import linear_model\n",
    "from sklearn.ensemble import RandomForestRegressor, AdaBoostRegressor\n",
    "from sklearn.model_selection import train_test_split, GridSearchCV\n",
    "from sklearn.preprocessing import StandardScaler\n",
    "import xgboost as xgb\n",
    "from scipy import stats\n",
    "\n",
    "import warnings\n",
    "\n",
    "# suppress all warnings\n",
    "warnings.filterwarnings('ignore')\n",
    "\n",
    "# set seed\n",
    "np.random.seed(42)"
   ]
  },
  {
   "cell_type": "code",
   "execution_count": 2,
   "id": "6713b713-7d8f-4830-b98d-faa30ac0fc91",
   "metadata": {},
   "outputs": [
    {
     "name": "stdout",
     "output_type": "stream",
     "text": [
      "(742, 457)\n",
      "(742,)\n",
      "(662, 510)\n",
      "(662,)\n",
      "(304, 457)\n",
      "(304, 510)\n",
      "(742, 457)\n",
      "(742,)\n",
      "(662, 510)\n",
      "(662,)\n",
      "(304, 457)\n",
      "(304, 510)\n"
     ]
    }
   ],
   "source": [
    "# specify file paths\n",
    "train_df1 = \"train_subset.csv\"\n",
    "train_targets1 = \"train_targets.csv\"\n",
    "train_df2 = \"train_subset_375.csv\"\n",
    "train_targets2 = \"targets_375.csv\"\n",
    "test_df = \"test.csv\"\n",
    "\n",
    "# read in files\n",
    "X_train1 = pd.read_csv(train_df1)\n",
    "y_train1 = pd.read_csv(train_targets1)['AAC']\n",
    "X_train2 = pd.read_csv(train_df2)\n",
    "y_train2 = pd.read_csv(train_targets2)['AAC']\n",
    "X_test1 = pd.read_csv(test_df)\n",
    "X_test2 = pd.read_csv(test_df)# specify file paths\n",
    "train_df1 = \"train_subset.csv\"\n",
    "train_targets1 = \"train_targets.csv\"\n",
    "train_df2 = \"train_subset_375.csv\"\n",
    "train_targets2 = \"targets_375.csv\"\n",
    "test_df = \"test.csv\"\n",
    "\n",
    "# read in files\n",
    "X_train1 = pd.read_csv(train_df1)\n",
    "y_train1 = pd.read_csv(train_targets1)['AAC']\n",
    "X_train2 = pd.read_csv(train_df2)\n",
    "y_train2 = pd.read_csv(train_targets2)['AAC']\n",
    "X_test1 = pd.read_csv(test_df)\n",
    "X_test2 = pd.read_csv(test_df)\n",
    "\n",
    "# filter to keep only relevant genes\n",
    "X_test1 = X_test1[X_train1.columns]\n",
    "X_test2 = X_test2[X_train2.columns]\n",
    "\n",
    "print(X_train1.shape)\n",
    "print(y_train1.shape)\n",
    "print(X_train2.shape)\n",
    "print(y_train2.shape)\n",
    "print(X_test1.shape)\n",
    "print(X_test2.shape)\n",
    "\n",
    "# filter to keep only relevant genes\n",
    "X_test1 = X_test1[X_train1.columns]\n",
    "X_test2 = X_test2[X_train2.columns]\n",
    "\n",
    "print(X_train1.shape)\n",
    "print(y_train1.shape)\n",
    "print(X_train2.shape)\n",
    "print(y_train2.shape)\n",
    "print(X_test1.shape)\n",
    "print(X_test2.shape)"
   ]
  },
  {
   "cell_type": "code",
   "execution_count": 3,
   "id": "83d625d2-eb87-4634-b975-c843a15855eb",
   "metadata": {},
   "outputs": [],
   "source": [
    "# Initialize models with slightly adjusted hyperparameters\n",
    "enALL = linear_model.ElasticNet(alpha=1.2, l1_ratio=1, max_iter=1000)\n",
    "en375 = linear_model.ElasticNet(alpha=8, l1_ratio=0.25, max_iter=1000)\n",
    "\n",
    "# Fit models\n",
    "enALL.fit(X_train1, y_train1)\n",
    "en375.fit(X_train2, y_train2)\n",
    "\n",
    "# Get predictions\n",
    "pred1 = enALL.predict(X_test1)\n",
    "pred2 = en375.predict(X_test2)\n",
    "\n",
    "# Weighted average predictions (tune weights if needed)\n",
    "y_pred = (pred1 * 0.25 + pred2 * 0.75) / (0.25+0.75)\n",
    "\n",
    "# Save predictions\n",
    "sample_ids = [f\"TS{i}\" for i in range(1, len(y_pred) + 1)]\n",
    "predictions = pd.DataFrame({\n",
    "    'sampleId': sample_ids,\n",
    "    'AAC': y_pred\n",
    "})\n",
    "predictions.to_csv(\"optimized_en-ensemble-pred.csv\", index=False)"
   ]
  }
 ],
 "metadata": {
  "kernelspec": {
   "display_name": "Python 3 (ipykernel)",
   "language": "python",
   "name": "python3"
  },
  "language_info": {
   "codemirror_mode": {
    "name": "ipython",
    "version": 3
   },
   "file_extension": ".py",
   "mimetype": "text/x-python",
   "name": "python",
   "nbconvert_exporter": "python",
   "pygments_lexer": "ipython3",
   "version": "3.8.18"
  }
 },
 "nbformat": 4,
 "nbformat_minor": 5
}
