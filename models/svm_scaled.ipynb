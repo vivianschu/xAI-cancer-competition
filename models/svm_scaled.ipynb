{
 "cells": [
  {
   "cell_type": "code",
   "execution_count": 1,
   "metadata": {},
   "outputs": [],
   "source": [
    "import pandas as pd\n",
    "from sklearn.svm import SVR\n",
    "from sklearn.preprocessing import StandardScaler\n",
    "from sklearn.pipeline import make_pipeline\n",
    "from sklearn.metrics import mean_squared_error\n",
    "from sklearn.model_selection import train_test_split\n",
    "from scipy import stats"
   ]
  },
  {
   "cell_type": "code",
   "execution_count": null,
   "metadata": {},
   "outputs": [],
   "source": [
    "# specify file paths\n",
    "train_df = \"../.data/train.csv\"\n",
    "train_targets = \"../.data/train_targets.csv\""
   ]
  },
  {
   "cell_type": "code",
   "execution_count": null,
   "metadata": {},
   "outputs": [
    {
     "name": "stdout",
     "output_type": "stream",
     "text": [
      "Train Features Shape: (742, 19920)\n",
      "Train Targets Shape: (742,)\n"
     ]
    }
   ],
   "source": [
    "# read in files\n",
    "X = pd.read_csv(train_df)\n",
    "X = X.iloc[:, 1:]                       # remove cell line labels\n",
    "y = pd.read_csv(train_targets)['AAC']   # keep only AAC column\n",
    "\n",
    "# preview\n",
    "print(\"Train Features Shape:\", X.shape)\n",
    "print(\"Train Targets Shape:\", y.shape)\n"
   ]
  },
  {
   "cell_type": "code",
   "execution_count": null,
   "metadata": {},
   "outputs": [],
   "source": [
    "# split train test\n",
    "X_train, X_test, y_train, y_test = train_test_split(X, y, test_size=0.2, random_state=42)"
   ]
  },
  {
   "cell_type": "code",
   "execution_count": null,
   "metadata": {},
   "outputs": [
    {
     "name": "stdout",
     "output_type": "stream",
     "text": [
      "Training SVR model with scaling...\n"
     ]
    }
   ],
   "source": [
    "# train with scaling\n",
    "print(\"Training SVR model with scaling...\")\n",
    "svr_pipeline = make_pipeline(StandardScaler(), SVR(C=1.0, epsilon=0.1))  # Adding scaling and setting basic hyperparameters\n",
    "svr_pipeline.fit(X_train, y_train)\n",
    "print(\"Training completed.\")"
   ]
  },
  {
   "cell_type": "code",
   "execution_count": null,
   "metadata": {},
   "outputs": [],
   "source": [
    "# STOPPED - TOO LONG"
   ]
  },
  {
   "cell_type": "code",
   "execution_count": null,
   "metadata": {},
   "outputs": [],
   "source": [
    "# make preds on test\n",
    "y_pred = svr_pipeline.predict(X_test)"
   ]
  },
  {
   "cell_type": "code",
   "execution_count": null,
   "metadata": {},
   "outputs": [],
   "source": [
    "# eval RMSE\n",
    "rmse = mean_squared_error(y_test, y_pred, squared=False)\n",
    "print(\"Test RMSE:\", rmse)"
   ]
  },
  {
   "cell_type": "code",
   "execution_count": null,
   "metadata": {},
   "outputs": [],
   "source": [
    "# spearmna corr\n",
    "res = stats.spearmanr(y_pred, y_test)\n",
    "print(\"Spearman's correlation:\", res)"
   ]
  }
 ],
 "metadata": {
  "kernelspec": {
   "display_name": "xai",
   "language": "python",
   "name": "python3"
  },
  "language_info": {
   "codemirror_mode": {
    "name": "ipython",
    "version": 3
   },
   "file_extension": ".py",
   "mimetype": "text/x-python",
   "name": "python",
   "nbconvert_exporter": "python",
   "pygments_lexer": "ipython3",
   "version": "3.10.15"
  }
 },
 "nbformat": 4,
 "nbformat_minor": 2
}
