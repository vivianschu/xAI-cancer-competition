{
 "cells": [
  {
   "cell_type": "code",
   "execution_count": 1,
   "id": "5a4e70ca-eabd-420a-a47e-b81c34c43fee",
   "metadata": {},
   "outputs": [],
   "source": [
    "import pandas as pd\n",
    "import numpy as np\n",
    "from sklearn.model_selection import train_test_split, cross_val_predict\n",
    "from sklearn.linear_model import Ridge\n",
    "from sklearn.ensemble import RandomForestRegressor\n",
    "from sklearn.preprocessing import StandardScaler\n",
    "from sklearn.metrics import make_scorer\n",
    "from scipy.stats import spearmanr\n",
    "from sklearn.model_selection import cross_val_score"
   ]
  },
  {
   "cell_type": "code",
   "execution_count": 2,
   "id": "d172cece-6481-4655-8732-f07bfdcdfe93",
   "metadata": {},
   "outputs": [
    {
     "name": "stdout",
     "output_type": "stream",
     "text": [
      "Train Features Shape: (742, 456)\n",
      "Train Targets Shape: (742,)\n"
     ]
    }
   ],
   "source": [
    "# specify file paths\n",
    "train_df = \"train_subset.csv\"\n",
    "train_targets = \"train_targets.csv\"\n",
    "\n",
    "# read in files\n",
    "X = pd.read_csv(train_df)\n",
    "X = X.iloc[:, 1:]                       # remove cell line labels\n",
    "y = pd.read_csv(train_targets)['AAC']   # keep only AAC column\n",
    "\n",
    "# preview\n",
    "print(\"Train Features Shape:\", X.shape)\n",
    "print(\"Train Targets Shape:\", y.shape)"
   ]
  },
  {
   "cell_type": "code",
   "execution_count": 3,
   "id": "73376631-5283-4429-8885-db1ccd8eaedc",
   "metadata": {},
   "outputs": [],
   "source": [
    "# Split the data into train and test sets\n",
    "X_train, X_test, y_train, y_test = train_test_split(X, y, test_size=0.2, random_state=42)"
   ]
  },
  {
   "cell_type": "code",
   "execution_count": 4,
   "id": "96aa6c45-4fb5-48b9-a1cb-7e5d0108ba53",
   "metadata": {},
   "outputs": [],
   "source": [
    "# Scale the features\n",
    "scaler = StandardScaler()\n",
    "X_train_scaled = scaler.fit_transform(X_train)  # Fit and transform on training data\n",
    "X_test_scaled = scaler.transform(X_test)        # Transform test data with same scaler"
   ]
  },
  {
   "cell_type": "code",
   "execution_count": 5,
   "id": "13a3c602-9ee9-4300-b62c-34867d863b90",
   "metadata": {},
   "outputs": [
    {
     "name": "stdout",
     "output_type": "stream",
     "text": [
      "Validation Spearman correlation for Ridge Regression: 0.1540741466299805\n"
     ]
    }
   ],
   "source": [
    "# Ridge Regression\n",
    "ridge = Ridge()\n",
    "ridge.fit(X_train_scaled, y_train)  # Train on scaled data\n",
    "ridge_test_preds = ridge.predict(X_test_scaled)  # Predict on scaled test data\n",
    "\n",
    "# Spearman Correlation\n",
    "ridge_test_corr = spearmanr(y_test, ridge_test_preds).correlation\n",
    "print(f\"Validation Spearman correlation for Ridge Regression: {ridge_test_corr}\")"
   ]
  },
  {
   "cell_type": "code",
   "execution_count": 6,
   "id": "4b654506-3626-4939-a630-ab266c168e8c",
   "metadata": {},
   "outputs": [
    {
     "name": "stdout",
     "output_type": "stream",
     "text": [
      "Validation Spearman correlation for Random Forest: 0.4267535160109827\n"
     ]
    }
   ],
   "source": [
    "# Initialize and train the model\n",
    "rf = RandomForestRegressor(random_state=42)\n",
    "rf.fit(X_train_scaled, y_train)  # Train on scaled training data\n",
    "\n",
    "# Make predictions on the test set\n",
    "rf_test_preds = rf.predict(X_test_scaled)\n",
    "\n",
    "# Calculate Spearman correlation\n",
    "rf_test_corr = spearmanr(y_test, rf_test_preds).correlation\n",
    "print(f\"Validation Spearman correlation for Random Forest: {rf_test_corr}\")"
   ]
  },
  {
   "cell_type": "code",
   "execution_count": 7,
   "id": "de9c4744-98ed-47df-acdd-e2b420463e45",
   "metadata": {},
   "outputs": [],
   "source": [
    "import pandas as pd\n",
    "import xgboost as xgb\n",
    "from sklearn.model_selection import train_test_split\n",
    "from scipy import stats\n",
    "from sklearn.metrics import mean_squared_error"
   ]
  },
  {
   "cell_type": "code",
   "execution_count": 8,
   "id": "0e2679d2-8354-402a-9db0-12d600bbf65e",
   "metadata": {},
   "outputs": [
    {
     "name": "stdout",
     "output_type": "stream",
     "text": [
      "[0]\ttrain-rmse:0.09867\teval-rmse:0.08591\n",
      "[1]\ttrain-rmse:0.09333\teval-rmse:0.08443\n",
      "[2]\ttrain-rmse:0.08873\teval-rmse:0.08358\n",
      "[3]\ttrain-rmse:0.08444\teval-rmse:0.08150\n",
      "[4]\ttrain-rmse:0.08065\teval-rmse:0.08024\n",
      "[5]\ttrain-rmse:0.07705\teval-rmse:0.07888\n",
      "[6]\ttrain-rmse:0.07361\teval-rmse:0.07908\n",
      "[7]\ttrain-rmse:0.07021\teval-rmse:0.07856\n",
      "[8]\ttrain-rmse:0.06694\teval-rmse:0.07793\n",
      "[9]\ttrain-rmse:0.06429\teval-rmse:0.07759\n",
      "[10]\ttrain-rmse:0.06168\teval-rmse:0.07715\n",
      "[11]\ttrain-rmse:0.05929\teval-rmse:0.07675\n",
      "[12]\ttrain-rmse:0.05766\teval-rmse:0.07636\n",
      "[13]\ttrain-rmse:0.05517\teval-rmse:0.07508\n",
      "[14]\ttrain-rmse:0.05333\teval-rmse:0.07507\n",
      "[15]\ttrain-rmse:0.05147\teval-rmse:0.07483\n",
      "[16]\ttrain-rmse:0.04981\teval-rmse:0.07431\n",
      "[17]\ttrain-rmse:0.04801\teval-rmse:0.07411\n",
      "[18]\ttrain-rmse:0.04619\teval-rmse:0.07422\n",
      "[19]\ttrain-rmse:0.04498\teval-rmse:0.07410\n",
      "[20]\ttrain-rmse:0.04405\teval-rmse:0.07419\n",
      "[21]\ttrain-rmse:0.04287\teval-rmse:0.07398\n",
      "[22]\ttrain-rmse:0.04156\teval-rmse:0.07383\n",
      "[23]\ttrain-rmse:0.04029\teval-rmse:0.07398\n",
      "[24]\ttrain-rmse:0.03961\teval-rmse:0.07394\n",
      "[25]\ttrain-rmse:0.03838\teval-rmse:0.07384\n",
      "[26]\ttrain-rmse:0.03705\teval-rmse:0.07385\n",
      "[27]\ttrain-rmse:0.03648\teval-rmse:0.07380\n",
      "[28]\ttrain-rmse:0.03572\teval-rmse:0.07390\n",
      "[29]\ttrain-rmse:0.03486\teval-rmse:0.07406\n",
      "[30]\ttrain-rmse:0.03422\teval-rmse:0.07401\n",
      "[31]\ttrain-rmse:0.03386\teval-rmse:0.07389\n",
      "[32]\ttrain-rmse:0.03294\teval-rmse:0.07396\n",
      "[33]\ttrain-rmse:0.03231\teval-rmse:0.07393\n",
      "[34]\ttrain-rmse:0.03188\teval-rmse:0.07416\n",
      "[35]\ttrain-rmse:0.03118\teval-rmse:0.07413\n",
      "[36]\ttrain-rmse:0.03054\teval-rmse:0.07404\n",
      "[37]\ttrain-rmse:0.02959\teval-rmse:0.07394\n",
      "Test RMSE: 0.07393837591956157\n",
      "Spearman's correlation: 0.45439910611220036\n"
     ]
    }
   ],
   "source": [
    "# Convert the scaled data into DMatrix format for XGBoost\n",
    "train_dmatrix = xgb.DMatrix(X_train_scaled, label=y_train)\n",
    "val_dmatrix = xgb.DMatrix(X_test_scaled, label=y_test)\n",
    "\n",
    "# XGBoost parameters\n",
    "params = {\n",
    "    'objective': 'reg:squarederror',  \n",
    "    'eval_metric': 'rmse',            \n",
    "    'max_depth': 5,                  \n",
    "    'eta': 0.1,                      \n",
    "    'subsample': 0.8                 \n",
    "}\n",
    "\n",
    "# Train the XGBoost model\n",
    "watchlist = [(train_dmatrix, 'train'), (val_dmatrix, 'eval')]\n",
    "model = xgb.train(params, train_dmatrix, num_boost_round=100, evals=watchlist, \n",
    "                  early_stopping_rounds=10, verbose_eval=True)\n",
    "\n",
    "# Make predictions on the test set\n",
    "y_pred = model.predict(val_dmatrix)\n",
    "\n",
    "# Evaluate RMSE\n",
    "rmse = mean_squared_error(y_test, y_pred, squared=False)\n",
    "print(\"Test RMSE:\", rmse)\n",
    "\n",
    "# Calculate Spearman correlation\n",
    "spearman_corr = spearmanr(y_pred, y_test).correlation\n",
    "print(\"Spearman's correlation:\", spearman_corr)"
   ]
  }
 ],
 "metadata": {
  "kernelspec": {
   "display_name": "Python 3 (ipykernel)",
   "language": "python",
   "name": "python3"
  },
  "language_info": {
   "codemirror_mode": {
    "name": "ipython",
    "version": 3
   },
   "file_extension": ".py",
   "mimetype": "text/x-python",
   "name": "python",
   "nbconvert_exporter": "python",
   "pygments_lexer": "ipython3",
   "version": "3.8.18"
  }
 },
 "nbformat": 4,
 "nbformat_minor": 5
}
