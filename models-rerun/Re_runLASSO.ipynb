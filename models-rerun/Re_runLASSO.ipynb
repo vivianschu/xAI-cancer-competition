{
  "nbformat": 4,
  "nbformat_minor": 0,
  "metadata": {
    "colab": {
      "provenance": []
    },
    "kernelspec": {
      "name": "python3",
      "display_name": "Python 3"
    },
    "language_info": {
      "name": "python"
    }
  },
  "cells": [
    {
      "cell_type": "code",
      "execution_count": 39,
      "metadata": {
        "id": "YCjAUn-Ogwtv"
      },
      "outputs": [],
      "source": [
        "# load libraries\n",
        "import pandas as pd\n",
        "import numpy as np\n",
        "from sklearn import linear_model\n",
        "from sklearn.preprocessing import StandardScaler\n",
        "from sklearn.model_selection import train_test_split, GridSearchCV\n",
        "from scipy import stats"
      ]
    },
    {
      "cell_type": "code",
      "source": [
        "# specify file paths\n",
        "train_df = \"train_subset.csv\"\n",
        "train_targets = \"train_targets.csv\"\n",
        "\n",
        "# read in files\n",
        "X = pd.read_csv(train_df)\n",
        "y = pd.read_csv(train_targets)['AAC']   # keep only AAC column\n",
        "\n",
        "print(X.shape)\n",
        "print(y.shape)"
      ],
      "metadata": {
        "id": "FJUsIM2FlVxT",
        "colab": {
          "base_uri": "https://localhost:8080/"
        },
        "outputId": "043039c8-ab36-4ab0-9db0-2785fd60ba1b"
      },
      "execution_count": 40,
      "outputs": [
        {
          "output_type": "stream",
          "name": "stdout",
          "text": [
            "(742, 457)\n",
            "(742,)\n"
          ]
        }
      ]
    },
    {
      "cell_type": "code",
      "source": [
        "### FIRST RUN: No scaling, just feature selection"
      ],
      "metadata": {
        "id": "yILONV4VFUns"
      },
      "execution_count": null,
      "outputs": []
    },
    {
      "cell_type": "code",
      "source": [
        "# split the training dataframe into train and val\n",
        "X_train, X_test, y_train, y_test = train_test_split(X, y, test_size=0.2, random_state=42)"
      ],
      "metadata": {
        "id": "hSD-lRBUvRQe"
      },
      "execution_count": null,
      "outputs": []
    },
    {
      "cell_type": "code",
      "source": [
        "# initialize LASSO model\n",
        "lasso = linear_model.Lasso()\n",
        "\n",
        "# specify parameters for optimization\n",
        "parameters = {\n",
        "    'alpha': [0.1, 1, 10, 100],\n",
        "    'max_iter': [5000, 7500]\n",
        "  }\n",
        "\n",
        "# identify optimal parameters\n",
        "reg = GridSearchCV(\n",
        "    estimator = lasso,\n",
        "    param_grid = parameters,\n",
        "    verbose=2\n",
        "  )\n",
        "reg.fit(X_train, y_train)\n",
        "print('Best params:', reg.best_params_ )"
      ],
      "metadata": {
        "colab": {
          "base_uri": "https://localhost:8080/"
        },
        "id": "4oFBHcoXrWb2",
        "outputId": "a8eee243-7310-41f0-e5cf-5e55c42e5032"
      },
      "execution_count": null,
      "outputs": [
        {
          "output_type": "stream",
          "name": "stdout",
          "text": [
            "Fitting 5 folds for each of 8 candidates, totalling 40 fits\n",
            "[CV] END ...........................alpha=0.1, max_iter=5000; total time=   0.1s\n",
            "[CV] END ...........................alpha=0.1, max_iter=5000; total time=   0.2s\n",
            "[CV] END ...........................alpha=0.1, max_iter=5000; total time=   0.2s\n",
            "[CV] END ...........................alpha=0.1, max_iter=5000; total time=   0.3s\n",
            "[CV] END ...........................alpha=0.1, max_iter=5000; total time=   0.2s\n",
            "[CV] END ...........................alpha=0.1, max_iter=7500; total time=   0.2s\n",
            "[CV] END ...........................alpha=0.1, max_iter=7500; total time=   0.2s\n",
            "[CV] END ...........................alpha=0.1, max_iter=7500; total time=   0.2s\n",
            "[CV] END ...........................alpha=0.1, max_iter=7500; total time=   0.2s\n",
            "[CV] END ...........................alpha=0.1, max_iter=7500; total time=   0.2s\n",
            "[CV] END .............................alpha=1, max_iter=5000; total time=   0.0s\n",
            "[CV] END .............................alpha=1, max_iter=5000; total time=   0.0s\n",
            "[CV] END .............................alpha=1, max_iter=5000; total time=   0.0s\n",
            "[CV] END .............................alpha=1, max_iter=5000; total time=   0.0s\n",
            "[CV] END .............................alpha=1, max_iter=5000; total time=   0.0s\n",
            "[CV] END .............................alpha=1, max_iter=7500; total time=   0.0s\n",
            "[CV] END .............................alpha=1, max_iter=7500; total time=   0.0s\n",
            "[CV] END .............................alpha=1, max_iter=7500; total time=   0.0s\n",
            "[CV] END .............................alpha=1, max_iter=7500; total time=   0.0s\n",
            "[CV] END .............................alpha=1, max_iter=7500; total time=   0.0s\n",
            "[CV] END ............................alpha=10, max_iter=5000; total time=   0.0s\n",
            "[CV] END ............................alpha=10, max_iter=5000; total time=   0.0s\n",
            "[CV] END ............................alpha=10, max_iter=5000; total time=   0.0s\n",
            "[CV] END ............................alpha=10, max_iter=5000; total time=   0.0s\n",
            "[CV] END ............................alpha=10, max_iter=5000; total time=   0.0s\n",
            "[CV] END ............................alpha=10, max_iter=7500; total time=   0.0s\n",
            "[CV] END ............................alpha=10, max_iter=7500; total time=   0.0s\n",
            "[CV] END ............................alpha=10, max_iter=7500; total time=   0.0s\n",
            "[CV] END ............................alpha=10, max_iter=7500; total time=   0.0s\n",
            "[CV] END ............................alpha=10, max_iter=7500; total time=   0.0s\n",
            "[CV] END ...........................alpha=100, max_iter=5000; total time=   0.0s\n",
            "[CV] END ...........................alpha=100, max_iter=5000; total time=   0.0s\n",
            "[CV] END ...........................alpha=100, max_iter=5000; total time=   0.0s\n",
            "[CV] END ...........................alpha=100, max_iter=5000; total time=   0.0s\n",
            "[CV] END ...........................alpha=100, max_iter=5000; total time=   0.0s\n",
            "[CV] END ...........................alpha=100, max_iter=7500; total time=   0.0s\n",
            "[CV] END ...........................alpha=100, max_iter=7500; total time=   0.0s\n",
            "[CV] END ...........................alpha=100, max_iter=7500; total time=   0.0s\n",
            "[CV] END ...........................alpha=100, max_iter=7500; total time=   0.0s\n",
            "[CV] END ...........................alpha=100, max_iter=7500; total time=   0.0s\n",
            "Best params: {'alpha': 1, 'max_iter': 5000}\n"
          ]
        }
      ]
    },
    {
      "cell_type": "code",
      "source": [
        "# test best model parameters on test data\n",
        "reg_best = reg.best_estimator_\n",
        "\n",
        "# get predicted values for test data\n",
        "y_pred = reg_best.predict(X_test)\n",
        "\n",
        "# get spearman's correlation\n",
        "res = stats.spearmanr(y_pred, y_test)\n",
        "print('Spearman correlation:', res[0])              # previously 0.3304392621434899"
      ],
      "metadata": {
        "colab": {
          "base_uri": "https://localhost:8080/"
        },
        "id": "WeEowQubwVPi",
        "outputId": "7c4dd03b-2308-4360-fa21-2b49dbb05fb2"
      },
      "execution_count": null,
      "outputs": [
        {
          "output_type": "stream",
          "name": "stdout",
          "text": [
            "Spearman correlation: 0.38029056801264327\n"
          ]
        }
      ]
    },
    {
      "cell_type": "code",
      "source": [
        "### SECOND RUN: Scaling, just feature selection"
      ],
      "metadata": {
        "id": "iUvgPOahFYtM"
      },
      "execution_count": null,
      "outputs": []
    },
    {
      "cell_type": "code",
      "source": [
        "# split the training dataframe into train and val\n",
        "X_train, X_test, y_train, y_test = train_test_split(X_scaled, y, test_size=0.2, random_state=42)"
      ],
      "metadata": {
        "id": "rOr137sTIY-a"
      },
      "execution_count": 41,
      "outputs": []
    },
    {
      "cell_type": "code",
      "source": [
        "# standardize features\n",
        "scaler = StandardScaler()\n",
        "\n",
        "# scale training data\n",
        "X_train_scaled = scaler.fit_transform(X_train)\n",
        "X_train_scaled = pd.DataFrame(X_train_scaled, columns=X.columns)\n",
        "\n",
        "# scale test data\n",
        "X_test_scaled = scaler.transform(X_test)"
      ],
      "metadata": {
        "id": "XtBET-qnFY-r"
      },
      "execution_count": 43,
      "outputs": []
    },
    {
      "cell_type": "code",
      "source": [
        "# initialize LASSO model\n",
        "lasso = linear_model.Lasso()\n",
        "\n",
        "# specify parameters for optimization\n",
        "parameters = {\n",
        "    'alpha': [0.1, 1, 10, 100],\n",
        "    'max_iter': [5000, 7500]\n",
        "  }\n",
        "\n",
        "# identify optimal parameters\n",
        "reg = GridSearchCV(\n",
        "    estimator = lasso,\n",
        "    param_grid = parameters,\n",
        "    verbose=2\n",
        "  )\n",
        "reg.fit(X_train_scaled, y_train)\n",
        "print('Best params:', reg.best_params_ )"
      ],
      "metadata": {
        "colab": {
          "base_uri": "https://localhost:8080/"
        },
        "id": "pgt6d7s5Fizy",
        "outputId": "99a156cb-90e6-4b0b-8e0b-937fd5d6a546"
      },
      "execution_count": 44,
      "outputs": [
        {
          "output_type": "stream",
          "name": "stdout",
          "text": [
            "Fitting 5 folds for each of 8 candidates, totalling 40 fits\n",
            "[CV] END ...........................alpha=0.1, max_iter=5000; total time=   0.0s\n",
            "[CV] END ...........................alpha=0.1, max_iter=5000; total time=   0.0s\n",
            "[CV] END ...........................alpha=0.1, max_iter=5000; total time=   0.0s\n",
            "[CV] END ...........................alpha=0.1, max_iter=5000; total time=   0.0s\n",
            "[CV] END ...........................alpha=0.1, max_iter=5000; total time=   0.0s\n",
            "[CV] END ...........................alpha=0.1, max_iter=7500; total time=   0.0s\n",
            "[CV] END ...........................alpha=0.1, max_iter=7500; total time=   0.0s\n",
            "[CV] END ...........................alpha=0.1, max_iter=7500; total time=   0.0s\n",
            "[CV] END ...........................alpha=0.1, max_iter=7500; total time=   0.0s\n",
            "[CV] END ...........................alpha=0.1, max_iter=7500; total time=   0.0s\n",
            "[CV] END .............................alpha=1, max_iter=5000; total time=   0.0s\n",
            "[CV] END .............................alpha=1, max_iter=5000; total time=   0.0s\n",
            "[CV] END .............................alpha=1, max_iter=5000; total time=   0.0s\n",
            "[CV] END .............................alpha=1, max_iter=5000; total time=   0.0s\n",
            "[CV] END .............................alpha=1, max_iter=5000; total time=   0.0s\n",
            "[CV] END .............................alpha=1, max_iter=7500; total time=   0.0s\n",
            "[CV] END .............................alpha=1, max_iter=7500; total time=   0.0s\n",
            "[CV] END .............................alpha=1, max_iter=7500; total time=   0.0s\n",
            "[CV] END .............................alpha=1, max_iter=7500; total time=   0.0s\n",
            "[CV] END .............................alpha=1, max_iter=7500; total time=   0.0s\n",
            "[CV] END ............................alpha=10, max_iter=5000; total time=   0.0s\n",
            "[CV] END ............................alpha=10, max_iter=5000; total time=   0.0s\n",
            "[CV] END ............................alpha=10, max_iter=5000; total time=   0.0s\n",
            "[CV] END ............................alpha=10, max_iter=5000; total time=   0.0s\n",
            "[CV] END ............................alpha=10, max_iter=5000; total time=   0.0s\n",
            "[CV] END ............................alpha=10, max_iter=7500; total time=   0.0s\n",
            "[CV] END ............................alpha=10, max_iter=7500; total time=   0.0s\n",
            "[CV] END ............................alpha=10, max_iter=7500; total time=   0.0s\n",
            "[CV] END ............................alpha=10, max_iter=7500; total time=   0.0s\n",
            "[CV] END ............................alpha=10, max_iter=7500; total time=   0.0s\n",
            "[CV] END ...........................alpha=100, max_iter=5000; total time=   0.0s\n",
            "[CV] END ...........................alpha=100, max_iter=5000; total time=   0.0s\n",
            "[CV] END ...........................alpha=100, max_iter=5000; total time=   0.0s\n",
            "[CV] END ...........................alpha=100, max_iter=5000; total time=   0.0s\n",
            "[CV] END ...........................alpha=100, max_iter=5000; total time=   0.0s\n",
            "[CV] END ...........................alpha=100, max_iter=7500; total time=   0.0s\n",
            "[CV] END ...........................alpha=100, max_iter=7500; total time=   0.0s\n",
            "[CV] END ...........................alpha=100, max_iter=7500; total time=   0.0s\n",
            "[CV] END ...........................alpha=100, max_iter=7500; total time=   0.0s\n",
            "[CV] END ...........................alpha=100, max_iter=7500; total time=   0.0s\n",
            "Best params: {'alpha': 0.1, 'max_iter': 5000}\n"
          ]
        }
      ]
    },
    {
      "cell_type": "code",
      "source": [
        "# test best model parameters on test data\n",
        "reg_best = reg.best_estimator_\n",
        "\n",
        "# get predicted values for test data\n",
        "y_pred = reg_best.predict(X_test_scaled)\n",
        "\n",
        "# get spearman's correlation\n",
        "res = stats.spearmanr(y_pred, y_test)\n",
        "print('Spearman correlation:', res[0])\n",
        "\n",
        "# TODO: Debug"
      ],
      "metadata": {
        "colab": {
          "base_uri": "https://localhost:8080/"
        },
        "id": "cI0TH9OhFlQY",
        "outputId": "444a5ed9-96fb-4e84-be33-f9288037e635"
      },
      "execution_count": 45,
      "outputs": [
        {
          "output_type": "stream",
          "name": "stdout",
          "text": [
            "Spearman correlation: nan\n"
          ]
        },
        {
          "output_type": "stream",
          "name": "stderr",
          "text": [
            "/usr/local/lib/python3.10/dist-packages/sklearn/base.py:493: UserWarning: X does not have valid feature names, but Lasso was fitted with feature names\n",
            "  warnings.warn(\n",
            "<ipython-input-45-62a0cf058523>:8: ConstantInputWarning: An input array is constant; the correlation coefficient is not defined.\n",
            "  res = stats.spearmanr(y_pred, y_test)\n"
          ]
        }
      ]
    }
  ]
}