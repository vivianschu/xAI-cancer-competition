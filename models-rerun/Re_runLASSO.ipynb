{
  "nbformat": 4,
  "nbformat_minor": 0,
  "metadata": {
    "colab": {
      "provenance": []
    },
    "kernelspec": {
      "name": "python3",
      "display_name": "Python 3"
    },
    "language_info": {
      "name": "python"
    }
  },
  "cells": [
    {
      "cell_type": "code",
      "execution_count": 25,
      "metadata": {
        "id": "YCjAUn-Ogwtv"
      },
      "outputs": [],
      "source": [
        "# load libraries\n",
        "import pandas as pd\n",
        "import numpy as np\n",
        "from sklearn import linear_model\n",
        "from sklearn.preprocessing import StandardScaler\n",
        "from sklearn.model_selection import train_test_split, GridSearchCV\n",
        "from scipy import stats"
      ]
    },
    {
      "cell_type": "code",
      "source": [
        "# specify file paths\n",
        "train_df = \"train_subset.csv\"\n",
        "train_targets = \"train_targets.csv\"\n",
        "\n",
        "# read in files\n",
        "X = pd.read_csv(train_df)\n",
        "y = pd.read_csv(train_targets)['AAC']   # keep only AAC column\n",
        "\n",
        "print(X.shape)\n",
        "print(y.shape)"
      ],
      "metadata": {
        "id": "FJUsIM2FlVxT",
        "colab": {
          "base_uri": "https://localhost:8080/"
        },
        "outputId": "7aca24fd-4c1d-449b-e7c5-0abbb811b383"
      },
      "execution_count": 26,
      "outputs": [
        {
          "output_type": "stream",
          "name": "stdout",
          "text": [
            "(742, 457)\n",
            "(742,)\n"
          ]
        }
      ]
    },
    {
      "cell_type": "code",
      "source": [
        "### FIRST RUN: No scaling, just feature selection"
      ],
      "metadata": {
        "id": "yILONV4VFUns"
      },
      "execution_count": null,
      "outputs": []
    },
    {
      "cell_type": "code",
      "source": [
        "# split the training dataframe into train and val\n",
        "X_train, X_test, y_train, y_test = train_test_split(X, y, test_size=0.2, random_state=42)"
      ],
      "metadata": {
        "id": "hSD-lRBUvRQe"
      },
      "execution_count": 27,
      "outputs": []
    },
    {
      "cell_type": "code",
      "source": [
        "# initialize LASSO model\n",
        "lasso = linear_model.Lasso()\n",
        "\n",
        "# specify parameters for optimization\n",
        "parameters = {\n",
        "    'alpha': [0.1, 1, 10, 100],\n",
        "    'max_iter': [5000, 7500]\n",
        "  }\n",
        "\n",
        "# identify optimal parameters\n",
        "reg = GridSearchCV(\n",
        "    estimator = lasso,\n",
        "    param_grid = parameters,\n",
        "    verbose=2\n",
        "  )\n",
        "reg.fit(X_train, y_train)\n",
        "print('Best params:', reg.best_params_ )"
      ],
      "metadata": {
        "colab": {
          "base_uri": "https://localhost:8080/"
        },
        "id": "4oFBHcoXrWb2",
        "outputId": "a8eee243-7310-41f0-e5cf-5e55c42e5032"
      },
      "execution_count": 29,
      "outputs": [
        {
          "output_type": "stream",
          "name": "stdout",
          "text": [
            "Fitting 5 folds for each of 8 candidates, totalling 40 fits\n",
            "[CV] END ...........................alpha=0.1, max_iter=5000; total time=   0.1s\n",
            "[CV] END ...........................alpha=0.1, max_iter=5000; total time=   0.2s\n",
            "[CV] END ...........................alpha=0.1, max_iter=5000; total time=   0.2s\n",
            "[CV] END ...........................alpha=0.1, max_iter=5000; total time=   0.3s\n",
            "[CV] END ...........................alpha=0.1, max_iter=5000; total time=   0.2s\n",
            "[CV] END ...........................alpha=0.1, max_iter=7500; total time=   0.2s\n",
            "[CV] END ...........................alpha=0.1, max_iter=7500; total time=   0.2s\n",
            "[CV] END ...........................alpha=0.1, max_iter=7500; total time=   0.2s\n",
            "[CV] END ...........................alpha=0.1, max_iter=7500; total time=   0.2s\n",
            "[CV] END ...........................alpha=0.1, max_iter=7500; total time=   0.2s\n",
            "[CV] END .............................alpha=1, max_iter=5000; total time=   0.0s\n",
            "[CV] END .............................alpha=1, max_iter=5000; total time=   0.0s\n",
            "[CV] END .............................alpha=1, max_iter=5000; total time=   0.0s\n",
            "[CV] END .............................alpha=1, max_iter=5000; total time=   0.0s\n",
            "[CV] END .............................alpha=1, max_iter=5000; total time=   0.0s\n",
            "[CV] END .............................alpha=1, max_iter=7500; total time=   0.0s\n",
            "[CV] END .............................alpha=1, max_iter=7500; total time=   0.0s\n",
            "[CV] END .............................alpha=1, max_iter=7500; total time=   0.0s\n",
            "[CV] END .............................alpha=1, max_iter=7500; total time=   0.0s\n",
            "[CV] END .............................alpha=1, max_iter=7500; total time=   0.0s\n",
            "[CV] END ............................alpha=10, max_iter=5000; total time=   0.0s\n",
            "[CV] END ............................alpha=10, max_iter=5000; total time=   0.0s\n",
            "[CV] END ............................alpha=10, max_iter=5000; total time=   0.0s\n",
            "[CV] END ............................alpha=10, max_iter=5000; total time=   0.0s\n",
            "[CV] END ............................alpha=10, max_iter=5000; total time=   0.0s\n",
            "[CV] END ............................alpha=10, max_iter=7500; total time=   0.0s\n",
            "[CV] END ............................alpha=10, max_iter=7500; total time=   0.0s\n",
            "[CV] END ............................alpha=10, max_iter=7500; total time=   0.0s\n",
            "[CV] END ............................alpha=10, max_iter=7500; total time=   0.0s\n",
            "[CV] END ............................alpha=10, max_iter=7500; total time=   0.0s\n",
            "[CV] END ...........................alpha=100, max_iter=5000; total time=   0.0s\n",
            "[CV] END ...........................alpha=100, max_iter=5000; total time=   0.0s\n",
            "[CV] END ...........................alpha=100, max_iter=5000; total time=   0.0s\n",
            "[CV] END ...........................alpha=100, max_iter=5000; total time=   0.0s\n",
            "[CV] END ...........................alpha=100, max_iter=5000; total time=   0.0s\n",
            "[CV] END ...........................alpha=100, max_iter=7500; total time=   0.0s\n",
            "[CV] END ...........................alpha=100, max_iter=7500; total time=   0.0s\n",
            "[CV] END ...........................alpha=100, max_iter=7500; total time=   0.0s\n",
            "[CV] END ...........................alpha=100, max_iter=7500; total time=   0.0s\n",
            "[CV] END ...........................alpha=100, max_iter=7500; total time=   0.0s\n",
            "Best params: {'alpha': 1, 'max_iter': 5000}\n"
          ]
        }
      ]
    },
    {
      "cell_type": "code",
      "source": [
        "# test best model parameters on test data\n",
        "reg_best = reg.best_estimator_\n",
        "\n",
        "# get predicted values for test data\n",
        "y_pred = reg_best.predict(X_test)\n",
        "\n",
        "# get spearman's correlation\n",
        "res = stats.spearmanr(y_pred, y_test)\n",
        "print('Spearman correlation:', res[0])              # previously 0.3304392621434899"
      ],
      "metadata": {
        "colab": {
          "base_uri": "https://localhost:8080/"
        },
        "id": "WeEowQubwVPi",
        "outputId": "7c4dd03b-2308-4360-fa21-2b49dbb05fb2"
      },
      "execution_count": 31,
      "outputs": [
        {
          "output_type": "stream",
          "name": "stdout",
          "text": [
            "Spearman correlation: 0.38029056801264327\n"
          ]
        }
      ]
    },
    {
      "cell_type": "code",
      "source": [
        "### SECOND RUN: Scaling, just feature selection"
      ],
      "metadata": {
        "id": "iUvgPOahFYtM"
      },
      "execution_count": null,
      "outputs": []
    },
    {
      "cell_type": "code",
      "source": [
        "# standardize features\n",
        "scaler = StandardScaler()\n",
        "X_scaled = scaler.fit_transform(X)\n",
        "X_scaled = pd.DataFrame(X_scaled, columns=X.columns)"
      ],
      "metadata": {
        "id": "XtBET-qnFY-r"
      },
      "execution_count": 35,
      "outputs": []
    },
    {
      "cell_type": "code",
      "source": [
        "# split the training dataframe into train and val\n",
        "X_train, X_test, y_train, y_test = train_test_split(X_scaled, y, test_size=0.2, random_state=42)"
      ],
      "metadata": {
        "id": "1fvJn-ZlFfCn"
      },
      "execution_count": 36,
      "outputs": []
    },
    {
      "cell_type": "code",
      "source": [
        "# initialize LASSO model\n",
        "lasso = linear_model.Lasso()\n",
        "\n",
        "# specify parameters for optimization\n",
        "parameters = {\n",
        "    'alpha': [0.1, 1, 10, 100],\n",
        "    'max_iter': [5000, 7500]\n",
        "  }\n",
        "\n",
        "# identify optimal parameters\n",
        "reg = GridSearchCV(\n",
        "    estimator = lasso,\n",
        "    param_grid = parameters,\n",
        "    verbose=2\n",
        "  )\n",
        "reg.fit(X_train, y_train)\n",
        "print('Best params:', reg.best_params_ )"
      ],
      "metadata": {
        "colab": {
          "base_uri": "https://localhost:8080/"
        },
        "id": "pgt6d7s5Fizy",
        "outputId": "6a600050-f81a-4146-f8d5-8a172298dd33"
      },
      "execution_count": 37,
      "outputs": [
        {
          "output_type": "stream",
          "name": "stdout",
          "text": [
            "Fitting 5 folds for each of 8 candidates, totalling 40 fits\n",
            "[CV] END ...........................alpha=0.1, max_iter=5000; total time=   0.0s\n",
            "[CV] END ...........................alpha=0.1, max_iter=5000; total time=   0.0s\n",
            "[CV] END ...........................alpha=0.1, max_iter=5000; total time=   0.0s\n",
            "[CV] END ...........................alpha=0.1, max_iter=5000; total time=   0.0s\n",
            "[CV] END ...........................alpha=0.1, max_iter=5000; total time=   0.0s\n",
            "[CV] END ...........................alpha=0.1, max_iter=7500; total time=   0.0s\n",
            "[CV] END ...........................alpha=0.1, max_iter=7500; total time=   0.0s\n",
            "[CV] END ...........................alpha=0.1, max_iter=7500; total time=   0.0s\n",
            "[CV] END ...........................alpha=0.1, max_iter=7500; total time=   0.0s\n",
            "[CV] END ...........................alpha=0.1, max_iter=7500; total time=   0.0s\n",
            "[CV] END .............................alpha=1, max_iter=5000; total time=   0.0s\n",
            "[CV] END .............................alpha=1, max_iter=5000; total time=   0.0s\n",
            "[CV] END .............................alpha=1, max_iter=5000; total time=   0.0s\n",
            "[CV] END .............................alpha=1, max_iter=5000; total time=   0.0s\n",
            "[CV] END .............................alpha=1, max_iter=5000; total time=   0.0s\n",
            "[CV] END .............................alpha=1, max_iter=7500; total time=   0.0s\n",
            "[CV] END .............................alpha=1, max_iter=7500; total time=   0.0s\n",
            "[CV] END .............................alpha=1, max_iter=7500; total time=   0.0s\n",
            "[CV] END .............................alpha=1, max_iter=7500; total time=   0.0s\n",
            "[CV] END .............................alpha=1, max_iter=7500; total time=   0.0s\n",
            "[CV] END ............................alpha=10, max_iter=5000; total time=   0.0s\n",
            "[CV] END ............................alpha=10, max_iter=5000; total time=   0.0s\n",
            "[CV] END ............................alpha=10, max_iter=5000; total time=   0.0s\n",
            "[CV] END ............................alpha=10, max_iter=5000; total time=   0.0s\n",
            "[CV] END ............................alpha=10, max_iter=5000; total time=   0.0s\n",
            "[CV] END ............................alpha=10, max_iter=7500; total time=   0.0s\n",
            "[CV] END ............................alpha=10, max_iter=7500; total time=   0.0s\n",
            "[CV] END ............................alpha=10, max_iter=7500; total time=   0.0s\n",
            "[CV] END ............................alpha=10, max_iter=7500; total time=   0.0s\n",
            "[CV] END ............................alpha=10, max_iter=7500; total time=   0.0s\n",
            "[CV] END ...........................alpha=100, max_iter=5000; total time=   0.0s\n",
            "[CV] END ...........................alpha=100, max_iter=5000; total time=   0.0s\n",
            "[CV] END ...........................alpha=100, max_iter=5000; total time=   0.0s\n",
            "[CV] END ...........................alpha=100, max_iter=5000; total time=   0.0s\n",
            "[CV] END ...........................alpha=100, max_iter=5000; total time=   0.0s\n",
            "[CV] END ...........................alpha=100, max_iter=7500; total time=   0.0s\n",
            "[CV] END ...........................alpha=100, max_iter=7500; total time=   0.0s\n",
            "[CV] END ...........................alpha=100, max_iter=7500; total time=   0.0s\n",
            "[CV] END ...........................alpha=100, max_iter=7500; total time=   0.0s\n",
            "[CV] END ...........................alpha=100, max_iter=7500; total time=   0.0s\n",
            "Best params: {'alpha': 0.1, 'max_iter': 5000}\n"
          ]
        }
      ]
    },
    {
      "cell_type": "code",
      "source": [
        "# test best model parameters on test data\n",
        "reg_best = reg.best_estimator_\n",
        "\n",
        "# get predicted values for test data\n",
        "y_pred = reg_best.predict(X_test)\n",
        "\n",
        "# get spearman's correlation\n",
        "res = stats.spearmanr(y_pred, y_test)\n",
        "print('Spearman correlation:', res[0])\n",
        "\n",
        "# TODO: Debug"
      ],
      "metadata": {
        "colab": {
          "base_uri": "https://localhost:8080/"
        },
        "id": "cI0TH9OhFlQY",
        "outputId": "7e563c94-0e13-4613-c9e3-3f4ce6cdf0cd"
      },
      "execution_count": 38,
      "outputs": [
        {
          "output_type": "stream",
          "name": "stdout",
          "text": [
            "Spearman correlation: nan\n"
          ]
        },
        {
          "output_type": "stream",
          "name": "stderr",
          "text": [
            "<ipython-input-38-2acc867ffba8>:8: ConstantInputWarning: An input array is constant; the correlation coefficient is not defined.\n",
            "  res = stats.spearmanr(y_pred, y_test)\n"
          ]
        }
      ]
    }
  ]
}