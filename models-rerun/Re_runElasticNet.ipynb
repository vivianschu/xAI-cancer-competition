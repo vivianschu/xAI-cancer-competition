{
  "nbformat": 4,
  "nbformat_minor": 0,
  "metadata": {
    "colab": {
      "provenance": []
    },
    "kernelspec": {
      "name": "python3",
      "display_name": "Python 3"
    },
    "language_info": {
      "name": "python"
    }
  },
  "cells": [
    {
      "cell_type": "code",
      "execution_count": 1,
      "metadata": {
        "id": "YCjAUn-Ogwtv"
      },
      "outputs": [],
      "source": [
        "# load libraries\n",
        "import pandas as pd\n",
        "import numpy as np\n",
        "from sklearn.linear_model import ElasticNet\n",
        "from sklearn.model_selection import train_test_split, GridSearchCV\n",
        "from scipy import stats"
      ]
    },
    {
      "cell_type": "code",
      "source": [
        "# specify file paths\n",
        "train_df = \"train_subset.csv\"\n",
        "train_targets = \"train_targets.csv\"\n",
        "\n",
        "# read in files\n",
        "X = pd.read_csv(train_df)\n",
        "y = pd.read_csv(train_targets)['AAC']   # keep only AAC column\n",
        "\n",
        "print(X.shape)\n",
        "print(y.shape)"
      ],
      "metadata": {
        "id": "FJUsIM2FlVxT",
        "colab": {
          "base_uri": "https://localhost:8080/"
        },
        "outputId": "ba4380bc-1844-4403-cc12-b43e1d026baa"
      },
      "execution_count": 2,
      "outputs": [
        {
          "output_type": "stream",
          "name": "stdout",
          "text": [
            "(742, 457)\n",
            "(742,)\n"
          ]
        }
      ]
    },
    {
      "cell_type": "code",
      "source": [
        "# split the training dataframe into train and val\n",
        "X_train, X_test, y_train, y_test = train_test_split(X, y, test_size=0.2, random_state=42)"
      ],
      "metadata": {
        "id": "hSD-lRBUvRQe"
      },
      "execution_count": 3,
      "outputs": []
    },
    {
      "cell_type": "code",
      "source": [
        "# initialize LASSO model\n",
        "en = ElasticNet()\n",
        "\n",
        "# specify parameters for optimization\n",
        "parameters = {\n",
        "    'alpha': [0.1, 1, 10, 100],\n",
        "    'l1_ratio': [0.2, 0.5, 0.8],\n",
        "    'max_iter': [5000, 7500]\n",
        "  }\n",
        "\n",
        "# identify optimal parameters\n",
        "reg = GridSearchCV(\n",
        "    estimator = en,\n",
        "    param_grid = parameters,\n",
        "    verbose=2\n",
        "  )\n",
        "reg.fit(X_train, y_train)\n",
        "print('Best params:', reg.best_params_ )"
      ],
      "metadata": {
        "colab": {
          "base_uri": "https://localhost:8080/"
        },
        "id": "4oFBHcoXrWb2",
        "outputId": "75ecaffb-2746-4959-8144-ab7c68ef0c27"
      },
      "execution_count": 6,
      "outputs": [
        {
          "output_type": "stream",
          "name": "stdout",
          "text": [
            "Fitting 5 folds for each of 24 candidates, totalling 120 fits\n",
            "[CV] END .............alpha=0.1, l1_ratio=0.2, max_iter=5000; total time=   0.8s\n",
            "[CV] END .............alpha=0.1, l1_ratio=0.2, max_iter=5000; total time=   0.8s\n",
            "[CV] END .............alpha=0.1, l1_ratio=0.2, max_iter=5000; total time=   0.7s\n"
          ]
        },
        {
          "output_type": "stream",
          "name": "stderr",
          "text": [
            "/usr/local/lib/python3.10/dist-packages/sklearn/linear_model/_coordinate_descent.py:697: ConvergenceWarning: Objective did not converge. You might want to increase the number of iterations, check the scale of the features or consider increasing regularisation. Duality gap: 7.010e-04, tolerance: 5.244e-04\n",
            "  model = cd_fast.enet_coordinate_descent(\n"
          ]
        },
        {
          "output_type": "stream",
          "name": "stdout",
          "text": [
            "[CV] END .............alpha=0.1, l1_ratio=0.2, max_iter=5000; total time=   1.3s\n",
            "[CV] END .............alpha=0.1, l1_ratio=0.2, max_iter=5000; total time=   0.9s\n",
            "[CV] END .............alpha=0.1, l1_ratio=0.2, max_iter=7500; total time=   0.8s\n",
            "[CV] END .............alpha=0.1, l1_ratio=0.2, max_iter=7500; total time=   0.6s\n",
            "[CV] END .............alpha=0.1, l1_ratio=0.2, max_iter=7500; total time=   0.5s\n",
            "[CV] END .............alpha=0.1, l1_ratio=0.2, max_iter=7500; total time=   1.0s\n",
            "[CV] END .............alpha=0.1, l1_ratio=0.2, max_iter=7500; total time=   0.8s\n",
            "[CV] END .............alpha=0.1, l1_ratio=0.5, max_iter=5000; total time=   0.8s\n",
            "[CV] END .............alpha=0.1, l1_ratio=0.5, max_iter=5000; total time=   0.4s\n",
            "[CV] END .............alpha=0.1, l1_ratio=0.5, max_iter=5000; total time=   0.5s\n",
            "[CV] END .............alpha=0.1, l1_ratio=0.5, max_iter=5000; total time=   0.3s\n",
            "[CV] END .............alpha=0.1, l1_ratio=0.5, max_iter=5000; total time=   0.3s\n",
            "[CV] END .............alpha=0.1, l1_ratio=0.5, max_iter=7500; total time=   0.4s\n",
            "[CV] END .............alpha=0.1, l1_ratio=0.5, max_iter=7500; total time=   0.3s\n",
            "[CV] END .............alpha=0.1, l1_ratio=0.5, max_iter=7500; total time=   0.3s\n",
            "[CV] END .............alpha=0.1, l1_ratio=0.5, max_iter=7500; total time=   0.6s\n",
            "[CV] END .............alpha=0.1, l1_ratio=0.5, max_iter=7500; total time=   0.6s\n",
            "[CV] END .............alpha=0.1, l1_ratio=0.8, max_iter=5000; total time=   0.2s\n",
            "[CV] END .............alpha=0.1, l1_ratio=0.8, max_iter=5000; total time=   0.2s\n",
            "[CV] END .............alpha=0.1, l1_ratio=0.8, max_iter=5000; total time=   0.2s\n",
            "[CV] END .............alpha=0.1, l1_ratio=0.8, max_iter=5000; total time=   0.5s\n",
            "[CV] END .............alpha=0.1, l1_ratio=0.8, max_iter=5000; total time=   0.2s\n",
            "[CV] END .............alpha=0.1, l1_ratio=0.8, max_iter=7500; total time=   0.4s\n",
            "[CV] END .............alpha=0.1, l1_ratio=0.8, max_iter=7500; total time=   0.5s\n",
            "[CV] END .............alpha=0.1, l1_ratio=0.8, max_iter=7500; total time=   0.7s\n",
            "[CV] END .............alpha=0.1, l1_ratio=0.8, max_iter=7500; total time=   0.8s\n",
            "[CV] END .............alpha=0.1, l1_ratio=0.8, max_iter=7500; total time=   0.3s\n",
            "[CV] END ...............alpha=1, l1_ratio=0.2, max_iter=5000; total time=   0.1s\n",
            "[CV] END ...............alpha=1, l1_ratio=0.2, max_iter=5000; total time=   0.1s\n",
            "[CV] END ...............alpha=1, l1_ratio=0.2, max_iter=5000; total time=   0.1s\n",
            "[CV] END ...............alpha=1, l1_ratio=0.2, max_iter=5000; total time=   0.1s\n",
            "[CV] END ...............alpha=1, l1_ratio=0.2, max_iter=5000; total time=   0.1s\n",
            "[CV] END ...............alpha=1, l1_ratio=0.2, max_iter=7500; total time=   0.1s\n",
            "[CV] END ...............alpha=1, l1_ratio=0.2, max_iter=7500; total time=   0.1s\n",
            "[CV] END ...............alpha=1, l1_ratio=0.2, max_iter=7500; total time=   0.1s\n",
            "[CV] END ...............alpha=1, l1_ratio=0.2, max_iter=7500; total time=   0.1s\n",
            "[CV] END ...............alpha=1, l1_ratio=0.2, max_iter=7500; total time=   0.1s\n",
            "[CV] END ...............alpha=1, l1_ratio=0.5, max_iter=5000; total time=   0.1s\n",
            "[CV] END ...............alpha=1, l1_ratio=0.5, max_iter=5000; total time=   0.1s\n",
            "[CV] END ...............alpha=1, l1_ratio=0.5, max_iter=5000; total time=   0.1s\n",
            "[CV] END ...............alpha=1, l1_ratio=0.5, max_iter=5000; total time=   0.1s\n",
            "[CV] END ...............alpha=1, l1_ratio=0.5, max_iter=5000; total time=   0.1s\n",
            "[CV] END ...............alpha=1, l1_ratio=0.5, max_iter=7500; total time=   0.1s\n",
            "[CV] END ...............alpha=1, l1_ratio=0.5, max_iter=7500; total time=   0.1s\n",
            "[CV] END ...............alpha=1, l1_ratio=0.5, max_iter=7500; total time=   0.1s\n",
            "[CV] END ...............alpha=1, l1_ratio=0.5, max_iter=7500; total time=   0.1s\n",
            "[CV] END ...............alpha=1, l1_ratio=0.5, max_iter=7500; total time=   0.1s\n",
            "[CV] END ...............alpha=1, l1_ratio=0.8, max_iter=5000; total time=   0.0s\n",
            "[CV] END ...............alpha=1, l1_ratio=0.8, max_iter=5000; total time=   0.0s\n",
            "[CV] END ...............alpha=1, l1_ratio=0.8, max_iter=5000; total time=   0.0s\n",
            "[CV] END ...............alpha=1, l1_ratio=0.8, max_iter=5000; total time=   0.0s\n",
            "[CV] END ...............alpha=1, l1_ratio=0.8, max_iter=5000; total time=   0.0s\n",
            "[CV] END ...............alpha=1, l1_ratio=0.8, max_iter=7500; total time=   0.0s\n",
            "[CV] END ...............alpha=1, l1_ratio=0.8, max_iter=7500; total time=   0.0s\n",
            "[CV] END ...............alpha=1, l1_ratio=0.8, max_iter=7500; total time=   0.0s\n",
            "[CV] END ...............alpha=1, l1_ratio=0.8, max_iter=7500; total time=   0.0s\n",
            "[CV] END ...............alpha=1, l1_ratio=0.8, max_iter=7500; total time=   0.0s\n",
            "[CV] END ..............alpha=10, l1_ratio=0.2, max_iter=5000; total time=   0.0s\n",
            "[CV] END ..............alpha=10, l1_ratio=0.2, max_iter=5000; total time=   0.0s\n",
            "[CV] END ..............alpha=10, l1_ratio=0.2, max_iter=5000; total time=   0.0s\n",
            "[CV] END ..............alpha=10, l1_ratio=0.2, max_iter=5000; total time=   0.0s\n",
            "[CV] END ..............alpha=10, l1_ratio=0.2, max_iter=5000; total time=   0.0s\n",
            "[CV] END ..............alpha=10, l1_ratio=0.2, max_iter=7500; total time=   0.0s\n",
            "[CV] END ..............alpha=10, l1_ratio=0.2, max_iter=7500; total time=   0.0s\n",
            "[CV] END ..............alpha=10, l1_ratio=0.2, max_iter=7500; total time=   0.0s\n",
            "[CV] END ..............alpha=10, l1_ratio=0.2, max_iter=7500; total time=   0.0s\n",
            "[CV] END ..............alpha=10, l1_ratio=0.2, max_iter=7500; total time=   0.0s\n",
            "[CV] END ..............alpha=10, l1_ratio=0.5, max_iter=5000; total time=   0.0s\n",
            "[CV] END ..............alpha=10, l1_ratio=0.5, max_iter=5000; total time=   0.0s\n",
            "[CV] END ..............alpha=10, l1_ratio=0.5, max_iter=5000; total time=   0.0s\n",
            "[CV] END ..............alpha=10, l1_ratio=0.5, max_iter=5000; total time=   0.1s\n",
            "[CV] END ..............alpha=10, l1_ratio=0.5, max_iter=5000; total time=   0.1s\n",
            "[CV] END ..............alpha=10, l1_ratio=0.5, max_iter=7500; total time=   0.1s\n",
            "[CV] END ..............alpha=10, l1_ratio=0.5, max_iter=7500; total time=   0.2s\n",
            "[CV] END ..............alpha=10, l1_ratio=0.5, max_iter=7500; total time=   0.1s\n",
            "[CV] END ..............alpha=10, l1_ratio=0.5, max_iter=7500; total time=   0.1s\n",
            "[CV] END ..............alpha=10, l1_ratio=0.5, max_iter=7500; total time=   0.1s\n",
            "[CV] END ..............alpha=10, l1_ratio=0.8, max_iter=5000; total time=   0.1s\n",
            "[CV] END ..............alpha=10, l1_ratio=0.8, max_iter=5000; total time=   0.0s\n",
            "[CV] END ..............alpha=10, l1_ratio=0.8, max_iter=5000; total time=   0.0s\n",
            "[CV] END ..............alpha=10, l1_ratio=0.8, max_iter=5000; total time=   0.0s\n",
            "[CV] END ..............alpha=10, l1_ratio=0.8, max_iter=5000; total time=   0.1s\n",
            "[CV] END ..............alpha=10, l1_ratio=0.8, max_iter=7500; total time=   0.0s\n",
            "[CV] END ..............alpha=10, l1_ratio=0.8, max_iter=7500; total time=   0.1s\n",
            "[CV] END ..............alpha=10, l1_ratio=0.8, max_iter=7500; total time=   0.1s\n",
            "[CV] END ..............alpha=10, l1_ratio=0.8, max_iter=7500; total time=   0.1s\n",
            "[CV] END ..............alpha=10, l1_ratio=0.8, max_iter=7500; total time=   0.1s\n",
            "[CV] END .............alpha=100, l1_ratio=0.2, max_iter=5000; total time=   0.1s\n",
            "[CV] END .............alpha=100, l1_ratio=0.2, max_iter=5000; total time=   0.0s\n",
            "[CV] END .............alpha=100, l1_ratio=0.2, max_iter=5000; total time=   0.1s\n",
            "[CV] END .............alpha=100, l1_ratio=0.2, max_iter=5000; total time=   0.1s\n",
            "[CV] END .............alpha=100, l1_ratio=0.2, max_iter=5000; total time=   0.1s\n",
            "[CV] END .............alpha=100, l1_ratio=0.2, max_iter=7500; total time=   0.1s\n",
            "[CV] END .............alpha=100, l1_ratio=0.2, max_iter=7500; total time=   0.1s\n",
            "[CV] END .............alpha=100, l1_ratio=0.2, max_iter=7500; total time=   0.1s\n",
            "[CV] END .............alpha=100, l1_ratio=0.2, max_iter=7500; total time=   0.1s\n",
            "[CV] END .............alpha=100, l1_ratio=0.2, max_iter=7500; total time=   0.0s\n",
            "[CV] END .............alpha=100, l1_ratio=0.5, max_iter=5000; total time=   0.0s\n",
            "[CV] END .............alpha=100, l1_ratio=0.5, max_iter=5000; total time=   0.1s\n",
            "[CV] END .............alpha=100, l1_ratio=0.5, max_iter=5000; total time=   0.1s\n",
            "[CV] END .............alpha=100, l1_ratio=0.5, max_iter=5000; total time=   0.1s\n",
            "[CV] END .............alpha=100, l1_ratio=0.5, max_iter=5000; total time=   0.1s\n",
            "[CV] END .............alpha=100, l1_ratio=0.5, max_iter=7500; total time=   0.1s\n",
            "[CV] END .............alpha=100, l1_ratio=0.5, max_iter=7500; total time=   0.0s\n",
            "[CV] END .............alpha=100, l1_ratio=0.5, max_iter=7500; total time=   0.1s\n",
            "[CV] END .............alpha=100, l1_ratio=0.5, max_iter=7500; total time=   0.1s\n",
            "[CV] END .............alpha=100, l1_ratio=0.5, max_iter=7500; total time=   0.1s\n",
            "[CV] END .............alpha=100, l1_ratio=0.8, max_iter=5000; total time=   0.0s\n",
            "[CV] END .............alpha=100, l1_ratio=0.8, max_iter=5000; total time=   0.0s\n",
            "[CV] END .............alpha=100, l1_ratio=0.8, max_iter=5000; total time=   0.0s\n",
            "[CV] END .............alpha=100, l1_ratio=0.8, max_iter=5000; total time=   0.0s\n",
            "[CV] END .............alpha=100, l1_ratio=0.8, max_iter=5000; total time=   0.0s\n",
            "[CV] END .............alpha=100, l1_ratio=0.8, max_iter=7500; total time=   0.0s\n",
            "[CV] END .............alpha=100, l1_ratio=0.8, max_iter=7500; total time=   0.0s\n",
            "[CV] END .............alpha=100, l1_ratio=0.8, max_iter=7500; total time=   0.0s\n",
            "[CV] END .............alpha=100, l1_ratio=0.8, max_iter=7500; total time=   0.0s\n",
            "[CV] END .............alpha=100, l1_ratio=0.8, max_iter=7500; total time=   0.0s\n",
            "Best params: {'alpha': 1, 'l1_ratio': 0.5, 'max_iter': 5000}\n"
          ]
        }
      ]
    },
    {
      "cell_type": "code",
      "source": [
        "# test best model parameters on test data\n",
        "reg_best = reg.best_estimator_\n",
        "\n",
        "# get predicted values for test data\n",
        "y_pred = reg_best.predict(X_test)\n",
        "\n",
        "# get spearman's correlation\n",
        "res = stats.spearmanr(y_pred, y_test)\n",
        "print('Spearman correlation:', res[0])          # previously 0.3625960117868458"
      ],
      "metadata": {
        "id": "WeEowQubwVPi",
        "colab": {
          "base_uri": "https://localhost:8080/"
        },
        "outputId": "fc2d0da3-03b7-42a5-b49d-9b9c90cd4ec1"
      },
      "execution_count": 7,
      "outputs": [
        {
          "output_type": "stream",
          "name": "stdout",
          "text": [
            "Spearman correlation: 0.4096593593864911\n"
          ]
        }
      ]
    }
  ]
}