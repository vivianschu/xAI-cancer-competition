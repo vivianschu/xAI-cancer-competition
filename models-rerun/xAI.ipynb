{
 "cells": [
  {
   "cell_type": "code",
   "execution_count": 14,
   "id": "23a17940-da2a-4d53-a840-aeec42885c0a",
   "metadata": {},
   "outputs": [],
   "source": [
    "import pandas as pd\n",
    "import numpy as np\n",
    "from sklearn.model_selection import train_test_split, cross_val_predict\n",
    "from sklearn.linear_model import Ridge\n",
    "from sklearn.ensemble import RandomForestRegressor\n",
    "from sklearn.preprocessing import StandardScaler\n",
    "from sklearn.metrics import make_scorer\n",
    "from scipy.stats import spearmanr\n",
    "from sklearn.model_selection import cross_val_score"
   ]
  },
  {
   "cell_type": "code",
   "execution_count": 24,
   "id": "63713f35-14c8-4c07-b264-faf7de70e09e",
   "metadata": {},
   "outputs": [
    {
     "name": "stdout",
     "output_type": "stream",
     "text": [
      "Train Features Shape: (742, 19920)\n",
      "Train Targets Shape: (742,)\n"
     ]
    }
   ],
   "source": [
    "# specify file paths\n",
    "train_df = \"train.csv\"\n",
    "train_targets = \"train_targets.csv\"\n",
    "\n",
    "# read in files\n",
    "X = pd.read_csv(train_df)\n",
    "X = X.iloc[:, 1:]                       # remove cell line labels\n",
    "y = pd.read_csv(train_targets)['AAC']   # keep only AAC column\n",
    "\n",
    "# preview\n",
    "print(\"Train Features Shape:\", X.shape)\n",
    "print(\"Train Targets Shape:\", y.shape)"
   ]
  },
  {
   "cell_type": "code",
   "execution_count": 25,
   "id": "8f35574b-1139-4a09-a37a-fe4e9474a0c8",
   "metadata": {},
   "outputs": [],
   "source": [
    "# Split the data into train and test sets\n",
    "X_train, X_test, y_train, y_test = train_test_split(X, y, test_size=0.2, random_state=42)"
   ]
  },
  {
   "cell_type": "code",
   "execution_count": 26,
   "id": "6075bc41-d72d-4b92-b38c-9579db09b0d0",
   "metadata": {},
   "outputs": [],
   "source": [
    "# Scale the features\n",
    "scaler = StandardScaler()\n",
    "X_train_scaled = scaler.fit_transform(X_train)  # Fit and transform on training data\n",
    "X_test_scaled = scaler.transform(X_test)        # Transform test data with same scaler"
   ]
  },
  {
   "cell_type": "code",
   "execution_count": 28,
   "id": "ba3ad90e-04c3-46bd-a2b8-0970e821ad1d",
   "metadata": {},
   "outputs": [
    {
     "name": "stdout",
     "output_type": "stream",
     "text": [
      "Validation Spearman correlation for Ridge Regression: 0.3233124644591067\n"
     ]
    }
   ],
   "source": [
    "# Ridge Regression\n",
    "ridge = Ridge()\n",
    "ridge.fit(X_train_scaled, y_train)  # Train on scaled data\n",
    "ridge_test_preds = ridge.predict(X_test_scaled)  # Predict on scaled test data\n",
    "\n",
    "# Spearman Correlation\n",
    "ridge_test_corr = spearmanr(y_test, ridge_test_preds).correlation\n",
    "print(f\"Validation Spearman correlation for Ridge Regression: {ridge_test_corr}\")"
   ]
  },
  {
   "cell_type": "code",
   "execution_count": 29,
   "id": "4029ece7-f863-4f6d-aa1a-3e5237315f74",
   "metadata": {},
   "outputs": [
    {
     "name": "stdout",
     "output_type": "stream",
     "text": [
      "Validation Spearman correlation for Random Forest: 0.4317870776231393\n"
     ]
    }
   ],
   "source": [
    "# Initialize and train the model\n",
    "rf = RandomForestRegressor(random_state=42)\n",
    "rf.fit(X_train_scaled, y_train)  # Train on scaled training data\n",
    "\n",
    "# Make predictions on the test set\n",
    "rf_test_preds = rf.predict(X_test_scaled)\n",
    "\n",
    "# Calculate Spearman correlation\n",
    "rf_test_corr = spearmanr(y_test, rf_test_preds).correlation\n",
    "print(f\"Validation Spearman correlation for Random Forest: {rf_test_corr}\")"
   ]
  },
  {
   "cell_type": "code",
   "execution_count": 30,
   "id": "c1c7854e-11cb-426e-a0dd-6338e270755e",
   "metadata": {},
   "outputs": [],
   "source": [
    "import pandas as pd\n",
    "import xgboost as xgb\n",
    "from sklearn.model_selection import train_test_split\n",
    "from scipy import stats\n",
    "from sklearn.metrics import mean_squared_error"
   ]
  },
  {
   "cell_type": "code",
   "execution_count": 32,
   "id": "211b2bb6-b103-4c56-ba13-49297e0d4eed",
   "metadata": {},
   "outputs": [
    {
     "name": "stdout",
     "output_type": "stream",
     "text": [
      "[0]\ttrain-rmse:0.09852\teval-rmse:0.08631\n",
      "[1]\ttrain-rmse:0.09283\teval-rmse:0.08441\n",
      "[2]\ttrain-rmse:0.08773\teval-rmse:0.08387\n",
      "[3]\ttrain-rmse:0.08356\teval-rmse:0.08217\n",
      "[4]\ttrain-rmse:0.07966\teval-rmse:0.08111\n",
      "[5]\ttrain-rmse:0.07547\teval-rmse:0.08016\n",
      "[6]\ttrain-rmse:0.07180\teval-rmse:0.07935\n",
      "[7]\ttrain-rmse:0.06829\teval-rmse:0.07824\n",
      "[8]\ttrain-rmse:0.06473\teval-rmse:0.07858\n",
      "[9]\ttrain-rmse:0.06150\teval-rmse:0.07801\n",
      "[10]\ttrain-rmse:0.05922\teval-rmse:0.07827\n",
      "[11]\ttrain-rmse:0.05663\teval-rmse:0.07832\n",
      "[12]\ttrain-rmse:0.05470\teval-rmse:0.07831\n",
      "[13]\ttrain-rmse:0.05242\teval-rmse:0.07850\n",
      "[14]\ttrain-rmse:0.05023\teval-rmse:0.07843\n",
      "[15]\ttrain-rmse:0.04858\teval-rmse:0.07815\n",
      "[16]\ttrain-rmse:0.04692\teval-rmse:0.07820\n",
      "[17]\ttrain-rmse:0.04495\teval-rmse:0.07798\n",
      "[18]\ttrain-rmse:0.04284\teval-rmse:0.07805\n",
      "[19]\ttrain-rmse:0.04135\teval-rmse:0.07779\n",
      "[20]\ttrain-rmse:0.04014\teval-rmse:0.07773\n",
      "[21]\ttrain-rmse:0.03896\teval-rmse:0.07786\n",
      "[22]\ttrain-rmse:0.03773\teval-rmse:0.07775\n",
      "[23]\ttrain-rmse:0.03621\teval-rmse:0.07753\n",
      "[24]\ttrain-rmse:0.03502\teval-rmse:0.07748\n",
      "[25]\ttrain-rmse:0.03338\teval-rmse:0.07748\n",
      "[26]\ttrain-rmse:0.03201\teval-rmse:0.07759\n",
      "[27]\ttrain-rmse:0.03089\teval-rmse:0.07733\n",
      "[28]\ttrain-rmse:0.03021\teval-rmse:0.07735\n",
      "[29]\ttrain-rmse:0.02929\teval-rmse:0.07742\n",
      "[30]\ttrain-rmse:0.02838\teval-rmse:0.07735\n",
      "[31]\ttrain-rmse:0.02743\teval-rmse:0.07751\n",
      "[32]\ttrain-rmse:0.02645\teval-rmse:0.07723\n",
      "[33]\ttrain-rmse:0.02563\teval-rmse:0.07737\n",
      "[34]\ttrain-rmse:0.02477\teval-rmse:0.07735\n",
      "[35]\ttrain-rmse:0.02377\teval-rmse:0.07718\n",
      "[36]\ttrain-rmse:0.02313\teval-rmse:0.07709\n",
      "[37]\ttrain-rmse:0.02238\teval-rmse:0.07723\n",
      "[38]\ttrain-rmse:0.02188\teval-rmse:0.07715\n",
      "[39]\ttrain-rmse:0.02123\teval-rmse:0.07726\n",
      "[40]\ttrain-rmse:0.02060\teval-rmse:0.07730\n",
      "[41]\ttrain-rmse:0.01982\teval-rmse:0.07747\n",
      "[42]\ttrain-rmse:0.01920\teval-rmse:0.07762\n",
      "[43]\ttrain-rmse:0.01863\teval-rmse:0.07728\n",
      "[44]\ttrain-rmse:0.01817\teval-rmse:0.07728\n",
      "[45]\ttrain-rmse:0.01788\teval-rmse:0.07734\n",
      "[46]\ttrain-rmse:0.01740\teval-rmse:0.07739\n",
      "Test RMSE: 0.07739229844278923\n",
      "Spearman's correlation: 0.42278471139570384\n"
     ]
    }
   ],
   "source": [
    "# Convert the scaled data into DMatrix format for XGBoost\n",
    "train_dmatrix = xgb.DMatrix(X_train_scaled, label=y_train)\n",
    "val_dmatrix = xgb.DMatrix(X_test_scaled, label=y_test)\n",
    "\n",
    "# XGBoost parameters\n",
    "params = {\n",
    "    'objective': 'reg:squarederror',  \n",
    "    'eval_metric': 'rmse',            \n",
    "    'max_depth': 5,                  \n",
    "    'eta': 0.1,                      \n",
    "    'subsample': 0.8                 \n",
    "}\n",
    "\n",
    "# Train the XGBoost model\n",
    "watchlist = [(train_dmatrix, 'train'), (val_dmatrix, 'eval')]\n",
    "model = xgb.train(params, train_dmatrix, num_boost_round=100, evals=watchlist, \n",
    "                  early_stopping_rounds=10, verbose_eval=True)\n",
    "\n",
    "# Make predictions on the test set\n",
    "y_pred = model.predict(val_dmatrix)\n",
    "\n",
    "# Evaluate RMSE\n",
    "rmse = mean_squared_error(y_test, y_pred, squared=False)\n",
    "print(\"Test RMSE:\", rmse)\n",
    "\n",
    "# Calculate Spearman correlation\n",
    "spearman_corr = spearmanr(y_pred, y_test).correlation\n",
    "print(\"Spearman's correlation:\", spearman_corr)"
   ]
  }
 ],
 "metadata": {
  "kernelspec": {
   "display_name": "Python 3 (ipykernel)",
   "language": "python",
   "name": "python3"
  },
  "language_info": {
   "codemirror_mode": {
    "name": "ipython",
    "version": 3
   },
   "file_extension": ".py",
   "mimetype": "text/x-python",
   "name": "python",
   "nbconvert_exporter": "python",
   "pygments_lexer": "ipython3",
   "version": "3.8.18"
  }
 },
 "nbformat": 4,
 "nbformat_minor": 5
}
