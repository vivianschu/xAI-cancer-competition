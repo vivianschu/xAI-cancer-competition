{
 "cells": [
  {
   "cell_type": "code",
   "execution_count": 80,
   "metadata": {
    "id": "YCjAUn-Ogwtv"
   },
   "outputs": [],
   "source": [
    "# load libraries\n",
    "import pandas as pd\n",
    "import numpy as np\n",
    "from scipy import stats"
   ]
  },
  {
   "cell_type": "code",
   "execution_count": 81,
   "metadata": {
    "id": "FJUsIM2FlVxT"
   },
   "outputs": [],
   "source": [
    "# specify file paths\n",
    "train_df = \"train.csv\"\n",
    "train_targets = \"train_targets.csv\"\n",
    "\n",
    "# read in files\n",
    "X = pd.read_csv(train_df)\n",
    "X = X.iloc[:, 1:]                       # remove cell line labels\n",
    "y = pd.read_csv(train_targets)['AAC']   # keep only AAC column"
   ]
  },
  {
   "cell_type": "code",
   "execution_count": 82,
   "metadata": {
    "colab": {
     "base_uri": "https://localhost:8080/"
    },
    "id": "07ZxukjYyG1N",
    "outputId": "28be00ef-48e8-4643-9d42-e39a2b930af7"
   },
   "outputs": [
    {
     "name": "stdout",
     "output_type": "stream",
     "text": [
      "(742, 19920)\n",
      "(742,)\n"
     ]
    }
   ],
   "source": [
    "print(X.shape)\n",
    "print(y.shape)"
   ]
  },
  {
   "cell_type": "code",
   "execution_count": 83,
   "metadata": {
    "colab": {
     "base_uri": "https://localhost:8080/"
    },
    "id": "hSD-lRBUvRQe",
    "outputId": "2893eea1-b1c3-4a70-aabc-0abce5036810"
   },
   "outputs": [
    {
     "name": "stderr",
     "output_type": "stream",
     "text": [
      "/usr/local/lib/python3.10/dist-packages/numpy/lib/function_base.py:2897: RuntimeWarning: invalid value encountered in divide\n",
      "  c /= stddev[:, None]\n",
      "/usr/local/lib/python3.10/dist-packages/numpy/lib/function_base.py:2898: RuntimeWarning: invalid value encountered in divide\n",
      "  c /= stddev[None, :]\n"
     ]
    },
    {
     "name": "stdout",
     "output_type": "stream",
     "text": [
      "         Correlation\n",
      "A1BG       -0.163252\n",
      "A1CF       -0.057703\n",
      "A2M        -0.048846\n",
      "A2ML1       0.169574\n",
      "A3GALT2    -0.116942\n"
     ]
    }
   ],
   "source": [
    "# initialize dictionary to hold correlation results\n",
    "corr_dict = {}\n",
    "\n",
    "# correlate exp of each gene to drug response\n",
    "for feature in X.columns:\n",
    "  corr_dict[feature] = X[feature].corr(y)\n",
    "\n",
    "# convert dictionary to dataframe\n",
    "correlations = pd.DataFrame.from_dict(corr_dict, orient='index', columns=['Correlation'])\n",
    "print(correlations.head())"
   ]
  },
  {
   "cell_type": "code",
   "execution_count": 84,
   "metadata": {
    "colab": {
     "base_uri": "https://localhost:8080/"
    },
    "id": "4oFBHcoXrWb2",
    "outputId": "6c02746d-f49b-4967-e7e6-bebf1b0bc93b"
   },
   "outputs": [
    {
     "name": "stdout",
     "output_type": "stream",
     "text": [
      "Selected threshold: 0.2\n",
      "Num genes with correlation above threshold: 291\n",
      "Num genes with correlation below threshold: 185\n",
      "Total num genes: 476\n"
     ]
    }
   ],
   "source": [
    "# set threshold\n",
    "thres = 0.2\n",
    "\n",
    "# count number of univariable associations that meet the threshold\n",
    "num_pred_sensitivity = (correlations['Correlation'] > thres).sum()\n",
    "num_pred_resistance = (correlations['Correlation'] < -thres).sum()\n",
    "\n",
    "print('Selected threshold:', thres)\n",
    "print('Num genes with correlation above threshold:', num_pred_sensitivity)\n",
    "print('Num genes with correlation below threshold:', num_pred_resistance)\n",
    "print('Total num genes:', str(num_pred_sensitivity + num_pred_resistance))"
   ]
  },
  {
   "cell_type": "code",
   "execution_count": 85,
   "metadata": {
    "colab": {
     "base_uri": "https://localhost:8080/"
    },
    "id": "WVcSIAZLxAhr",
    "outputId": "1e639da2-b41f-4470-f3e1-8903ff3b64d6"
   },
   "outputs": [
    {
     "name": "stdout",
     "output_type": "stream",
     "text": [
      "476\n",
      "(742, 476)\n"
     ]
    }
   ],
   "source": [
    "# identify genes that pass selected threshold\n",
    "genes_keep = correlations[correlations['Correlation'].abs() > thres].index\n",
    "print(len(genes_keep))\n",
    "\n",
    "# subset training dataframe to only genes of interest\n",
    "X_subset = X[genes_keep]\n",
    "print(X_subset.shape)"
   ]
  },
  {
   "cell_type": "code",
   "execution_count": 86,
   "metadata": {
    "colab": {
     "base_uri": "https://localhost:8080/"
    },
    "id": "CDc1jTSkyLQx",
    "outputId": "f57dda85-e873-4d28-b33b-4e08596293e2"
   },
   "outputs": [
    {
     "data": {
      "text/plain": [
       "(476, 476)"
      ]
     },
     "execution_count": 86,
     "metadata": {},
     "output_type": "execute_result"
    }
   ],
   "source": [
    "# correlate exp of remaining genes\n",
    "corr_mat = X_subset.corr(method='pearson', min_periods=1)\n",
    "corr_mat.shape"
   ]
  },
  {
   "cell_type": "code",
   "execution_count": 87,
   "metadata": {
    "colab": {
     "base_uri": "https://localhost:8080/",
     "height": 255
    },
    "id": "ztt6UYKYykNE",
    "outputId": "54e08927-a0a2-4704-acf0-ce3e4b2baf16"
   },
   "outputs": [
    {
     "data": {
      "application/vnd.google.colaboratory.intrinsic+json": {
       "type": "dataframe",
       "variable_name": "corr_pairs"
      },
      "text/html": [
       "\n",
       "  <div id=\"df-ccf43745-421e-43af-8fdb-f460d9675336\" class=\"colab-df-container\">\n",
       "    <div>\n",
       "<style scoped>\n",
       "    .dataframe tbody tr th:only-of-type {\n",
       "        vertical-align: middle;\n",
       "    }\n",
       "\n",
       "    .dataframe tbody tr th {\n",
       "        vertical-align: top;\n",
       "    }\n",
       "\n",
       "    .dataframe thead th {\n",
       "        text-align: right;\n",
       "    }\n",
       "</style>\n",
       "<table border=\"1\" class=\"dataframe\">\n",
       "  <thead>\n",
       "    <tr style=\"text-align: right;\">\n",
       "      <th></th>\n",
       "      <th>AC003688.2</th>\n",
       "      <th>AC005324.3</th>\n",
       "      <th>AC005943.1</th>\n",
       "      <th>AC008687.8</th>\n",
       "      <th>AC008758.6</th>\n",
       "      <th>AC011473.4</th>\n",
       "      <th>ACSF2</th>\n",
       "      <th>ADGRF1</th>\n",
       "      <th>ADGRF4</th>\n",
       "      <th>ADRB2</th>\n",
       "      <th>...</th>\n",
       "      <th>ZEB1</th>\n",
       "      <th>ZHX3</th>\n",
       "      <th>ZNF165</th>\n",
       "      <th>ZNF428</th>\n",
       "      <th>ZNF441</th>\n",
       "      <th>ZNF576</th>\n",
       "      <th>ZNF668</th>\n",
       "      <th>ZNF709</th>\n",
       "      <th>ZNF775</th>\n",
       "      <th>ZSCAN26</th>\n",
       "    </tr>\n",
       "  </thead>\n",
       "  <tbody>\n",
       "    <tr>\n",
       "      <th>AC003688.2</th>\n",
       "      <td>False</td>\n",
       "      <td>False</td>\n",
       "      <td>False</td>\n",
       "      <td>False</td>\n",
       "      <td>False</td>\n",
       "      <td>False</td>\n",
       "      <td>False</td>\n",
       "      <td>False</td>\n",
       "      <td>False</td>\n",
       "      <td>False</td>\n",
       "      <td>...</td>\n",
       "      <td>False</td>\n",
       "      <td>False</td>\n",
       "      <td>False</td>\n",
       "      <td>False</td>\n",
       "      <td>False</td>\n",
       "      <td>False</td>\n",
       "      <td>False</td>\n",
       "      <td>False</td>\n",
       "      <td>False</td>\n",
       "      <td>False</td>\n",
       "    </tr>\n",
       "    <tr>\n",
       "      <th>AC005324.3</th>\n",
       "      <td>False</td>\n",
       "      <td>False</td>\n",
       "      <td>False</td>\n",
       "      <td>False</td>\n",
       "      <td>False</td>\n",
       "      <td>False</td>\n",
       "      <td>False</td>\n",
       "      <td>False</td>\n",
       "      <td>False</td>\n",
       "      <td>False</td>\n",
       "      <td>...</td>\n",
       "      <td>False</td>\n",
       "      <td>False</td>\n",
       "      <td>False</td>\n",
       "      <td>False</td>\n",
       "      <td>False</td>\n",
       "      <td>False</td>\n",
       "      <td>False</td>\n",
       "      <td>False</td>\n",
       "      <td>False</td>\n",
       "      <td>False</td>\n",
       "    </tr>\n",
       "    <tr>\n",
       "      <th>AC005943.1</th>\n",
       "      <td>False</td>\n",
       "      <td>False</td>\n",
       "      <td>False</td>\n",
       "      <td>False</td>\n",
       "      <td>False</td>\n",
       "      <td>False</td>\n",
       "      <td>False</td>\n",
       "      <td>False</td>\n",
       "      <td>False</td>\n",
       "      <td>False</td>\n",
       "      <td>...</td>\n",
       "      <td>False</td>\n",
       "      <td>False</td>\n",
       "      <td>False</td>\n",
       "      <td>False</td>\n",
       "      <td>False</td>\n",
       "      <td>False</td>\n",
       "      <td>False</td>\n",
       "      <td>False</td>\n",
       "      <td>False</td>\n",
       "      <td>False</td>\n",
       "    </tr>\n",
       "    <tr>\n",
       "      <th>AC008687.8</th>\n",
       "      <td>False</td>\n",
       "      <td>False</td>\n",
       "      <td>False</td>\n",
       "      <td>False</td>\n",
       "      <td>False</td>\n",
       "      <td>False</td>\n",
       "      <td>False</td>\n",
       "      <td>False</td>\n",
       "      <td>False</td>\n",
       "      <td>False</td>\n",
       "      <td>...</td>\n",
       "      <td>False</td>\n",
       "      <td>False</td>\n",
       "      <td>False</td>\n",
       "      <td>False</td>\n",
       "      <td>False</td>\n",
       "      <td>False</td>\n",
       "      <td>False</td>\n",
       "      <td>False</td>\n",
       "      <td>False</td>\n",
       "      <td>False</td>\n",
       "    </tr>\n",
       "    <tr>\n",
       "      <th>AC008758.6</th>\n",
       "      <td>False</td>\n",
       "      <td>False</td>\n",
       "      <td>False</td>\n",
       "      <td>False</td>\n",
       "      <td>False</td>\n",
       "      <td>False</td>\n",
       "      <td>False</td>\n",
       "      <td>False</td>\n",
       "      <td>False</td>\n",
       "      <td>False</td>\n",
       "      <td>...</td>\n",
       "      <td>False</td>\n",
       "      <td>False</td>\n",
       "      <td>False</td>\n",
       "      <td>False</td>\n",
       "      <td>False</td>\n",
       "      <td>False</td>\n",
       "      <td>False</td>\n",
       "      <td>False</td>\n",
       "      <td>False</td>\n",
       "      <td>False</td>\n",
       "    </tr>\n",
       "  </tbody>\n",
       "</table>\n",
       "<p>5 rows × 476 columns</p>\n",
       "</div>\n",
       "    <div class=\"colab-df-buttons\">\n",
       "\n",
       "  <div class=\"colab-df-container\">\n",
       "    <button class=\"colab-df-convert\" onclick=\"convertToInteractive('df-ccf43745-421e-43af-8fdb-f460d9675336')\"\n",
       "            title=\"Convert this dataframe to an interactive table.\"\n",
       "            style=\"display:none;\">\n",
       "\n",
       "  <svg xmlns=\"http://www.w3.org/2000/svg\" height=\"24px\" viewBox=\"0 -960 960 960\">\n",
       "    <path d=\"M120-120v-720h720v720H120Zm60-500h600v-160H180v160Zm220 220h160v-160H400v160Zm0 220h160v-160H400v160ZM180-400h160v-160H180v160Zm440 0h160v-160H620v160ZM180-180h160v-160H180v160Zm440 0h160v-160H620v160Z\"/>\n",
       "  </svg>\n",
       "    </button>\n",
       "\n",
       "  <style>\n",
       "    .colab-df-container {\n",
       "      display:flex;\n",
       "      gap: 12px;\n",
       "    }\n",
       "\n",
       "    .colab-df-convert {\n",
       "      background-color: #E8F0FE;\n",
       "      border: none;\n",
       "      border-radius: 50%;\n",
       "      cursor: pointer;\n",
       "      display: none;\n",
       "      fill: #1967D2;\n",
       "      height: 32px;\n",
       "      padding: 0 0 0 0;\n",
       "      width: 32px;\n",
       "    }\n",
       "\n",
       "    .colab-df-convert:hover {\n",
       "      background-color: #E2EBFA;\n",
       "      box-shadow: 0px 1px 2px rgba(60, 64, 67, 0.3), 0px 1px 3px 1px rgba(60, 64, 67, 0.15);\n",
       "      fill: #174EA6;\n",
       "    }\n",
       "\n",
       "    .colab-df-buttons div {\n",
       "      margin-bottom: 4px;\n",
       "    }\n",
       "\n",
       "    [theme=dark] .colab-df-convert {\n",
       "      background-color: #3B4455;\n",
       "      fill: #D2E3FC;\n",
       "    }\n",
       "\n",
       "    [theme=dark] .colab-df-convert:hover {\n",
       "      background-color: #434B5C;\n",
       "      box-shadow: 0px 1px 3px 1px rgba(0, 0, 0, 0.15);\n",
       "      filter: drop-shadow(0px 1px 2px rgba(0, 0, 0, 0.3));\n",
       "      fill: #FFFFFF;\n",
       "    }\n",
       "  </style>\n",
       "\n",
       "    <script>\n",
       "      const buttonEl =\n",
       "        document.querySelector('#df-ccf43745-421e-43af-8fdb-f460d9675336 button.colab-df-convert');\n",
       "      buttonEl.style.display =\n",
       "        google.colab.kernel.accessAllowed ? 'block' : 'none';\n",
       "\n",
       "      async function convertToInteractive(key) {\n",
       "        const element = document.querySelector('#df-ccf43745-421e-43af-8fdb-f460d9675336');\n",
       "        const dataTable =\n",
       "          await google.colab.kernel.invokeFunction('convertToInteractive',\n",
       "                                                    [key], {});\n",
       "        if (!dataTable) return;\n",
       "\n",
       "        const docLinkHtml = 'Like what you see? Visit the ' +\n",
       "          '<a target=\"_blank\" href=https://colab.research.google.com/notebooks/data_table.ipynb>data table notebook</a>'\n",
       "          + ' to learn more about interactive tables.';\n",
       "        element.innerHTML = '';\n",
       "        dataTable['output_type'] = 'display_data';\n",
       "        await google.colab.output.renderOutput(dataTable, element);\n",
       "        const docLink = document.createElement('div');\n",
       "        docLink.innerHTML = docLinkHtml;\n",
       "        element.appendChild(docLink);\n",
       "      }\n",
       "    </script>\n",
       "  </div>\n",
       "\n",
       "\n",
       "<div id=\"df-343c79f1-56c9-449e-a4a2-8951b72aaa6f\">\n",
       "  <button class=\"colab-df-quickchart\" onclick=\"quickchart('df-343c79f1-56c9-449e-a4a2-8951b72aaa6f')\"\n",
       "            title=\"Suggest charts\"\n",
       "            style=\"display:none;\">\n",
       "\n",
       "<svg xmlns=\"http://www.w3.org/2000/svg\" height=\"24px\"viewBox=\"0 0 24 24\"\n",
       "     width=\"24px\">\n",
       "    <g>\n",
       "        <path d=\"M19 3H5c-1.1 0-2 .9-2 2v14c0 1.1.9 2 2 2h14c1.1 0 2-.9 2-2V5c0-1.1-.9-2-2-2zM9 17H7v-7h2v7zm4 0h-2V7h2v10zm4 0h-2v-4h2v4z\"/>\n",
       "    </g>\n",
       "</svg>\n",
       "  </button>\n",
       "\n",
       "<style>\n",
       "  .colab-df-quickchart {\n",
       "      --bg-color: #E8F0FE;\n",
       "      --fill-color: #1967D2;\n",
       "      --hover-bg-color: #E2EBFA;\n",
       "      --hover-fill-color: #174EA6;\n",
       "      --disabled-fill-color: #AAA;\n",
       "      --disabled-bg-color: #DDD;\n",
       "  }\n",
       "\n",
       "  [theme=dark] .colab-df-quickchart {\n",
       "      --bg-color: #3B4455;\n",
       "      --fill-color: #D2E3FC;\n",
       "      --hover-bg-color: #434B5C;\n",
       "      --hover-fill-color: #FFFFFF;\n",
       "      --disabled-bg-color: #3B4455;\n",
       "      --disabled-fill-color: #666;\n",
       "  }\n",
       "\n",
       "  .colab-df-quickchart {\n",
       "    background-color: var(--bg-color);\n",
       "    border: none;\n",
       "    border-radius: 50%;\n",
       "    cursor: pointer;\n",
       "    display: none;\n",
       "    fill: var(--fill-color);\n",
       "    height: 32px;\n",
       "    padding: 0;\n",
       "    width: 32px;\n",
       "  }\n",
       "\n",
       "  .colab-df-quickchart:hover {\n",
       "    background-color: var(--hover-bg-color);\n",
       "    box-shadow: 0 1px 2px rgba(60, 64, 67, 0.3), 0 1px 3px 1px rgba(60, 64, 67, 0.15);\n",
       "    fill: var(--button-hover-fill-color);\n",
       "  }\n",
       "\n",
       "  .colab-df-quickchart-complete:disabled,\n",
       "  .colab-df-quickchart-complete:disabled:hover {\n",
       "    background-color: var(--disabled-bg-color);\n",
       "    fill: var(--disabled-fill-color);\n",
       "    box-shadow: none;\n",
       "  }\n",
       "\n",
       "  .colab-df-spinner {\n",
       "    border: 2px solid var(--fill-color);\n",
       "    border-color: transparent;\n",
       "    border-bottom-color: var(--fill-color);\n",
       "    animation:\n",
       "      spin 1s steps(1) infinite;\n",
       "  }\n",
       "\n",
       "  @keyframes spin {\n",
       "    0% {\n",
       "      border-color: transparent;\n",
       "      border-bottom-color: var(--fill-color);\n",
       "      border-left-color: var(--fill-color);\n",
       "    }\n",
       "    20% {\n",
       "      border-color: transparent;\n",
       "      border-left-color: var(--fill-color);\n",
       "      border-top-color: var(--fill-color);\n",
       "    }\n",
       "    30% {\n",
       "      border-color: transparent;\n",
       "      border-left-color: var(--fill-color);\n",
       "      border-top-color: var(--fill-color);\n",
       "      border-right-color: var(--fill-color);\n",
       "    }\n",
       "    40% {\n",
       "      border-color: transparent;\n",
       "      border-right-color: var(--fill-color);\n",
       "      border-top-color: var(--fill-color);\n",
       "    }\n",
       "    60% {\n",
       "      border-color: transparent;\n",
       "      border-right-color: var(--fill-color);\n",
       "    }\n",
       "    80% {\n",
       "      border-color: transparent;\n",
       "      border-right-color: var(--fill-color);\n",
       "      border-bottom-color: var(--fill-color);\n",
       "    }\n",
       "    90% {\n",
       "      border-color: transparent;\n",
       "      border-bottom-color: var(--fill-color);\n",
       "    }\n",
       "  }\n",
       "</style>\n",
       "\n",
       "  <script>\n",
       "    async function quickchart(key) {\n",
       "      const quickchartButtonEl =\n",
       "        document.querySelector('#' + key + ' button');\n",
       "      quickchartButtonEl.disabled = true;  // To prevent multiple clicks.\n",
       "      quickchartButtonEl.classList.add('colab-df-spinner');\n",
       "      try {\n",
       "        const charts = await google.colab.kernel.invokeFunction(\n",
       "            'suggestCharts', [key], {});\n",
       "      } catch (error) {\n",
       "        console.error('Error during call to suggestCharts:', error);\n",
       "      }\n",
       "      quickchartButtonEl.classList.remove('colab-df-spinner');\n",
       "      quickchartButtonEl.classList.add('colab-df-quickchart-complete');\n",
       "    }\n",
       "    (() => {\n",
       "      let quickchartButtonEl =\n",
       "        document.querySelector('#df-343c79f1-56c9-449e-a4a2-8951b72aaa6f button');\n",
       "      quickchartButtonEl.style.display =\n",
       "        google.colab.kernel.accessAllowed ? 'block' : 'none';\n",
       "    })();\n",
       "  </script>\n",
       "</div>\n",
       "\n",
       "    </div>\n",
       "  </div>\n"
      ],
      "text/plain": [
       "            AC003688.2  AC005324.3  AC005943.1  AC008687.8  AC008758.6  \\\n",
       "AC003688.2       False       False       False       False       False   \n",
       "AC005324.3       False       False       False       False       False   \n",
       "AC005943.1       False       False       False       False       False   \n",
       "AC008687.8       False       False       False       False       False   \n",
       "AC008758.6       False       False       False       False       False   \n",
       "\n",
       "            AC011473.4  ACSF2  ADGRF1  ADGRF4  ADRB2  ...   ZEB1   ZHX3  \\\n",
       "AC003688.2       False  False   False   False  False  ...  False  False   \n",
       "AC005324.3       False  False   False   False  False  ...  False  False   \n",
       "AC005943.1       False  False   False   False  False  ...  False  False   \n",
       "AC008687.8       False  False   False   False  False  ...  False  False   \n",
       "AC008758.6       False  False   False   False  False  ...  False  False   \n",
       "\n",
       "            ZNF165  ZNF428  ZNF441  ZNF576  ZNF668  ZNF709  ZNF775  ZSCAN26  \n",
       "AC003688.2   False   False   False   False   False   False   False    False  \n",
       "AC005324.3   False   False   False   False   False   False   False    False  \n",
       "AC005943.1   False   False   False   False   False   False   False    False  \n",
       "AC008687.8   False   False   False   False   False   False   False    False  \n",
       "AC008758.6   False   False   False   False   False   False   False    False  \n",
       "\n",
       "[5 rows x 476 columns]"
      ]
     },
     "execution_count": 87,
     "metadata": {},
     "output_type": "execute_result"
    }
   ],
   "source": [
    "# set diagonal to 0\n",
    "np.fill_diagonal(corr_mat.values, 0)\n",
    "\n",
    "# set correlation threshold and identify correlated pairs\n",
    "thres = 0.8\n",
    "corr_pairs = (corr_mat.abs() > thres)\n",
    "corr_pairs.head()"
   ]
  },
  {
   "cell_type": "code",
   "execution_count": 88,
   "metadata": {
    "colab": {
     "base_uri": "https://localhost:8080/"
    },
    "id": "cgBgFgem6WsO",
    "outputId": "b47de736-7403-4bc1-f572-2f01c64abbe2"
   },
   "outputs": [
    {
     "name": "stdout",
     "output_type": "stream",
     "text": [
      "Highly correlated genes: {'MT-CYB', 'ARHGAP8', 'MT-ATP6', 'MT-ND1', 'MT-ND5', 'MT-ND2', 'MT-ND4L', 'ARHGEF35', 'MT-CO3', 'KRT14', 'MT-ND3', 'AL591806.4', 'MT-CO1', 'MT-CO2', 'DUOX1', 'MT-ND4', 'S100A8', 'MT-ATP8', 'ANXA8'}\n",
      "Num correlated genes: 19\n"
     ]
    }
   ],
   "source": [
    "# initialize set to store correlated gene indices\n",
    "correlated_genes = set()\n",
    "\n",
    "# loop through correlated pairs\n",
    "for i in range(corr_pairs.shape[0]):\n",
    "    for j in range(i + 1, corr_pairs.shape[1]):\n",
    "\n",
    "        # if True (highly correlated)\n",
    "        if corr_pairs.iloc[i, j]:\n",
    "\n",
    "            #print(corr_mat.columns[i], corr_mat.columns[j])\n",
    "\n",
    "            # add one of the genes to the set\n",
    "            correlated_genes.add(corr_mat.columns[i])\n",
    "\n",
    "print('Highly correlated genes:', correlated_genes)\n",
    "print('Num correlated genes:', len(correlated_genes))"
   ]
  },
  {
   "cell_type": "code",
   "execution_count": 89,
   "metadata": {
    "colab": {
     "base_uri": "https://localhost:8080/"
    },
    "id": "ghQNP-RB8oB1",
    "outputId": "df0ab49a-6b4a-4b58-a30e-9882d758599f"
   },
   "outputs": [
    {
     "name": "stdout",
     "output_type": "stream",
     "text": [
      "Original number of genes (columns): 476\n",
      "Number of genes (columns) remaining: 457\n"
     ]
    }
   ],
   "source": [
    "print('Original number of genes (columns):', X_subset.shape[1])\n",
    "\n",
    "# remove correlated genes\n",
    "X_subset = X_subset.drop(columns=list(correlated_genes))\n",
    "print('Number of genes (columns) remaining:', X_subset.shape[1])"
   ]
  },
  {
   "cell_type": "code",
   "execution_count": null,
   "metadata": {
    "id": "zX3hq1bCy2Hb"
   },
   "outputs": [],
   "source": [
    "# save file\n",
    "X_subset.to_csv('../procdata/train_subset.csv', index=False)"
   ]
  }
 ],
 "metadata": {
  "colab": {
   "provenance": []
  },
  "kernelspec": {
   "display_name": "Python 3",
   "name": "python3"
  },
  "language_info": {
   "name": "python"
  }
 },
 "nbformat": 4,
 "nbformat_minor": 0
}
