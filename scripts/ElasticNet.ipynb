{
  "nbformat": 4,
  "nbformat_minor": 0,
  "metadata": {
    "colab": {
      "provenance": []
    },
    "kernelspec": {
      "name": "python3",
      "display_name": "Python 3"
    },
    "language_info": {
      "name": "python"
    }
  },
  "cells": [
    {
      "cell_type": "code",
      "execution_count": 1,
      "metadata": {
        "id": "YCjAUn-Ogwtv"
      },
      "outputs": [],
      "source": [
        "# load libraries\n",
        "import pandas as pd\n",
        "import numpy as np\n",
        "from sklearn.linear_model import ElasticNet\n",
        "from sklearn.model_selection import train_test_split, GridSearchCV\n",
        "from scipy import stats"
      ]
    },
    {
      "cell_type": "code",
      "source": [
        "# specify file paths\n",
        "train_df = \"train.csv\"\n",
        "train_targets = \"train_targets.csv\"\n",
        "\n",
        "# read in files\n",
        "X = pd.read_csv(train_df)\n",
        "X = X.iloc[:, 1:]                       # remove cell line labels\n",
        "y = pd.read_csv(train_targets)['AAC']   # keep only AAC column"
      ],
      "metadata": {
        "id": "FJUsIM2FlVxT"
      },
      "execution_count": 9,
      "outputs": []
    },
    {
      "cell_type": "code",
      "source": [
        "print(X.shape)\n",
        "print(y.shape)"
      ],
      "metadata": {
        "colab": {
          "base_uri": "https://localhost:8080/"
        },
        "id": "07ZxukjYyG1N",
        "outputId": "4ec22d57-4f29-4560-fac7-c8f0ac70797b"
      },
      "execution_count": 10,
      "outputs": [
        {
          "output_type": "stream",
          "name": "stdout",
          "text": [
            "(742, 19920)\n",
            "(742,)\n"
          ]
        }
      ]
    },
    {
      "cell_type": "code",
      "source": [
        "# split the training dataframe into train and val\n",
        "X_train, X_test, y_train, y_test = train_test_split(X, y, test_size=0.2, random_state=42)"
      ],
      "metadata": {
        "id": "hSD-lRBUvRQe"
      },
      "execution_count": 11,
      "outputs": []
    },
    {
      "cell_type": "code",
      "source": [
        "# initialize LASSO model\n",
        "en = ElasticNet()\n",
        "\n",
        "# specify parameters for optimization\n",
        "parameters = {\n",
        "    'alpha': [0.1, 1, 10, 100],\n",
        "    'l1_ratio': [0.2, 0.5, 0.8],\n",
        "    'max_iter': [5000, 7500]\n",
        "  }\n",
        "\n",
        "# identify optimal parameters\n",
        "reg = GridSearchCV(\n",
        "    estimator = en,\n",
        "    param_grid = parameters,\n",
        "    verbose=2\n",
        "  )\n",
        "reg.fit(X_train, y_train)\n",
        "reg.best_params_        # {'alpha': 10, 'l1_ratio': 0.5, 'max_iter': 5000}"
      ],
      "metadata": {
        "colab": {
          "base_uri": "https://localhost:8080/"
        },
        "id": "4oFBHcoXrWb2",
        "outputId": "4906bb3b-738a-4101-9386-8135f674180e"
      },
      "execution_count": 13,
      "outputs": [
        {
          "output_type": "stream",
          "name": "stdout",
          "text": [
            "Fitting 5 folds for each of 24 candidates, totalling 120 fits\n"
          ]
        },
        {
          "output_type": "stream",
          "name": "stderr",
          "text": [
            "/usr/local/lib/python3.10/dist-packages/sklearn/linear_model/_coordinate_descent.py:697: ConvergenceWarning: Objective did not converge. You might want to increase the number of iterations, check the scale of the features or consider increasing regularisation. Duality gap: 1.781e-02, tolerance: 4.759e-04\n",
            "  model = cd_fast.enet_coordinate_descent(\n"
          ]
        },
        {
          "output_type": "stream",
          "name": "stdout",
          "text": [
            "[CV] END .............alpha=0.1, l1_ratio=0.2, max_iter=5000; total time= 1.1min\n"
          ]
        },
        {
          "output_type": "stream",
          "name": "stderr",
          "text": [
            "/usr/local/lib/python3.10/dist-packages/sklearn/linear_model/_coordinate_descent.py:697: ConvergenceWarning: Objective did not converge. You might want to increase the number of iterations, check the scale of the features or consider increasing regularisation. Duality gap: 2.674e-02, tolerance: 5.512e-04\n",
            "  model = cd_fast.enet_coordinate_descent(\n"
          ]
        },
        {
          "output_type": "stream",
          "name": "stdout",
          "text": [
            "[CV] END .............alpha=0.1, l1_ratio=0.2, max_iter=5000; total time=  44.7s\n"
          ]
        },
        {
          "output_type": "stream",
          "name": "stderr",
          "text": [
            "/usr/local/lib/python3.10/dist-packages/sklearn/linear_model/_coordinate_descent.py:697: ConvergenceWarning: Objective did not converge. You might want to increase the number of iterations, check the scale of the features or consider increasing regularisation. Duality gap: 1.220e-02, tolerance: 5.090e-04\n",
            "  model = cd_fast.enet_coordinate_descent(\n"
          ]
        },
        {
          "output_type": "stream",
          "name": "stdout",
          "text": [
            "[CV] END .............alpha=0.1, l1_ratio=0.2, max_iter=5000; total time=  58.5s\n"
          ]
        },
        {
          "output_type": "stream",
          "name": "stderr",
          "text": [
            "/usr/local/lib/python3.10/dist-packages/sklearn/linear_model/_coordinate_descent.py:697: ConvergenceWarning: Objective did not converge. You might want to increase the number of iterations, check the scale of the features or consider increasing regularisation. Duality gap: 4.658e-02, tolerance: 5.244e-04\n",
            "  model = cd_fast.enet_coordinate_descent(\n"
          ]
        },
        {
          "output_type": "stream",
          "name": "stdout",
          "text": [
            "[CV] END .............alpha=0.1, l1_ratio=0.2, max_iter=5000; total time= 1.0min\n"
          ]
        },
        {
          "output_type": "stream",
          "name": "stderr",
          "text": [
            "/usr/local/lib/python3.10/dist-packages/sklearn/linear_model/_coordinate_descent.py:697: ConvergenceWarning: Objective did not converge. You might want to increase the number of iterations, check the scale of the features or consider increasing regularisation. Duality gap: 6.271e-03, tolerance: 5.310e-04\n",
            "  model = cd_fast.enet_coordinate_descent(\n"
          ]
        },
        {
          "output_type": "stream",
          "name": "stdout",
          "text": [
            "[CV] END .............alpha=0.1, l1_ratio=0.2, max_iter=5000; total time=  57.0s\n"
          ]
        },
        {
          "output_type": "stream",
          "name": "stderr",
          "text": [
            "/usr/local/lib/python3.10/dist-packages/sklearn/linear_model/_coordinate_descent.py:697: ConvergenceWarning: Objective did not converge. You might want to increase the number of iterations, check the scale of the features or consider increasing regularisation. Duality gap: 1.654e-03, tolerance: 4.759e-04\n",
            "  model = cd_fast.enet_coordinate_descent(\n"
          ]
        },
        {
          "output_type": "stream",
          "name": "stdout",
          "text": [
            "[CV] END .............alpha=0.1, l1_ratio=0.2, max_iter=7500; total time= 1.8min\n"
          ]
        },
        {
          "output_type": "stream",
          "name": "stderr",
          "text": [
            "/usr/local/lib/python3.10/dist-packages/sklearn/linear_model/_coordinate_descent.py:697: ConvergenceWarning: Objective did not converge. You might want to increase the number of iterations, check the scale of the features or consider increasing regularisation. Duality gap: 1.219e-02, tolerance: 5.512e-04\n",
            "  model = cd_fast.enet_coordinate_descent(\n"
          ]
        },
        {
          "output_type": "stream",
          "name": "stdout",
          "text": [
            "[CV] END .............alpha=0.1, l1_ratio=0.2, max_iter=7500; total time= 1.5min\n"
          ]
        },
        {
          "output_type": "stream",
          "name": "stderr",
          "text": [
            "/usr/local/lib/python3.10/dist-packages/sklearn/linear_model/_coordinate_descent.py:697: ConvergenceWarning: Objective did not converge. You might want to increase the number of iterations, check the scale of the features or consider increasing regularisation. Duality gap: 7.924e-03, tolerance: 5.090e-04\n",
            "  model = cd_fast.enet_coordinate_descent(\n"
          ]
        },
        {
          "output_type": "stream",
          "name": "stdout",
          "text": [
            "[CV] END .............alpha=0.1, l1_ratio=0.2, max_iter=7500; total time= 1.7min\n"
          ]
        },
        {
          "output_type": "stream",
          "name": "stderr",
          "text": [
            "/usr/local/lib/python3.10/dist-packages/sklearn/linear_model/_coordinate_descent.py:697: ConvergenceWarning: Objective did not converge. You might want to increase the number of iterations, check the scale of the features or consider increasing regularisation. Duality gap: 1.291e-02, tolerance: 5.244e-04\n",
            "  model = cd_fast.enet_coordinate_descent(\n"
          ]
        },
        {
          "output_type": "stream",
          "name": "stdout",
          "text": [
            "[CV] END .............alpha=0.1, l1_ratio=0.2, max_iter=7500; total time= 1.8min\n"
          ]
        },
        {
          "output_type": "stream",
          "name": "stderr",
          "text": [
            "/usr/local/lib/python3.10/dist-packages/sklearn/linear_model/_coordinate_descent.py:697: ConvergenceWarning: Objective did not converge. You might want to increase the number of iterations, check the scale of the features or consider increasing regularisation. Duality gap: 1.661e-03, tolerance: 5.310e-04\n",
            "  model = cd_fast.enet_coordinate_descent(\n"
          ]
        },
        {
          "output_type": "stream",
          "name": "stdout",
          "text": [
            "[CV] END .............alpha=0.1, l1_ratio=0.2, max_iter=7500; total time= 1.7min\n"
          ]
        },
        {
          "output_type": "stream",
          "name": "stderr",
          "text": [
            "/usr/local/lib/python3.10/dist-packages/sklearn/linear_model/_coordinate_descent.py:697: ConvergenceWarning: Objective did not converge. You might want to increase the number of iterations, check the scale of the features or consider increasing regularisation. Duality gap: 1.154e-03, tolerance: 4.759e-04\n",
            "  model = cd_fast.enet_coordinate_descent(\n"
          ]
        },
        {
          "output_type": "stream",
          "name": "stdout",
          "text": [
            "[CV] END .............alpha=0.1, l1_ratio=0.5, max_iter=5000; total time= 1.2min\n"
          ]
        },
        {
          "output_type": "stream",
          "name": "stderr",
          "text": [
            "/usr/local/lib/python3.10/dist-packages/sklearn/linear_model/_coordinate_descent.py:697: ConvergenceWarning: Objective did not converge. You might want to increase the number of iterations, check the scale of the features or consider increasing regularisation. Duality gap: 2.843e-03, tolerance: 5.512e-04\n",
            "  model = cd_fast.enet_coordinate_descent(\n"
          ]
        },
        {
          "output_type": "stream",
          "name": "stdout",
          "text": [
            "[CV] END .............alpha=0.1, l1_ratio=0.5, max_iter=5000; total time= 1.1min\n"
          ]
        },
        {
          "output_type": "stream",
          "name": "stderr",
          "text": [
            "/usr/local/lib/python3.10/dist-packages/sklearn/linear_model/_coordinate_descent.py:697: ConvergenceWarning: Objective did not converge. You might want to increase the number of iterations, check the scale of the features or consider increasing regularisation. Duality gap: 3.973e-03, tolerance: 5.090e-04\n",
            "  model = cd_fast.enet_coordinate_descent(\n"
          ]
        },
        {
          "output_type": "stream",
          "name": "stdout",
          "text": [
            "[CV] END .............alpha=0.1, l1_ratio=0.5, max_iter=5000; total time= 1.2min\n"
          ]
        },
        {
          "output_type": "stream",
          "name": "stderr",
          "text": [
            "/usr/local/lib/python3.10/dist-packages/sklearn/linear_model/_coordinate_descent.py:697: ConvergenceWarning: Objective did not converge. You might want to increase the number of iterations, check the scale of the features or consider increasing regularisation. Duality gap: 1.129e-03, tolerance: 5.244e-04\n",
            "  model = cd_fast.enet_coordinate_descent(\n"
          ]
        },
        {
          "output_type": "stream",
          "name": "stdout",
          "text": [
            "[CV] END .............alpha=0.1, l1_ratio=0.5, max_iter=5000; total time= 1.2min\n",
            "[CV] END .............alpha=0.1, l1_ratio=0.5, max_iter=5000; total time= 1.2min\n",
            "[CV] END .............alpha=0.1, l1_ratio=0.5, max_iter=7500; total time= 1.5min\n",
            "[CV] END .............alpha=0.1, l1_ratio=0.5, max_iter=7500; total time= 1.5min\n",
            "[CV] END .............alpha=0.1, l1_ratio=0.5, max_iter=7500; total time= 1.7min\n",
            "[CV] END .............alpha=0.1, l1_ratio=0.5, max_iter=7500; total time= 1.4min\n",
            "[CV] END .............alpha=0.1, l1_ratio=0.5, max_iter=7500; total time= 1.2min\n",
            "[CV] END .............alpha=0.1, l1_ratio=0.8, max_iter=5000; total time=  42.1s\n",
            "[CV] END .............alpha=0.1, l1_ratio=0.8, max_iter=5000; total time=  38.7s\n",
            "[CV] END .............alpha=0.1, l1_ratio=0.8, max_iter=5000; total time=  34.8s\n",
            "[CV] END .............alpha=0.1, l1_ratio=0.8, max_iter=5000; total time=  38.0s\n",
            "[CV] END .............alpha=0.1, l1_ratio=0.8, max_iter=5000; total time=  29.1s\n",
            "[CV] END .............alpha=0.1, l1_ratio=0.8, max_iter=7500; total time=  41.7s\n",
            "[CV] END .............alpha=0.1, l1_ratio=0.8, max_iter=7500; total time=  38.4s\n",
            "[CV] END .............alpha=0.1, l1_ratio=0.8, max_iter=7500; total time=  34.6s\n",
            "[CV] END .............alpha=0.1, l1_ratio=0.8, max_iter=7500; total time=  37.5s\n",
            "[CV] END .............alpha=0.1, l1_ratio=0.8, max_iter=7500; total time=  29.0s\n",
            "[CV] END ...............alpha=1, l1_ratio=0.2, max_iter=5000; total time=  17.1s\n",
            "[CV] END ...............alpha=1, l1_ratio=0.2, max_iter=5000; total time=  12.0s\n",
            "[CV] END ...............alpha=1, l1_ratio=0.2, max_iter=5000; total time=  14.4s\n",
            "[CV] END ...............alpha=1, l1_ratio=0.2, max_iter=5000; total time=  15.5s\n",
            "[CV] END ...............alpha=1, l1_ratio=0.2, max_iter=5000; total time=  15.6s\n",
            "[CV] END ...............alpha=1, l1_ratio=0.2, max_iter=7500; total time=  17.5s\n",
            "[CV] END ...............alpha=1, l1_ratio=0.2, max_iter=7500; total time=  12.5s\n",
            "[CV] END ...............alpha=1, l1_ratio=0.2, max_iter=7500; total time=  14.4s\n",
            "[CV] END ...............alpha=1, l1_ratio=0.2, max_iter=7500; total time=  15.7s\n",
            "[CV] END ...............alpha=1, l1_ratio=0.2, max_iter=7500; total time=  15.6s\n",
            "[CV] END ...............alpha=1, l1_ratio=0.5, max_iter=5000; total time=   4.5s\n",
            "[CV] END ...............alpha=1, l1_ratio=0.5, max_iter=5000; total time=   6.6s\n",
            "[CV] END ...............alpha=1, l1_ratio=0.5, max_iter=5000; total time=   6.4s\n",
            "[CV] END ...............alpha=1, l1_ratio=0.5, max_iter=5000; total time=   8.1s\n",
            "[CV] END ...............alpha=1, l1_ratio=0.5, max_iter=5000; total time=   5.1s\n",
            "[CV] END ...............alpha=1, l1_ratio=0.5, max_iter=7500; total time=   4.6s\n",
            "[CV] END ...............alpha=1, l1_ratio=0.5, max_iter=7500; total time=   6.2s\n",
            "[CV] END ...............alpha=1, l1_ratio=0.5, max_iter=7500; total time=   6.4s\n",
            "[CV] END ...............alpha=1, l1_ratio=0.5, max_iter=7500; total time=   7.8s\n",
            "[CV] END ...............alpha=1, l1_ratio=0.5, max_iter=7500; total time=   5.1s\n",
            "[CV] END ...............alpha=1, l1_ratio=0.8, max_iter=5000; total time=   3.8s\n",
            "[CV] END ...............alpha=1, l1_ratio=0.8, max_iter=5000; total time=   5.0s\n",
            "[CV] END ...............alpha=1, l1_ratio=0.8, max_iter=5000; total time=   4.4s\n",
            "[CV] END ...............alpha=1, l1_ratio=0.8, max_iter=5000; total time=   3.9s\n",
            "[CV] END ...............alpha=1, l1_ratio=0.8, max_iter=5000; total time=   2.2s\n",
            "[CV] END ...............alpha=1, l1_ratio=0.8, max_iter=7500; total time=   6.0s\n",
            "[CV] END ...............alpha=1, l1_ratio=0.8, max_iter=7500; total time=   2.7s\n",
            "[CV] END ...............alpha=1, l1_ratio=0.8, max_iter=7500; total time=   4.1s\n",
            "[CV] END ...............alpha=1, l1_ratio=0.8, max_iter=7500; total time=   4.9s\n",
            "[CV] END ...............alpha=1, l1_ratio=0.8, max_iter=7500; total time=   3.3s\n",
            "[CV] END ..............alpha=10, l1_ratio=0.2, max_iter=5000; total time=   1.8s\n",
            "[CV] END ..............alpha=10, l1_ratio=0.2, max_iter=5000; total time=   1.4s\n",
            "[CV] END ..............alpha=10, l1_ratio=0.2, max_iter=5000; total time=   1.7s\n",
            "[CV] END ..............alpha=10, l1_ratio=0.2, max_iter=5000; total time=   2.2s\n",
            "[CV] END ..............alpha=10, l1_ratio=0.2, max_iter=5000; total time=   1.9s\n",
            "[CV] END ..............alpha=10, l1_ratio=0.2, max_iter=7500; total time=   2.7s\n",
            "[CV] END ..............alpha=10, l1_ratio=0.2, max_iter=7500; total time=   2.6s\n",
            "[CV] END ..............alpha=10, l1_ratio=0.2, max_iter=7500; total time=   1.8s\n",
            "[CV] END ..............alpha=10, l1_ratio=0.2, max_iter=7500; total time=   2.2s\n",
            "[CV] END ..............alpha=10, l1_ratio=0.2, max_iter=7500; total time=   1.9s\n",
            "[CV] END ..............alpha=10, l1_ratio=0.5, max_iter=5000; total time=   1.4s\n",
            "[CV] END ..............alpha=10, l1_ratio=0.5, max_iter=5000; total time=   1.3s\n",
            "[CV] END ..............alpha=10, l1_ratio=0.5, max_iter=5000; total time=   1.4s\n",
            "[CV] END ..............alpha=10, l1_ratio=0.5, max_iter=5000; total time=   2.1s\n",
            "[CV] END ..............alpha=10, l1_ratio=0.5, max_iter=5000; total time=   3.3s\n",
            "[CV] END ..............alpha=10, l1_ratio=0.5, max_iter=7500; total time=   1.4s\n",
            "[CV] END ..............alpha=10, l1_ratio=0.5, max_iter=7500; total time=   1.3s\n",
            "[CV] END ..............alpha=10, l1_ratio=0.5, max_iter=7500; total time=   1.4s\n",
            "[CV] END ..............alpha=10, l1_ratio=0.5, max_iter=7500; total time=   1.3s\n",
            "[CV] END ..............alpha=10, l1_ratio=0.5, max_iter=7500; total time=   1.7s\n",
            "[CV] END ..............alpha=10, l1_ratio=0.8, max_iter=5000; total time=   1.0s\n",
            "[CV] END ..............alpha=10, l1_ratio=0.8, max_iter=5000; total time=   1.1s\n",
            "[CV] END ..............alpha=10, l1_ratio=0.8, max_iter=5000; total time=   1.4s\n",
            "[CV] END ..............alpha=10, l1_ratio=0.8, max_iter=5000; total time=   1.6s\n",
            "[CV] END ..............alpha=10, l1_ratio=0.8, max_iter=5000; total time=   1.5s\n",
            "[CV] END ..............alpha=10, l1_ratio=0.8, max_iter=7500; total time=   1.6s\n",
            "[CV] END ..............alpha=10, l1_ratio=0.8, max_iter=7500; total time=   1.1s\n",
            "[CV] END ..............alpha=10, l1_ratio=0.8, max_iter=7500; total time=   1.2s\n",
            "[CV] END ..............alpha=10, l1_ratio=0.8, max_iter=7500; total time=   1.1s\n",
            "[CV] END ..............alpha=10, l1_ratio=0.8, max_iter=7500; total time=   0.9s\n",
            "[CV] END .............alpha=100, l1_ratio=0.2, max_iter=5000; total time=   0.8s\n",
            "[CV] END .............alpha=100, l1_ratio=0.2, max_iter=5000; total time=   0.8s\n",
            "[CV] END .............alpha=100, l1_ratio=0.2, max_iter=5000; total time=   0.8s\n",
            "[CV] END .............alpha=100, l1_ratio=0.2, max_iter=5000; total time=   0.9s\n",
            "[CV] END .............alpha=100, l1_ratio=0.2, max_iter=5000; total time=   0.9s\n",
            "[CV] END .............alpha=100, l1_ratio=0.2, max_iter=7500; total time=   0.8s\n",
            "[CV] END .............alpha=100, l1_ratio=0.2, max_iter=7500; total time=   1.0s\n",
            "[CV] END .............alpha=100, l1_ratio=0.2, max_iter=7500; total time=   1.1s\n",
            "[CV] END .............alpha=100, l1_ratio=0.2, max_iter=7500; total time=   1.2s\n",
            "[CV] END .............alpha=100, l1_ratio=0.2, max_iter=7500; total time=   1.4s\n",
            "[CV] END .............alpha=100, l1_ratio=0.5, max_iter=5000; total time=   0.8s\n",
            "[CV] END .............alpha=100, l1_ratio=0.5, max_iter=5000; total time=   0.7s\n",
            "[CV] END .............alpha=100, l1_ratio=0.5, max_iter=5000; total time=   0.6s\n",
            "[CV] END .............alpha=100, l1_ratio=0.5, max_iter=5000; total time=   0.7s\n",
            "[CV] END .............alpha=100, l1_ratio=0.5, max_iter=5000; total time=   0.6s\n",
            "[CV] END .............alpha=100, l1_ratio=0.5, max_iter=7500; total time=   0.6s\n",
            "[CV] END .............alpha=100, l1_ratio=0.5, max_iter=7500; total time=   0.7s\n",
            "[CV] END .............alpha=100, l1_ratio=0.5, max_iter=7500; total time=   0.6s\n",
            "[CV] END .............alpha=100, l1_ratio=0.5, max_iter=7500; total time=   0.8s\n",
            "[CV] END .............alpha=100, l1_ratio=0.5, max_iter=7500; total time=   0.6s\n",
            "[CV] END .............alpha=100, l1_ratio=0.8, max_iter=5000; total time=   0.5s\n",
            "[CV] END .............alpha=100, l1_ratio=0.8, max_iter=5000; total time=   0.5s\n",
            "[CV] END .............alpha=100, l1_ratio=0.8, max_iter=5000; total time=   0.6s\n",
            "[CV] END .............alpha=100, l1_ratio=0.8, max_iter=5000; total time=   0.5s\n",
            "[CV] END .............alpha=100, l1_ratio=0.8, max_iter=5000; total time=   0.6s\n",
            "[CV] END .............alpha=100, l1_ratio=0.8, max_iter=7500; total time=   0.5s\n",
            "[CV] END .............alpha=100, l1_ratio=0.8, max_iter=7500; total time=   0.5s\n",
            "[CV] END .............alpha=100, l1_ratio=0.8, max_iter=7500; total time=   0.6s\n",
            "[CV] END .............alpha=100, l1_ratio=0.8, max_iter=7500; total time=   0.8s\n",
            "[CV] END .............alpha=100, l1_ratio=0.8, max_iter=7500; total time=   0.8s\n"
          ]
        },
        {
          "output_type": "execute_result",
          "data": {
            "text/plain": [
              "{'alpha': 10, 'l1_ratio': 0.5, 'max_iter': 5000}"
            ]
          },
          "metadata": {},
          "execution_count": 13
        }
      ]
    },
    {
      "cell_type": "code",
      "source": [
        "# test best model parameters on test data\n",
        "reg_best = reg.best_estimator_\n",
        "\n",
        "# get predicted values for test data\n",
        "y_pred = reg_best.predict(X_test)\n",
        "\n",
        "# get spearman's correlation\n",
        "res = stats.spearmanr(y_pred, y_test)\n",
        "res[0]                      # 0.3625960117868458"
      ],
      "metadata": {
        "id": "WeEowQubwVPi",
        "colab": {
          "base_uri": "https://localhost:8080/"
        },
        "outputId": "ee2fc018-a7a8-4da9-9df4-104f674fd7a8"
      },
      "execution_count": 18,
      "outputs": [
        {
          "output_type": "execute_result",
          "data": {
            "text/plain": [
              "0.3625960117868458"
            ]
          },
          "metadata": {},
          "execution_count": 18
        }
      ]
    }
  ]
}