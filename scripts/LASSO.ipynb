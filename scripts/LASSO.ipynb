{
  "nbformat": 4,
  "nbformat_minor": 0,
  "metadata": {
    "colab": {
      "provenance": []
    },
    "kernelspec": {
      "name": "python3",
      "display_name": "Python 3"
    },
    "language_info": {
      "name": "python"
    }
  },
  "cells": [
    {
      "cell_type": "code",
      "execution_count": 24,
      "metadata": {
        "id": "YCjAUn-Ogwtv"
      },
      "outputs": [],
      "source": [
        "# load libraries\n",
        "import pandas as pd\n",
        "import numpy as np\n",
        "from sklearn import linear_model\n",
        "from sklearn.model_selection import train_test_split, GridSearchCV\n",
        "from scipy import stats"
      ]
    },
    {
      "cell_type": "code",
      "source": [
        "# specify file paths\n",
        "train_df = \"train.csv\"\n",
        "train_targets = \"train_targets.csv\"\n",
        "\n",
        "# read in files\n",
        "X = pd.read_csv(train_df)\n",
        "X = X.iloc[:, 1:]                       # remove cell line labels\n",
        "y = pd.read_csv(train_targets)['AAC']   # keep only AAC column"
      ],
      "metadata": {
        "id": "FJUsIM2FlVxT"
      },
      "execution_count": 25,
      "outputs": []
    },
    {
      "cell_type": "code",
      "source": [
        "# split the training dataframe into train and val\n",
        "X_train, X_test, y_train, y_test = train_test_split(X, y, test_size=0.2, random_state=42)"
      ],
      "metadata": {
        "id": "hSD-lRBUvRQe"
      },
      "execution_count": 26,
      "outputs": []
    },
    {
      "cell_type": "code",
      "source": [
        "# initialize LASSO model\n",
        "lasso = linear_model.Lasso()\n",
        "\n",
        "# specify parameters for optimization\n",
        "parameters = {\n",
        "    'alpha': [0.1, 1, 10, 100],\n",
        "    'max_iter': [5000, 7500]\n",
        "  }\n",
        "\n",
        "# identify optimal parameters\n",
        "reg = GridSearchCV(\n",
        "    estimator = lasso,\n",
        "    param_grid = parameters,\n",
        "    verbose=2\n",
        "  )\n",
        "reg.fit(X_train, y_train)\n",
        "reg.best_params_                        # {'alpha': 10, 'max_iter': 5000}"
      ],
      "metadata": {
        "colab": {
          "base_uri": "https://localhost:8080/"
        },
        "id": "4oFBHcoXrWb2",
        "outputId": "de140004-664a-4398-b0c2-16d0fd1b11e8"
      },
      "execution_count": 27,
      "outputs": [
        {
          "output_type": "stream",
          "name": "stdout",
          "text": [
            "Fitting 5 folds for each of 8 candidates, totalling 40 fits\n",
            "[CV] END ...........................alpha=0.1, max_iter=5000; total time=  30.0s\n",
            "[CV] END ...........................alpha=0.1, max_iter=5000; total time=  28.3s\n",
            "[CV] END ...........................alpha=0.1, max_iter=5000; total time=  35.0s\n",
            "[CV] END ...........................alpha=0.1, max_iter=5000; total time=  30.4s\n",
            "[CV] END ...........................alpha=0.1, max_iter=5000; total time=  28.6s\n",
            "[CV] END ...........................alpha=0.1, max_iter=7500; total time=  31.5s\n",
            "[CV] END ...........................alpha=0.1, max_iter=7500; total time=  29.5s\n",
            "[CV] END ...........................alpha=0.1, max_iter=7500; total time=  30.3s\n",
            "[CV] END ...........................alpha=0.1, max_iter=7500; total time=  23.7s\n",
            "[CV] END ...........................alpha=0.1, max_iter=7500; total time=  23.9s\n",
            "[CV] END .............................alpha=1, max_iter=5000; total time=   6.3s\n",
            "[CV] END .............................alpha=1, max_iter=5000; total time=   2.0s\n",
            "[CV] END .............................alpha=1, max_iter=5000; total time=   2.1s\n",
            "[CV] END .............................alpha=1, max_iter=5000; total time=   3.0s\n",
            "[CV] END .............................alpha=1, max_iter=5000; total time=   4.5s\n",
            "[CV] END .............................alpha=1, max_iter=7500; total time=   5.2s\n",
            "[CV] END .............................alpha=1, max_iter=7500; total time=   2.0s\n",
            "[CV] END .............................alpha=1, max_iter=7500; total time=   2.1s\n",
            "[CV] END .............................alpha=1, max_iter=7500; total time=   2.7s\n",
            "[CV] END .............................alpha=1, max_iter=7500; total time=   3.1s\n",
            "[CV] END ............................alpha=10, max_iter=5000; total time=   1.1s\n",
            "[CV] END ............................alpha=10, max_iter=5000; total time=   1.6s\n",
            "[CV] END ............................alpha=10, max_iter=5000; total time=   2.0s\n",
            "[CV] END ............................alpha=10, max_iter=5000; total time=   1.0s\n",
            "[CV] END ............................alpha=10, max_iter=5000; total time=   0.7s\n",
            "[CV] END ............................alpha=10, max_iter=7500; total time=   0.8s\n",
            "[CV] END ............................alpha=10, max_iter=7500; total time=   1.1s\n",
            "[CV] END ............................alpha=10, max_iter=7500; total time=   1.1s\n",
            "[CV] END ............................alpha=10, max_iter=7500; total time=   1.1s\n",
            "[CV] END ............................alpha=10, max_iter=7500; total time=   0.7s\n",
            "[CV] END ...........................alpha=100, max_iter=5000; total time=   0.5s\n",
            "[CV] END ...........................alpha=100, max_iter=5000; total time=   0.5s\n",
            "[CV] END ...........................alpha=100, max_iter=5000; total time=   0.5s\n",
            "[CV] END ...........................alpha=100, max_iter=5000; total time=   0.6s\n",
            "[CV] END ...........................alpha=100, max_iter=5000; total time=   0.5s\n",
            "[CV] END ...........................alpha=100, max_iter=7500; total time=   0.6s\n",
            "[CV] END ...........................alpha=100, max_iter=7500; total time=   0.7s\n",
            "[CV] END ...........................alpha=100, max_iter=7500; total time=   0.7s\n",
            "[CV] END ...........................alpha=100, max_iter=7500; total time=   0.8s\n",
            "[CV] END ...........................alpha=100, max_iter=7500; total time=   0.7s\n"
          ]
        },
        {
          "output_type": "execute_result",
          "data": {
            "text/plain": [
              "{'alpha': 10, 'max_iter': 5000}"
            ]
          },
          "metadata": {},
          "execution_count": 27
        }
      ]
    },
    {
      "cell_type": "code",
      "source": [
        "# test best model parameters on test data\n",
        "reg_best = reg.best_estimator_\n",
        "\n",
        "# get predicted values for test data\n",
        "y_pred = reg_best.predict(X_test)\n",
        "\n",
        "# get spearman's correlation\n",
        "res = stats.spearmanr(y_pred, y_test)\n",
        "res[0]                                  # 0.3304392621434899"
      ],
      "metadata": {
        "colab": {
          "base_uri": "https://localhost:8080/"
        },
        "id": "WeEowQubwVPi",
        "outputId": "2a63e812-b6d2-43ed-c935-404451b85f08"
      },
      "execution_count": 30,
      "outputs": [
        {
          "output_type": "execute_result",
          "data": {
            "text/plain": [
              "0.3304392621434899"
            ]
          },
          "metadata": {},
          "execution_count": 30
        }
      ]
    }
  ]
}