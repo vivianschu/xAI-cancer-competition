{
 "cells": [
  {
   "cell_type": "code",
   "execution_count": 13,
   "metadata": {},
   "outputs": [],
   "source": [
    "import torch\n",
    "import torch.nn.functional as F\n",
    "from torch_geometric.nn import GCNConv, global_mean_pool\n",
    "from torch_geometric.data import Data\n",
    "from torch_geometric.loader import DataLoader\n",
    "import pandas as pd\n",
    "import numpy as np\n",
    "from sklearn.model_selection import train_test_split\n",
    "from scipy.stats import spearmanr\n",
    "import matplotlib.pyplot as plt"
   ]
  },
  {
   "cell_type": "code",
   "execution_count": 14,
   "metadata": {},
   "outputs": [],
   "source": [
    "# Load the datasets\n",
    "data_dir = \"/home/vivian.chu/vivian-sandbox/other/xAI-cancer-competition/.data\"\n",
    "train_data = pd.read_csv(f\"{data_dir}/train.csv\")\n",
    "train_targets = pd.read_csv(f\"{data_dir}/train_targets.csv\")\n",
    "test_data = pd.read_csv(f\"{data_dir}/test.csv\")"
   ]
  },
  {
   "cell_type": "code",
   "execution_count": 15,
   "metadata": {},
   "outputs": [],
   "source": [
    "# Clean and preprocess data\n",
    "train_data.rename(columns={'Unnamed: 0': 'sample'}, inplace=True)\n",
    "train_data['sample'] = train_data['sample'].astype(str)\n",
    "train_targets['sample'] = train_targets['sample'].astype(str)\n",
    "\n",
    "test_data.rename(columns={'Unnamed: 0': 'sample'}, inplace=True)\n",
    "test_data['sample'] = test_data['sampleId'].astype(str)"
   ]
  },
  {
   "cell_type": "code",
   "execution_count": 16,
   "metadata": {},
   "outputs": [],
   "source": [
    "# Merge train data and targets\n",
    "train_merged = pd.merge(train_data, train_targets, on='sample')\n",
    "\n",
    "# Create graph data\n",
    "features = train_merged.iloc[:, 1:-2].values  # Gene expression features\n",
    "targets = train_merged['AAC'].values          # AAC values\n",
    "tissue_types = train_merged['tissue'].values  # Tissue types"
   ]
  },
  {
   "cell_type": "code",
   "execution_count": 17,
   "metadata": {},
   "outputs": [],
   "source": [
    "# Split the data into training and validation sets\n",
    "X_train, X_val, y_train, y_val = train_test_split(features, targets, test_size=0.2, random_state=42)"
   ]
  },
  {
   "cell_type": "code",
   "execution_count": null,
   "metadata": {},
   "outputs": [],
   "source": [
    "# Creating a dummy adjacency matrix (you can replace this with a biologically meaningful one)\n",
    "num_genes = features.shape[1]\n",
    "adjacency_matrix = np.eye(num_genes)  # Identity matrix as a placeholder"
   ]
  },
  {
   "cell_type": "code",
   "execution_count": null,
   "metadata": {},
   "outputs": [],
   "source": [
    "# Convert adjacency matrix to edge indices for PyTorch Geometric\n",
    "edge_index = torch.tensor(np.array(np.nonzero(adjacency_matrix)), dtype=torch.long)"
   ]
  },
  {
   "cell_type": "code",
   "execution_count": 18,
   "metadata": {},
   "outputs": [],
   "source": [
    "# Create PyTorch Geometric data objects for training and validation\n",
    "graph_data_list_train = []\n",
    "for i in range(X_train.shape[0]):\n",
    "    x = torch.tensor(X_train[i], dtype=torch.float).view(-1, 1)  # Features for each gene (node)\n",
    "    y = torch.tensor([y_train[i]], dtype=torch.float)  # Target AAC value\n",
    "    data = Data(x=x, edge_index=edge_index, y=y)\n",
    "    graph_data_list_train.append(data)\n",
    "\n",
    "graph_data_list_val = []\n",
    "for i in range(X_val.shape[0]):\n",
    "    x = torch.tensor(X_val[i], dtype=torch.float).view(-1, 1)  # Features for each gene (node)\n",
    "    y = torch.tensor([y_val[i]], dtype=torch.float)  # Target AAC value\n",
    "    data = Data(x=x, edge_index=edge_index, y=y)\n",
    "    graph_data_list_val.append(data)"
   ]
  },
  {
   "cell_type": "code",
   "execution_count": null,
   "metadata": {},
   "outputs": [],
   "source": [
    "# DataLoader for batching\n",
    "data_loader_train = DataLoader(graph_data_list_train, batch_size=32, shuffle=True)\n",
    "data_loader_val = DataLoader(graph_data_list_val, batch_size=32, shuffle=False)"
   ]
  },
  {
   "cell_type": "code",
   "execution_count": 20,
   "metadata": {},
   "outputs": [],
   "source": [
    "# Define the Graph Neural Network model\n",
    "class GNN(torch.nn.Module):\n",
    "    def __init__(self, num_node_features):\n",
    "        super(GNN, self).__init__()\n",
    "        self.conv1 = GCNConv(num_node_features, 64)\n",
    "        self.conv2 = GCNConv(64, 64)\n",
    "        self.fc1 = torch.nn.Linear(64, 32)\n",
    "        self.fc2 = torch.nn.Linear(32, 1)\n",
    "\n",
    "    def forward(self, data):\n",
    "        x, edge_index, batch = data.x, data.edge_index, data.batch\n",
    "        \n",
    "        # Graph Convolutional Layers\n",
    "        x = F.relu(self.conv1(x, edge_index))\n",
    "        x = F.relu(self.conv2(x, edge_index))\n",
    "        \n",
    "        # Global Mean Pooling\n",
    "        x = global_mean_pool(x, batch)\n",
    "        \n",
    "        # Fully Connected Layers\n",
    "        x = F.relu(self.fc1(x))\n",
    "        x = self.fc2(x)\n",
    "        return x"
   ]
  },
  {
   "cell_type": "code",
   "execution_count": 21,
   "metadata": {},
   "outputs": [
    {
     "name": "stdout",
     "output_type": "stream",
     "text": [
      "Epoch 1, Loss: 0.0252, Spearman Train: 0.0215, Spearman Val: -0.0961\n",
      "Epoch 2, Loss: 0.0116, Spearman Train: 0.0228, Spearman Val: -0.0970\n",
      "Epoch 3, Loss: 0.0113, Spearman Train: 0.0286, Spearman Val: 0.0966\n",
      "Epoch 4, Loss: 0.0120, Spearman Train: 0.0660, Spearman Val: -0.1204\n",
      "Epoch 5, Loss: 0.0118, Spearman Train: -0.0114, Spearman Val: 0.0964\n",
      "Epoch 6, Loss: 0.0119, Spearman Train: 0.0125, Spearman Val: -0.0161\n",
      "Epoch 7, Loss: 0.0114, Spearman Train: 0.0049, Spearman Val: -0.0967\n",
      "Epoch 8, Loss: 0.0139, Spearman Train: 0.0050, Spearman Val: 0.0793\n",
      "Epoch 9, Loss: 0.0117, Spearman Train: 0.0998, Spearman Val: -0.0975\n",
      "Epoch 10, Loss: 0.0153, Spearman Train: -0.0211, Spearman Val: -0.0996\n"
     ]
    },
    {
     "ename": "KeyboardInterrupt",
     "evalue": "",
     "output_type": "error",
     "traceback": [
      "\u001b[0;31m---------------------------------------------------------------------------\u001b[0m",
      "\u001b[0;31mKeyboardInterrupt\u001b[0m                         Traceback (most recent call last)",
      "Cell \u001b[0;32mIn[21], line 21\u001b[0m\n\u001b[1;32m     19\u001b[0m out \u001b[38;5;241m=\u001b[39m model(data)\n\u001b[1;32m     20\u001b[0m loss \u001b[38;5;241m=\u001b[39m criterion(out\u001b[38;5;241m.\u001b[39mflatten(), data\u001b[38;5;241m.\u001b[39my)\n\u001b[0;32m---> 21\u001b[0m \u001b[43mloss\u001b[49m\u001b[38;5;241;43m.\u001b[39;49m\u001b[43mbackward\u001b[49m\u001b[43m(\u001b[49m\u001b[43m)\u001b[49m\n\u001b[1;32m     22\u001b[0m optimizer\u001b[38;5;241m.\u001b[39mstep()\n\u001b[1;32m     23\u001b[0m total_loss \u001b[38;5;241m+\u001b[39m\u001b[38;5;241m=\u001b[39m loss\u001b[38;5;241m.\u001b[39mitem()\n",
      "File \u001b[0;32m~/conda/envs/xai/lib/python3.10/site-packages/torch/_tensor.py:521\u001b[0m, in \u001b[0;36mTensor.backward\u001b[0;34m(self, gradient, retain_graph, create_graph, inputs)\u001b[0m\n\u001b[1;32m    511\u001b[0m \u001b[38;5;28;01mif\u001b[39;00m has_torch_function_unary(\u001b[38;5;28mself\u001b[39m):\n\u001b[1;32m    512\u001b[0m     \u001b[38;5;28;01mreturn\u001b[39;00m handle_torch_function(\n\u001b[1;32m    513\u001b[0m         Tensor\u001b[38;5;241m.\u001b[39mbackward,\n\u001b[1;32m    514\u001b[0m         (\u001b[38;5;28mself\u001b[39m,),\n\u001b[0;32m   (...)\u001b[0m\n\u001b[1;32m    519\u001b[0m         inputs\u001b[38;5;241m=\u001b[39minputs,\n\u001b[1;32m    520\u001b[0m     )\n\u001b[0;32m--> 521\u001b[0m \u001b[43mtorch\u001b[49m\u001b[38;5;241;43m.\u001b[39;49m\u001b[43mautograd\u001b[49m\u001b[38;5;241;43m.\u001b[39;49m\u001b[43mbackward\u001b[49m\u001b[43m(\u001b[49m\n\u001b[1;32m    522\u001b[0m \u001b[43m    \u001b[49m\u001b[38;5;28;43mself\u001b[39;49m\u001b[43m,\u001b[49m\u001b[43m \u001b[49m\u001b[43mgradient\u001b[49m\u001b[43m,\u001b[49m\u001b[43m \u001b[49m\u001b[43mretain_graph\u001b[49m\u001b[43m,\u001b[49m\u001b[43m \u001b[49m\u001b[43mcreate_graph\u001b[49m\u001b[43m,\u001b[49m\u001b[43m \u001b[49m\u001b[43minputs\u001b[49m\u001b[38;5;241;43m=\u001b[39;49m\u001b[43minputs\u001b[49m\n\u001b[1;32m    523\u001b[0m \u001b[43m\u001b[49m\u001b[43m)\u001b[49m\n",
      "File \u001b[0;32m~/conda/envs/xai/lib/python3.10/site-packages/torch/autograd/__init__.py:289\u001b[0m, in \u001b[0;36mbackward\u001b[0;34m(tensors, grad_tensors, retain_graph, create_graph, grad_variables, inputs)\u001b[0m\n\u001b[1;32m    284\u001b[0m     retain_graph \u001b[38;5;241m=\u001b[39m create_graph\n\u001b[1;32m    286\u001b[0m \u001b[38;5;66;03m# The reason we repeat the same comment below is that\u001b[39;00m\n\u001b[1;32m    287\u001b[0m \u001b[38;5;66;03m# some Python versions print out the first line of a multi-line function\u001b[39;00m\n\u001b[1;32m    288\u001b[0m \u001b[38;5;66;03m# calls in the traceback and some print out the last line\u001b[39;00m\n\u001b[0;32m--> 289\u001b[0m \u001b[43m_engine_run_backward\u001b[49m\u001b[43m(\u001b[49m\n\u001b[1;32m    290\u001b[0m \u001b[43m    \u001b[49m\u001b[43mtensors\u001b[49m\u001b[43m,\u001b[49m\n\u001b[1;32m    291\u001b[0m \u001b[43m    \u001b[49m\u001b[43mgrad_tensors_\u001b[49m\u001b[43m,\u001b[49m\n\u001b[1;32m    292\u001b[0m \u001b[43m    \u001b[49m\u001b[43mretain_graph\u001b[49m\u001b[43m,\u001b[49m\n\u001b[1;32m    293\u001b[0m \u001b[43m    \u001b[49m\u001b[43mcreate_graph\u001b[49m\u001b[43m,\u001b[49m\n\u001b[1;32m    294\u001b[0m \u001b[43m    \u001b[49m\u001b[43minputs\u001b[49m\u001b[43m,\u001b[49m\n\u001b[1;32m    295\u001b[0m \u001b[43m    \u001b[49m\u001b[43mallow_unreachable\u001b[49m\u001b[38;5;241;43m=\u001b[39;49m\u001b[38;5;28;43;01mTrue\u001b[39;49;00m\u001b[43m,\u001b[49m\n\u001b[1;32m    296\u001b[0m \u001b[43m    \u001b[49m\u001b[43maccumulate_grad\u001b[49m\u001b[38;5;241;43m=\u001b[39;49m\u001b[38;5;28;43;01mTrue\u001b[39;49;00m\u001b[43m,\u001b[49m\n\u001b[1;32m    297\u001b[0m \u001b[43m\u001b[49m\u001b[43m)\u001b[49m\n",
      "File \u001b[0;32m~/conda/envs/xai/lib/python3.10/site-packages/torch/autograd/graph.py:769\u001b[0m, in \u001b[0;36m_engine_run_backward\u001b[0;34m(t_outputs, *args, **kwargs)\u001b[0m\n\u001b[1;32m    767\u001b[0m     unregister_hooks \u001b[38;5;241m=\u001b[39m _register_logging_hooks_on_whole_graph(t_outputs)\n\u001b[1;32m    768\u001b[0m \u001b[38;5;28;01mtry\u001b[39;00m:\n\u001b[0;32m--> 769\u001b[0m     \u001b[38;5;28;01mreturn\u001b[39;00m \u001b[43mVariable\u001b[49m\u001b[38;5;241;43m.\u001b[39;49m\u001b[43m_execution_engine\u001b[49m\u001b[38;5;241;43m.\u001b[39;49m\u001b[43mrun_backward\u001b[49m\u001b[43m(\u001b[49m\u001b[43m  \u001b[49m\u001b[38;5;66;43;03m# Calls into the C++ engine to run the backward pass\u001b[39;49;00m\n\u001b[1;32m    770\u001b[0m \u001b[43m        \u001b[49m\u001b[43mt_outputs\u001b[49m\u001b[43m,\u001b[49m\u001b[43m \u001b[49m\u001b[38;5;241;43m*\u001b[39;49m\u001b[43margs\u001b[49m\u001b[43m,\u001b[49m\u001b[43m \u001b[49m\u001b[38;5;241;43m*\u001b[39;49m\u001b[38;5;241;43m*\u001b[39;49m\u001b[43mkwargs\u001b[49m\n\u001b[1;32m    771\u001b[0m \u001b[43m    \u001b[49m\u001b[43m)\u001b[49m  \u001b[38;5;66;03m# Calls into the C++ engine to run the backward pass\u001b[39;00m\n\u001b[1;32m    772\u001b[0m \u001b[38;5;28;01mfinally\u001b[39;00m:\n\u001b[1;32m    773\u001b[0m     \u001b[38;5;28;01mif\u001b[39;00m attach_logging_hooks:\n",
      "\u001b[0;31mKeyboardInterrupt\u001b[0m: "
     ]
    }
   ],
   "source": [
    "# Training the model\n",
    "device = torch.device('cuda' if torch.cuda.is_available() else 'cpu')\n",
    "model = GNN(num_node_features=1).to(device)\n",
    "optimizer = torch.optim.Adam(model.parameters(), lr=0.001)\n",
    "criterion = torch.nn.MSELoss()\n",
    "\n",
    "train_spearman = []\n",
    "val_spearman = []\n",
    "\n",
    "model.train()\n",
    "for epoch in range(100):\n",
    "    total_loss = 0\n",
    "    model.train()\n",
    "    true_values_train = []\n",
    "    predictions_train = []\n",
    "    for data in data_loader_train:\n",
    "        data = data.to(device)\n",
    "        optimizer.zero_grad()\n",
    "        out = model(data)\n",
    "        loss = criterion(out.flatten(), data.y)\n",
    "        loss.backward()\n",
    "        optimizer.step()\n",
    "        total_loss += loss.item()\n",
    "        \n",
    "        true_values_train.extend(data.y.cpu().detach().numpy())\n",
    "        predictions_train.extend(out.cpu().detach().numpy())\n",
    "    \n",
    "    # Calculate Spearman Correlation for training set\n",
    "    spearman_corr_train, _ = spearmanr(true_values_train, predictions_train)\n",
    "    train_spearman.append(spearman_corr_train)\n",
    "\n",
    "    # Validation phase\n",
    "    model.eval()\n",
    "    true_values_val = []\n",
    "    predictions_val = []\n",
    "    with torch.no_grad():\n",
    "        for data in data_loader_val:\n",
    "            data = data.to(device)\n",
    "            out = model(data)\n",
    "            true_values_val.extend(data.y.cpu().detach().numpy())\n",
    "            predictions_val.extend(out.cpu().detach().numpy())\n",
    "        \n",
    "    # Calculate Spearman Correlation for validation set\n",
    "    spearman_corr_val, _ = spearmanr(true_values_val, predictions_val)\n",
    "    val_spearman.append(spearman_corr_val)\n",
    "    \n",
    "    print(f'Epoch {epoch+1}, Loss: {total_loss/len(data_loader_train):.4f}, Spearman Train: {spearman_corr_train:.4f}, Spearman Val: {spearman_corr_val:.4f}')"
   ]
  },
  {
   "cell_type": "code",
   "execution_count": null,
   "metadata": {},
   "outputs": [],
   "source": [
    "# Predictions on the test set\n",
    "graph_data_list_test = []\n",
    "for i in range(test_data.shape[0]):\n",
    "    x = torch.tensor(test_data.iloc[i, 1:].values, dtype=torch.float).view(-1, 1)  # Features for each gene (node)\n",
    "    data = Data(x=x, edge_index=edge_index)\n",
    "    graph_data_list_test.append(data)\n",
    "\n",
    "data_loader_test = DataLoader(graph_data_list_test, batch_size=32, shuffle=False)\n",
    "\n",
    "model.eval()\n",
    "true_values_test = []  # Placeholder as we do not have true AAC values for test set\n",
    "predictions_test = []\n",
    "with torch.no_grad():\n",
    "    for data in data_loader_test:\n",
    "        data = data.to(device)\n",
    "        out = model(data)\n",
    "        predictions_test.extend(out.cpu().detach().numpy())\n",
    "\n",
    "# Plotting Spearman correlation of train, val, and test\n",
    "epochs = list(range(1, 101))\n",
    "plt.plot(epochs, train_spearman, label='Train Spearman Correlation')\n",
    "plt.plot(epochs, val_spearman, label='Validation Spearman Correlation')\n",
    "plt.xlabel('Epochs')\n",
    "plt.ylabel('Spearman Correlation')\n",
    "plt.title('Spearman Correlation of Train and Validation Sets Over Epochs')\n",
    "plt.legend()\n",
    "plt.show()"
   ]
  }
 ],
 "metadata": {
  "kernelspec": {
   "display_name": "xai",
   "language": "python",
   "name": "python3"
  },
  "language_info": {
   "codemirror_mode": {
    "name": "ipython",
    "version": 3
   },
   "file_extension": ".py",
   "mimetype": "text/x-python",
   "name": "python",
   "nbconvert_exporter": "python",
   "pygments_lexer": "ipython3",
   "version": "3.10.15"
  }
 },
 "nbformat": 4,
 "nbformat_minor": 2
}
